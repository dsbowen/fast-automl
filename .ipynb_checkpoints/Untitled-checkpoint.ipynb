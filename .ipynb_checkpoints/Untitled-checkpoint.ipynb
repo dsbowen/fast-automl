{
 "cells": [
  {
   "cell_type": "markdown",
   "metadata": {},
   "source": [
    "Paper: https://www.sciencedirect.com/science/article/pii/S0022103118307315\n",
    "\n",
    "Data: https://osf.io/7bux9/"
   ]
  },
  {
   "cell_type": "code",
   "execution_count": 1,
   "metadata": {
    "ExecuteTime": {
     "end_time": "2020-12-09T22:18:13.308998Z",
     "start_time": "2020-12-09T22:18:12.844137Z"
    }
   },
   "outputs": [],
   "source": [
    "import pandas as pd\n",
    "import numpy as np\n",
    "\n",
    "import random\n",
    "\n",
    "np.random.seed(0)\n",
    "random.seed(0)"
   ]
  },
  {
   "cell_type": "code",
   "execution_count": 2,
   "metadata": {
    "ExecuteTime": {
     "end_time": "2020-12-09T22:18:14.445195Z",
     "start_time": "2020-12-09T22:18:13.311292Z"
    }
   },
   "outputs": [
    {
     "name": "stdout",
     "output_type": "stream",
     "text": [
      "N=999\n"
     ]
    },
    {
     "data": {
      "text/html": [
       "<div>\n",
       "<style scoped>\n",
       "    .dataframe tbody tr th:only-of-type {\n",
       "        vertical-align: middle;\n",
       "    }\n",
       "\n",
       "    .dataframe tbody tr th {\n",
       "        vertical-align: top;\n",
       "    }\n",
       "\n",
       "    .dataframe thead th {\n",
       "        text-align: right;\n",
       "    }\n",
       "</style>\n",
       "<table border=\"1\" class=\"dataframe\">\n",
       "  <thead>\n",
       "    <tr style=\"text-align: right;\">\n",
       "      <th></th>\n",
       "      <th>Date</th>\n",
       "      <th>Time</th>\n",
       "      <th>GroupSize</th>\n",
       "      <th>SessionNo</th>\n",
       "      <th>Confederate</th>\n",
       "      <th>ResearchAssistant</th>\n",
       "      <th>Level</th>\n",
       "      <th>LevelName</th>\n",
       "      <th>ParticipantNo</th>\n",
       "      <th>Leader1</th>\n",
       "      <th>...</th>\n",
       "      <th>Capable5</th>\n",
       "      <th>Competent6</th>\n",
       "      <th>Capable6</th>\n",
       "      <th>Age</th>\n",
       "      <th>Gender</th>\n",
       "      <th>KnowsConfederate</th>\n",
       "      <th>OpenEndedResponse1</th>\n",
       "      <th>OpenEndedResponse2</th>\n",
       "      <th>Suspicious1</th>\n",
       "      <th>Suspicious2</th>\n",
       "    </tr>\n",
       "  </thead>\n",
       "  <tbody>\n",
       "    <tr>\n",
       "      <th>0</th>\n",
       "      <td>2016-05-23</td>\n",
       "      <td>10:00:00</td>\n",
       "      <td>4.0</td>\n",
       "      <td>1.0</td>\n",
       "      <td>1.0</td>\n",
       "      <td>1.0</td>\n",
       "      <td>1.0</td>\n",
       "      <td>low anger</td>\n",
       "      <td>3.0</td>\n",
       "      <td>2.0</td>\n",
       "      <td>...</td>\n",
       "      <td>4.0</td>\n",
       "      <td>4.0</td>\n",
       "      <td>4.0</td>\n",
       "      <td>57.0</td>\n",
       "      <td>1.0</td>\n",
       "      <td>0.0</td>\n",
       "      <td>Very interesting</td>\n",
       "      <td>incident in lab study</td>\n",
       "      <td>0.0</td>\n",
       "      <td>0.0</td>\n",
       "    </tr>\n",
       "    <tr>\n",
       "      <th>1</th>\n",
       "      <td>2016-05-23</td>\n",
       "      <td>10:00:00</td>\n",
       "      <td>4.0</td>\n",
       "      <td>1.0</td>\n",
       "      <td>1.0</td>\n",
       "      <td>1.0</td>\n",
       "      <td>1.0</td>\n",
       "      <td>low anger</td>\n",
       "      <td>4.0</td>\n",
       "      <td>2.0</td>\n",
       "      <td>...</td>\n",
       "      <td>5.0</td>\n",
       "      <td>5.0</td>\n",
       "      <td>5.0</td>\n",
       "      <td>21.0</td>\n",
       "      <td>2.0</td>\n",
       "      <td>0.0</td>\n",
       "      <td>After the group elects a team leader, they wil...</td>\n",
       "      <td>The soda spill and reaction of Participant 1 b...</td>\n",
       "      <td>0.0</td>\n",
       "      <td>0.0</td>\n",
       "    </tr>\n",
       "    <tr>\n",
       "      <th>2</th>\n",
       "      <td>2016-05-23</td>\n",
       "      <td>10:00:00</td>\n",
       "      <td>4.0</td>\n",
       "      <td>1.0</td>\n",
       "      <td>1.0</td>\n",
       "      <td>1.0</td>\n",
       "      <td>1.0</td>\n",
       "      <td>low anger</td>\n",
       "      <td>5.0</td>\n",
       "      <td>7.0</td>\n",
       "      <td>...</td>\n",
       "      <td>NaN</td>\n",
       "      <td>2.0</td>\n",
       "      <td>7.0</td>\n",
       "      <td>23.0</td>\n",
       "      <td>1.0</td>\n",
       "      <td>0.0</td>\n",
       "      <td>If it's the Math Test Study, I think I'll do i...</td>\n",
       "      <td>At the beginning of the survey, No.2 participa...</td>\n",
       "      <td>0.0</td>\n",
       "      <td>0.0</td>\n",
       "    </tr>\n",
       "    <tr>\n",
       "      <th>3</th>\n",
       "      <td>2016-05-23</td>\n",
       "      <td>10:00:00</td>\n",
       "      <td>4.0</td>\n",
       "      <td>1.0</td>\n",
       "      <td>1.0</td>\n",
       "      <td>1.0</td>\n",
       "      <td>1.0</td>\n",
       "      <td>low anger</td>\n",
       "      <td>6.0</td>\n",
       "      <td>3.0</td>\n",
       "      <td>...</td>\n",
       "      <td>4.0</td>\n",
       "      <td>NaN</td>\n",
       "      <td>NaN</td>\n",
       "      <td>20.0</td>\n",
       "      <td>2.0</td>\n",
       "      <td>0.0</td>\n",
       "      <td>This study was intended to discern who is seen...</td>\n",
       "      <td>When #2 knocked over the drink onto #1's phone...</td>\n",
       "      <td>0.0</td>\n",
       "      <td>0.0</td>\n",
       "    </tr>\n",
       "    <tr>\n",
       "      <th>4</th>\n",
       "      <td>2016-05-23</td>\n",
       "      <td>10:30:00</td>\n",
       "      <td>4.0</td>\n",
       "      <td>2.0</td>\n",
       "      <td>1.0</td>\n",
       "      <td>1.0</td>\n",
       "      <td>1.0</td>\n",
       "      <td>low anger</td>\n",
       "      <td>3.0</td>\n",
       "      <td>1.0</td>\n",
       "      <td>...</td>\n",
       "      <td>5.0</td>\n",
       "      <td>5.0</td>\n",
       "      <td>5.0</td>\n",
       "      <td>22.0</td>\n",
       "      <td>2.0</td>\n",
       "      <td>0.0</td>\n",
       "      <td>This study measured who we would want as a gro...</td>\n",
       "      <td>Participant #4 didn't realize the line forming...</td>\n",
       "      <td>0.0</td>\n",
       "      <td>0.0</td>\n",
       "    </tr>\n",
       "  </tbody>\n",
       "</table>\n",
       "<p>5 rows × 34 columns</p>\n",
       "</div>"
      ],
      "text/plain": [
       "        Date      Time  GroupSize  SessionNo  Confederate  ResearchAssistant  \\\n",
       "0 2016-05-23  10:00:00        4.0        1.0          1.0                1.0   \n",
       "1 2016-05-23  10:00:00        4.0        1.0          1.0                1.0   \n",
       "2 2016-05-23  10:00:00        4.0        1.0          1.0                1.0   \n",
       "3 2016-05-23  10:00:00        4.0        1.0          1.0                1.0   \n",
       "4 2016-05-23  10:30:00        4.0        2.0          1.0                1.0   \n",
       "\n",
       "   Level  LevelName  ParticipantNo  Leader1  ...  Capable5 Competent6  \\\n",
       "0    1.0  low anger            3.0      2.0  ...       4.0        4.0   \n",
       "1    1.0  low anger            4.0      2.0  ...       5.0        5.0   \n",
       "2    1.0  low anger            5.0      7.0  ...       NaN        2.0   \n",
       "3    1.0  low anger            6.0      3.0  ...       4.0        NaN   \n",
       "4    1.0  low anger            3.0      1.0  ...       5.0        5.0   \n",
       "\n",
       "  Capable6   Age  Gender  KnowsConfederate  \\\n",
       "0      4.0  57.0     1.0               0.0   \n",
       "1      5.0  21.0     2.0               0.0   \n",
       "2      7.0  23.0     1.0               0.0   \n",
       "3      NaN  20.0     2.0               0.0   \n",
       "4      5.0  22.0     2.0               0.0   \n",
       "\n",
       "                                  OpenEndedResponse1  \\\n",
       "0                                   Very interesting   \n",
       "1  After the group elects a team leader, they wil...   \n",
       "2  If it's the Math Test Study, I think I'll do i...   \n",
       "3  This study was intended to discern who is seen...   \n",
       "4  This study measured who we would want as a gro...   \n",
       "\n",
       "                                  OpenEndedResponse2  Suspicious1  Suspicious2  \n",
       "0                              incident in lab study          0.0          0.0  \n",
       "1  The soda spill and reaction of Participant 1 b...          0.0          0.0  \n",
       "2  At the beginning of the survey, No.2 participa...          0.0          0.0  \n",
       "3  When #2 knocked over the drink onto #1's phone...          0.0          0.0  \n",
       "4  Participant #4 didn't realize the line forming...          0.0          0.0  \n",
       "\n",
       "[5 rows x 34 columns]"
      ]
     },
     "execution_count": 2,
     "metadata": {},
     "output_type": "execute_result"
    }
   ],
   "source": [
    "df = pd.read_excel('anger_and_status.xlsx', sheet_name='Study 1 Data')\n",
    "print('N={}'.format(len(df)))\n",
    "df.head()"
   ]
  },
  {
   "cell_type": "code",
   "execution_count": 3,
   "metadata": {
    "ExecuteTime": {
     "end_time": "2020-12-09T22:18:14.460975Z",
     "start_time": "2020-12-09T22:18:14.447963Z"
    }
   },
   "outputs": [
    {
     "name": "stdout",
     "output_type": "stream",
     "text": [
      "N=135\n"
     ]
    }
   ],
   "source": [
    "# drop participants who know confederate or are suspicious\n",
    "df = df[(df.KnowsConfederate!=1) & (df.Suspicious1 != 1) & (df.Suspicious2 != 1)]\n",
    "# drop participants without gender or age\n",
    "df = df.dropna(subset=['Gender', 'Age'])\n",
    "print('N={}'.format(len(df)))"
   ]
  },
  {
   "cell_type": "code",
   "execution_count": 4,
   "metadata": {
    "ExecuteTime": {
     "end_time": "2020-12-09T22:18:14.517779Z",
     "start_time": "2020-12-09T22:18:14.466793Z"
    }
   },
   "outputs": [
    {
     "data": {
      "text/html": [
       "<div>\n",
       "<style scoped>\n",
       "    .dataframe tbody tr th:only-of-type {\n",
       "        vertical-align: middle;\n",
       "    }\n",
       "\n",
       "    .dataframe tbody tr th {\n",
       "        vertical-align: top;\n",
       "    }\n",
       "\n",
       "    .dataframe thead th {\n",
       "        text-align: right;\n",
       "    }\n",
       "</style>\n",
       "<table border=\"1\" class=\"dataframe\">\n",
       "  <thead>\n",
       "    <tr style=\"text-align: right;\">\n",
       "      <th></th>\n",
       "      <th>Male</th>\n",
       "      <th>Age</th>\n",
       "      <th>HighAnger</th>\n",
       "      <th>Leader1</th>\n",
       "    </tr>\n",
       "  </thead>\n",
       "  <tbody>\n",
       "    <tr>\n",
       "      <th>count</th>\n",
       "      <td>135.000000</td>\n",
       "      <td>135.000000</td>\n",
       "      <td>135.000000</td>\n",
       "      <td>135.000000</td>\n",
       "    </tr>\n",
       "    <tr>\n",
       "      <th>mean</th>\n",
       "      <td>0.429630</td>\n",
       "      <td>26.977778</td>\n",
       "      <td>0.481481</td>\n",
       "      <td>2.266667</td>\n",
       "    </tr>\n",
       "    <tr>\n",
       "      <th>std</th>\n",
       "      <td>0.496867</td>\n",
       "      <td>11.081426</td>\n",
       "      <td>0.501518</td>\n",
       "      <td>1.565486</td>\n",
       "    </tr>\n",
       "    <tr>\n",
       "      <th>min</th>\n",
       "      <td>0.000000</td>\n",
       "      <td>18.000000</td>\n",
       "      <td>0.000000</td>\n",
       "      <td>1.000000</td>\n",
       "    </tr>\n",
       "    <tr>\n",
       "      <th>25%</th>\n",
       "      <td>0.000000</td>\n",
       "      <td>20.000000</td>\n",
       "      <td>0.000000</td>\n",
       "      <td>1.000000</td>\n",
       "    </tr>\n",
       "    <tr>\n",
       "      <th>50%</th>\n",
       "      <td>0.000000</td>\n",
       "      <td>22.000000</td>\n",
       "      <td>0.000000</td>\n",
       "      <td>2.000000</td>\n",
       "    </tr>\n",
       "    <tr>\n",
       "      <th>75%</th>\n",
       "      <td>1.000000</td>\n",
       "      <td>27.500000</td>\n",
       "      <td>1.000000</td>\n",
       "      <td>3.000000</td>\n",
       "    </tr>\n",
       "    <tr>\n",
       "      <th>max</th>\n",
       "      <td>1.000000</td>\n",
       "      <td>61.000000</td>\n",
       "      <td>1.000000</td>\n",
       "      <td>7.000000</td>\n",
       "    </tr>\n",
       "  </tbody>\n",
       "</table>\n",
       "</div>"
      ],
      "text/plain": [
       "             Male         Age   HighAnger     Leader1\n",
       "count  135.000000  135.000000  135.000000  135.000000\n",
       "mean     0.429630   26.977778    0.481481    2.266667\n",
       "std      0.496867   11.081426    0.501518    1.565486\n",
       "min      0.000000   18.000000    0.000000    1.000000\n",
       "25%      0.000000   20.000000    0.000000    1.000000\n",
       "50%      0.000000   22.000000    0.000000    2.000000\n",
       "75%      1.000000   27.500000    1.000000    3.000000\n",
       "max      1.000000   61.000000    1.000000    7.000000"
      ]
     },
     "execution_count": 4,
     "metadata": {},
     "output_type": "execute_result"
    }
   ],
   "source": [
    "df['Male'] = (df.Gender == 1).astype(int)\n",
    "df['HighAnger'] = (df.LevelName == 'high anger').astype(int)\n",
    "df = df[['Male', 'Age', 'HighAnger', 'Leader1']]\n",
    "df.describe()"
   ]
  },
  {
   "cell_type": "code",
   "execution_count": 5,
   "metadata": {
    "ExecuteTime": {
     "end_time": "2020-12-09T22:18:15.480175Z",
     "start_time": "2020-12-09T22:18:14.519462Z"
    }
   },
   "outputs": [
    {
     "data": {
      "text/plain": [
       "<AxesSubplot:xlabel='Leader1', ylabel='Density'>"
      ]
     },
     "execution_count": 5,
     "metadata": {},
     "output_type": "execute_result"
    },
    {
     "data": {
      "image/png": "[encoded data removed]",
      "text/plain": [
       "<Figure size 432x288 with 1 Axes>"
      ]
     },
     "metadata": {
      "needs_background": "light"
     },
     "output_type": "display_data"
    }
   ],
   "source": [
    "import matplotlib.pyplot as plt\n",
    "import seaborn as sns\n",
    "\n",
    "sns.histplot(df, x='Leader1', hue='HighAnger', stat='density',discrete=True, multiple='dodge', shrink=.8)"
   ]
  },
  {
   "cell_type": "code",
   "execution_count": 6,
   "metadata": {
    "ExecuteTime": {
     "end_time": "2020-12-09T22:18:15.647908Z",
     "start_time": "2020-12-09T22:18:15.484508Z"
    }
   },
   "outputs": [],
   "source": [
    "from sklearn.preprocessing import StandardScaler\n",
    "\n",
    "scaler = StandardScaler()\n",
    "X = scaler.fit_transform(df[['Male', 'Age', 'HighAnger']])\n",
    "X_ha = df.HighAnger.values.reshape(-1, 1)\n",
    "y = df.Leader1.values"
   ]
  },
  {
   "cell_type": "code",
   "execution_count": 7,
   "metadata": {
    "ExecuteTime": {
     "end_time": "2020-12-09T22:18:15.702062Z",
     "start_time": "2020-12-09T22:18:15.649966Z"
    }
   },
   "outputs": [
    {
     "data": {
      "text/plain": [
       "10"
      ]
     },
     "execution_count": 7,
     "metadata": {},
     "output_type": "execute_result"
    }
   ],
   "source": [
    "from sklearn.metrics import accuracy_score\n",
    "from sklearn.model_selection import KFold\n",
    "from sklearn.utils.class_weight import compute_sample_weight\n",
    "\n",
    "def fit_score(clf):\n",
    "    print('\\nClassifier', clf)\n",
    "    print('Cross val score condition only {:.4f}'.format(compute_xval_score(clf, X_ha, y)))\n",
    "    print('Cross val score all vars {:.4f}'.format(compute_xval_score(clf, X, y)))\n",
    "\n",
    "def compute_xval_score(clf, X, y):\n",
    "    score = np.array([\n",
    "        compute_fold_score(clf, X, y, train_idx, test_idx) for train_idx, test_idx in kf.split(X)\n",
    "    ])\n",
    "    return score.mean()\n",
    "\n",
    "def compute_fold_score(clf, X, y, train_idx, test_idx):\n",
    "    X_train, X_test = X[train_idx], X[test_idx]\n",
    "    y_train, y_test = y[train_idx], y[test_idx]\n",
    "    weight_train, weight_test = compute_sample_weight('balanced', y_train), compute_sample_weight('balanced', y_test)\n",
    "    try:\n",
    "        clf.fit(X_train, y_train, sample_weight=weight_train)\n",
    "    except:\n",
    "        clf.fit(X_train, y_train)\n",
    "    return accuracy_score(y_test, clf.predict(X_test), sample_weight=weight_test)\n",
    "\n",
    "kf = KFold(10, shuffle=True)\n",
    "kf.get_n_splits(X)"
   ]
  },
  {
   "cell_type": "code",
   "execution_count": 8,
   "metadata": {
    "ExecuteTime": {
     "end_time": "2020-12-09T22:18:44.180446Z",
     "start_time": "2020-12-09T22:18:15.705801Z"
    },
    "scrolled": false
   },
   "outputs": [
    {
     "name": "stdout",
     "output_type": "stream",
     "text": [
      "\n",
      "Classifier XGBClassifier(base_score=None, booster=None, colsample_bylevel=None,\n",
      "              colsample_bynode=None, colsample_bytree=None, gamma=None,\n",
      "              gpu_id=None, importance_type='gain', interaction_constraints=None,\n",
      "              learning_rate=None, max_delta_step=None, max_depth=None,\n",
      "              min_child_weight=None, missing=nan, monotone_constraints=None,\n",
      "              n_estimators=100, n_jobs=None, num_parallel_tree=None,\n",
      "              random_state=None, reg_alpha=None, reg_lambda=None,\n",
      "              scale_pos_weight=None, subsample=None, tree_method=None,\n",
      "              validate_parameters=None, verbosity=None)\n",
      "[17:18:15] WARNING: ../src/learner.cc:1061: Starting in XGBoost 1.3.0, the default evaluation metric used with the objective 'multi:softprob' was changed from 'merror' to 'mlogloss'. Explicitly set eval_metric if you'd like to restore the old behavior.\n",
      "[17:18:15] WARNING: ../src/learner.cc:1061: Starting in XGBoost 1.3.0, the default evaluation metric used with the objective 'multi:softprob' was changed from 'merror' to 'mlogloss'. Explicitly set eval_metric if you'd like to restore the old behavior.\n",
      "[17:18:16] WARNING: ../src/learner.cc:1061: Starting in XGBoost 1.3.0, the default evaluation metric used with the objective 'multi:softprob' was changed from 'merror' to 'mlogloss'. Explicitly set eval_metric if you'd like to restore the old behavior.\n"
     ]
    },
    {
     "name": "stderr",
     "output_type": "stream",
     "text": [
      "/home/dsbowen/individual-diff/venv/lib/python3.6/site-packages/xgboost/sklearn.py:888: UserWarning: The use of label encoder in XGBClassifier is deprecated and will be removed in a future release. To remove this warning, do the following: 1) Pass option use_label_encoder=False when constructing XGBClassifier object; and 2) Encode your labels (y) as integers starting with 0, i.e. 0, 1, 2, ..., [num_class - 1].\n",
      "  warnings.warn(label_encoder_deprecation_msg, UserWarning)\n"
     ]
    },
    {
     "name": "stdout",
     "output_type": "stream",
     "text": [
      "[17:18:16] WARNING: ../src/learner.cc:1061: Starting in XGBoost 1.3.0, the default evaluation metric used with the objective 'multi:softprob' was changed from 'merror' to 'mlogloss'. Explicitly set eval_metric if you'd like to restore the old behavior.\n",
      "[17:18:16] WARNING: ../src/learner.cc:1061: Starting in XGBoost 1.3.0, the default evaluation metric used with the objective 'multi:softprob' was changed from 'merror' to 'mlogloss'. Explicitly set eval_metric if you'd like to restore the old behavior.\n",
      "[17:18:16] WARNING: ../src/learner.cc:1061: Starting in XGBoost 1.3.0, the default evaluation metric used with the objective 'multi:softprob' was changed from 'merror' to 'mlogloss'. Explicitly set eval_metric if you'd like to restore the old behavior.\n",
      "[17:18:16] WARNING: ../src/learner.cc:1061: Starting in XGBoost 1.3.0, the default evaluation metric used with the objective 'multi:softprob' was changed from 'merror' to 'mlogloss'. Explicitly set eval_metric if you'd like to restore the old behavior.\n",
      "[17:18:16] WARNING: ../src/learner.cc:1061: Starting in XGBoost 1.3.0, the default evaluation metric used with the objective 'multi:softprob' was changed from 'merror' to 'mlogloss'. Explicitly set eval_metric if you'd like to restore the old behavior.\n",
      "[17:18:16] WARNING: ../src/learner.cc:1061: Starting in XGBoost 1.3.0, the default evaluation metric used with the objective 'multi:softprob' was changed from 'merror' to 'mlogloss'. Explicitly set eval_metric if you'd like to restore the old behavior.\n",
      "[17:18:16] WARNING: ../src/learner.cc:1061: Starting in XGBoost 1.3.0, the default evaluation metric used with the objective 'multi:softprob' was changed from 'merror' to 'mlogloss'. Explicitly set eval_metric if you'd like to restore the old behavior.\n",
      "Cross val score condition only 0.1568\n",
      "[17:18:16] WARNING: ../src/learner.cc:1061: Starting in XGBoost 1.3.0, the default evaluation metric used with the objective 'multi:softprob' was changed from 'merror' to 'mlogloss'. Explicitly set eval_metric if you'd like to restore the old behavior.\n",
      "[17:18:16] WARNING: ../src/learner.cc:1061: Starting in XGBoost 1.3.0, the default evaluation metric used with the objective 'multi:softprob' was changed from 'merror' to 'mlogloss'. Explicitly set eval_metric if you'd like to restore the old behavior.\n",
      "[17:18:17] WARNING: ../src/learner.cc:1061: Starting in XGBoost 1.3.0, the default evaluation metric used with the objective 'multi:softprob' was changed from 'merror' to 'mlogloss'. Explicitly set eval_metric if you'd like to restore the old behavior.\n",
      "[17:18:17] WARNING: ../src/learner.cc:1061: Starting in XGBoost 1.3.0, the default evaluation metric used with the objective 'multi:softprob' was changed from 'merror' to 'mlogloss'. Explicitly set eval_metric if you'd like to restore the old behavior.\n",
      "[17:18:17] WARNING: ../src/learner.cc:1061: Starting in XGBoost 1.3.0, the default evaluation metric used with the objective 'multi:softprob' was changed from 'merror' to 'mlogloss'. Explicitly set eval_metric if you'd like to restore the old behavior.\n",
      "[17:18:17] WARNING: ../src/learner.cc:1061: Starting in XGBoost 1.3.0, the default evaluation metric used with the objective 'multi:softprob' was changed from 'merror' to 'mlogloss'. Explicitly set eval_metric if you'd like to restore the old behavior.\n",
      "[17:18:17] WARNING: ../src/learner.cc:1061: Starting in XGBoost 1.3.0, the default evaluation metric used with the objective 'multi:softprob' was changed from 'merror' to 'mlogloss'. Explicitly set eval_metric if you'd like to restore the old behavior.\n",
      "[17:18:17] WARNING: ../src/learner.cc:1061: Starting in XGBoost 1.3.0, the default evaluation metric used with the objective 'multi:softprob' was changed from 'merror' to 'mlogloss'. Explicitly set eval_metric if you'd like to restore the old behavior.\n",
      "[17:18:18] WARNING: ../src/learner.cc:1061: Starting in XGBoost 1.3.0, the default evaluation metric used with the objective 'multi:softprob' was changed from 'merror' to 'mlogloss'. Explicitly set eval_metric if you'd like to restore the old behavior.\n",
      "[17:18:18] WARNING: ../src/learner.cc:1061: Starting in XGBoost 1.3.0, the default evaluation metric used with the objective 'multi:softprob' was changed from 'merror' to 'mlogloss'. Explicitly set eval_metric if you'd like to restore the old behavior.\n",
      "Cross val score all vars 0.2405\n",
      "\n",
      "Classifier LogisticRegression()\n",
      "Cross val score condition only 0.1672\n",
      "Cross val score all vars 0.1997\n",
      "\n",
      "Classifier KNeighborsClassifier(n_neighbors=3)\n",
      "Cross val score condition only 0.2214\n",
      "Cross val score all vars 0.2327\n",
      "\n",
      "Classifier SVC(C=0.025, kernel='linear')\n",
      "Cross val score condition only 0.1742\n",
      "Cross val score all vars 0.1251\n",
      "\n",
      "Classifier SVC(C=1, gamma=2)\n",
      "Cross val score condition only 0.1446\n",
      "Cross val score all vars 0.2423\n",
      "\n",
      "Classifier GaussianProcessClassifier(kernel=1**2 * RBF(length_scale=1))\n",
      "Cross val score condition only 0.2367\n",
      "Cross val score all vars 0.2394\n",
      "\n",
      "Classifier DecisionTreeClassifier(max_depth=3)\n",
      "Cross val score condition only 0.1625\n",
      "Cross val score all vars 0.1365\n",
      "\n",
      "Classifier RandomForestClassifier(max_depth=5, max_features=1, n_estimators=10)\n",
      "Cross val score condition only 0.1330\n",
      "Cross val score all vars 0.2266\n",
      "\n",
      "Classifier MLPClassifier(alpha=1, max_iter=1000)\n",
      "Cross val score condition only 0.2133\n",
      "Cross val score all vars 0.2504\n",
      "\n",
      "Classifier AdaBoostClassifier()\n",
      "Cross val score condition only 0.1369\n",
      "Cross val score all vars 0.1668\n",
      "\n",
      "Classifier GaussianNB()\n",
      "Cross val score condition only 0.1587\n",
      "Cross val score all vars 0.1918\n"
     ]
    },
    {
     "data": {
      "text/plain": [
       "[None, None, None, None, None, None, None, None, None, None, None]"
      ]
     },
     "execution_count": 8,
     "metadata": {},
     "output_type": "execute_result"
    }
   ],
   "source": [
    "import xgboost as xgb\n",
    "from sklearn.model_selection import cross_val_score\n",
    "from sklearn.linear_model import LogisticRegression\n",
    "from sklearn.neural_network import MLPClassifier\n",
    "from sklearn.neighbors import KNeighborsClassifier\n",
    "from sklearn.svm import SVC\n",
    "from sklearn.gaussian_process import GaussianProcessClassifier\n",
    "from sklearn.gaussian_process.kernels import RBF\n",
    "from sklearn.tree import DecisionTreeClassifier\n",
    "from sklearn.ensemble import RandomForestClassifier, AdaBoostClassifier\n",
    "from sklearn.naive_bayes import GaussianNB\n",
    "\n",
    "classifiers = [\n",
    "    xgb.XGBClassifier(),\n",
    "    LogisticRegression(),\n",
    "    KNeighborsClassifier(3),\n",
    "    SVC(kernel=\"linear\", C=0.025),\n",
    "    SVC(gamma=2, C=1),\n",
    "    GaussianProcessClassifier(1.0 * RBF(1.0)),\n",
    "    DecisionTreeClassifier(max_depth=3),\n",
    "    RandomForestClassifier(max_depth=5, n_estimators=10, max_features=1),\n",
    "    MLPClassifier(alpha=1, max_iter=1000),\n",
    "    AdaBoostClassifier(),\n",
    "    GaussianNB()\n",
    "]\n",
    "[fit_score(clf) for clf in classifiers]"
   ]
  },
  {
   "cell_type": "code",
   "execution_count": 9,
   "metadata": {
    "ExecuteTime": {
     "end_time": "2020-12-09T22:18:44.468522Z",
     "start_time": "2020-12-09T22:18:44.183051Z"
    }
   },
   "outputs": [
    {
     "name": "stderr",
     "output_type": "stream",
     "text": [
      "/home/dsbowen/individual-diff/venv/lib/python3.6/site-packages/sklearn/neural_network/_multilayer_perceptron.py:585: ConvergenceWarning: Stochastic Optimizer: Maximum iterations (200) reached and the optimization hasn't converged yet.\n",
      "  % self.max_iter, ConvergenceWarning)\n"
     ]
    },
    {
     "data": {
      "text/plain": [
       "0.22261663286004058"
      ]
     },
     "execution_count": 9,
     "metadata": {},
     "output_type": "execute_result"
    }
   ],
   "source": [
    "weight = compute_sample_weight('balanced', y)\n",
    "clf = MLPClassifier().fit(X, y)\n",
    "accuracy_score(y, clf.predict(X), sample_weight=weight)"
   ]
  },
  {
   "cell_type": "code",
   "execution_count": 10,
   "metadata": {
    "ExecuteTime": {
     "end_time": "2020-12-09T22:18:47.716484Z",
     "start_time": "2020-12-09T22:18:44.471086Z"
    }
   },
   "outputs": [
    {
     "data": {
      "text/html": [
       "<div>\n",
       "<style scoped>\n",
       "    .dataframe tbody tr th:only-of-type {\n",
       "        vertical-align: middle;\n",
       "    }\n",
       "\n",
       "    .dataframe tbody tr th {\n",
       "        vertical-align: top;\n",
       "    }\n",
       "\n",
       "    .dataframe thead th {\n",
       "        text-align: right;\n",
       "    }\n",
       "</style>\n",
       "<table border=\"1\" class=\"dataframe\">\n",
       "  <thead>\n",
       "    <tr style=\"text-align: right;\">\n",
       "      <th></th>\n",
       "      <th>G-SHAP values</th>\n",
       "      <th>Variable</th>\n",
       "    </tr>\n",
       "  </thead>\n",
       "  <tbody>\n",
       "    <tr>\n",
       "      <th>0</th>\n",
       "      <td>0.026950</td>\n",
       "      <td>Male</td>\n",
       "    </tr>\n",
       "    <tr>\n",
       "      <th>1</th>\n",
       "      <td>0.037579</td>\n",
       "      <td>Age</td>\n",
       "    </tr>\n",
       "    <tr>\n",
       "      <th>2</th>\n",
       "      <td>0.014972</td>\n",
       "      <td>HighAnger</td>\n",
       "    </tr>\n",
       "  </tbody>\n",
       "</table>\n",
       "</div>"
      ],
      "text/plain": [
       "   G-SHAP values   Variable\n",
       "0       0.026950       Male\n",
       "1       0.037579        Age\n",
       "2       0.014972  HighAnger"
      ]
     },
     "execution_count": 10,
     "metadata": {},
     "output_type": "execute_result"
    }
   ],
   "source": [
    "import gshap\n",
    "\n",
    "g = lambda y_pred: accuracy_score(y, y_pred, sample_weight=weight)\n",
    "explainer = gshap.KernelExplainer(clf.predict, X, g)\n",
    "gshap_values = explainer.gshap_values(X, nsamples=1000)\n",
    "gshap_df = pd.DataFrame({'G-SHAP values': gshap_values, 'Variable': ['Male', 'Age', 'HighAnger']})\n",
    "gshap_df"
   ]
  },
  {
   "cell_type": "code",
   "execution_count": 28,
   "metadata": {
    "ExecuteTime": {
     "end_time": "2020-12-09T23:02:02.084595Z",
     "start_time": "2020-12-09T23:02:02.058940Z"
    }
   },
   "outputs": [
    {
     "name": "stdout",
     "output_type": "stream",
     "text": [
      "Mean effect is -0.4886\n"
     ]
    }
   ],
   "source": [
    "def predict_reg(X):\n",
    "    output = clf.predict_proba(X)\n",
    "    for idx in range(output.shape[1]):\n",
    "        output[:,idx] *= idx+1\n",
    "    return output.sum(axis=1)\n",
    "\n",
    "def compute_effect(X):\n",
    "    # reverse treatment variable\n",
    "    X[:,-1] = treatment\n",
    "    X_cf = X.copy()\n",
    "    X_cf[:,-1] = cf_treatment\n",
    "    y_pred = predict_reg(X)\n",
    "    y_cf_pred = predict_reg(X_cf)\n",
    "    return (\n",
    "        df.HighAnger * (y_pred - y_cf_pred)\n",
    "        + (1-df.HighAnger) * (y_cf_pred - y_pred)\n",
    "    )\n",
    "\n",
    "df['HighAngerReverse'] = 1 - df.HighAnger\n",
    "treatment = X[:,-1]\n",
    "cf_treatment = scaler.fit_transform(df.HighAngerReverse.values.reshape(-1, 1)).reshape(-1)\n",
    "df['Effect'] = compute_effect(X)\n",
    "print('Mean effect is {:.4f}'.format(df['Effect'].mean()))"
   ]
  },
  {
   "cell_type": "code",
   "execution_count": 29,
   "metadata": {
    "ExecuteTime": {
     "end_time": "2020-12-09T23:02:13.926376Z",
     "start_time": "2020-12-09T23:02:02.888742Z"
    }
   },
   "outputs": [
    {
     "data": {
      "text/html": [
       "<div>\n",
       "<style scoped>\n",
       "    .dataframe tbody tr th:only-of-type {\n",
       "        vertical-align: middle;\n",
       "    }\n",
       "\n",
       "    .dataframe tbody tr th {\n",
       "        vertical-align: top;\n",
       "    }\n",
       "\n",
       "    .dataframe thead th {\n",
       "        text-align: right;\n",
       "    }\n",
       "</style>\n",
       "<table border=\"1\" class=\"dataframe\">\n",
       "  <thead>\n",
       "    <tr style=\"text-align: right;\">\n",
       "      <th></th>\n",
       "      <th>G-SHAP values</th>\n",
       "      <th>Variable</th>\n",
       "    </tr>\n",
       "  </thead>\n",
       "  <tbody>\n",
       "    <tr>\n",
       "      <th>0</th>\n",
       "      <td>0.782798</td>\n",
       "      <td>Male</td>\n",
       "    </tr>\n",
       "    <tr>\n",
       "      <th>1</th>\n",
       "      <td>0.217202</td>\n",
       "      <td>Age</td>\n",
       "    </tr>\n",
       "    <tr>\n",
       "      <th>2</th>\n",
       "      <td>0.000000</td>\n",
       "      <td>HighAnger</td>\n",
       "    </tr>\n",
       "  </tbody>\n",
       "</table>\n",
       "</div>"
      ],
      "text/plain": [
       "   G-SHAP values   Variable\n",
       "0       0.782798       Male\n",
       "1       0.217202        Age\n",
       "2       0.000000  HighAnger"
      ]
     },
     "execution_count": 29,
     "metadata": {},
     "output_type": "execute_result"
    }
   ],
   "source": [
    "from sklearn.metrics import r2_score\n",
    "\n",
    "g = lambda effect_pred: r2_score(df['Effect'], effect_pred)\n",
    "explainer = gshap.KernelExplainer(compute_effect, X, g)\n",
    "gshap_values = explainer.gshap_values(X, nsamples=1000)\n",
    "gshap_values /= gshap_values.sum()\n",
    "gshap_df = pd.DataFrame({'G-SHAP values': gshap_values, 'Variable': ['Male', 'Age', 'HighAnger']})\n",
    "gshap_df"
   ]
  },
  {
   "cell_type": "code",
   "execution_count": 13,
   "metadata": {
    "ExecuteTime": {
     "end_time": "2020-12-09T22:18:58.341282Z",
     "start_time": "2020-12-09T22:18:58.327563Z"
    }
   },
   "outputs": [
    {
     "data": {
      "text/html": [
       "<div>\n",
       "<style scoped>\n",
       "    .dataframe tbody tr th:only-of-type {\n",
       "        vertical-align: middle;\n",
       "    }\n",
       "\n",
       "    .dataframe tbody tr th {\n",
       "        vertical-align: top;\n",
       "    }\n",
       "\n",
       "    .dataframe thead th {\n",
       "        text-align: right;\n",
       "    }\n",
       "</style>\n",
       "<table border=\"1\" class=\"dataframe\">\n",
       "  <thead>\n",
       "    <tr style=\"text-align: right;\">\n",
       "      <th></th>\n",
       "      <th>Male</th>\n",
       "      <th>Age</th>\n",
       "      <th>HighAnger</th>\n",
       "      <th>Effect</th>\n",
       "    </tr>\n",
       "  </thead>\n",
       "  <tbody>\n",
       "    <tr>\n",
       "      <th>Male</th>\n",
       "      <td>1.000000</td>\n",
       "      <td>0.202342</td>\n",
       "      <td>0.062114</td>\n",
       "      <td>0.864312</td>\n",
       "    </tr>\n",
       "    <tr>\n",
       "      <th>Age</th>\n",
       "      <td>0.202342</td>\n",
       "      <td>1.000000</td>\n",
       "      <td>0.179190</td>\n",
       "      <td>0.196961</td>\n",
       "    </tr>\n",
       "    <tr>\n",
       "      <th>HighAnger</th>\n",
       "      <td>0.062114</td>\n",
       "      <td>0.179190</td>\n",
       "      <td>1.000000</td>\n",
       "      <td>-0.055540</td>\n",
       "    </tr>\n",
       "    <tr>\n",
       "      <th>Effect</th>\n",
       "      <td>0.864312</td>\n",
       "      <td>0.196961</td>\n",
       "      <td>-0.055540</td>\n",
       "      <td>1.000000</td>\n",
       "    </tr>\n",
       "  </tbody>\n",
       "</table>\n",
       "</div>"
      ],
      "text/plain": [
       "               Male       Age  HighAnger    Effect\n",
       "Male       1.000000  0.202342   0.062114  0.864312\n",
       "Age        0.202342  1.000000   0.179190  0.196961\n",
       "HighAnger  0.062114  0.179190   1.000000 -0.055540\n",
       "Effect     0.864312  0.196961  -0.055540  1.000000"
      ]
     },
     "execution_count": 13,
     "metadata": {},
     "output_type": "execute_result"
    }
   ],
   "source": [
    "df[['Male', 'Age', 'HighAnger', 'Effect']].corr()"
   ]
  },
  {
   "cell_type": "code",
   "execution_count": 14,
   "metadata": {
    "ExecuteTime": {
     "end_time": "2020-12-09T22:18:58.394157Z",
     "start_time": "2020-12-09T22:18:58.343620Z"
    }
   },
   "outputs": [
    {
     "data": {
      "text/html": [
       "<div>\n",
       "<style scoped>\n",
       "    .dataframe tbody tr th:only-of-type {\n",
       "        vertical-align: middle;\n",
       "    }\n",
       "\n",
       "    .dataframe tbody tr th {\n",
       "        vertical-align: top;\n",
       "    }\n",
       "\n",
       "    .dataframe thead th {\n",
       "        text-align: right;\n",
       "    }\n",
       "</style>\n",
       "<table border=\"1\" class=\"dataframe\">\n",
       "  <thead>\n",
       "    <tr style=\"text-align: right;\">\n",
       "      <th></th>\n",
       "      <th>count</th>\n",
       "      <th>mean</th>\n",
       "      <th>std</th>\n",
       "      <th>min</th>\n",
       "      <th>25%</th>\n",
       "      <th>50%</th>\n",
       "      <th>75%</th>\n",
       "      <th>max</th>\n",
       "    </tr>\n",
       "    <tr>\n",
       "      <th>Male</th>\n",
       "      <th></th>\n",
       "      <th></th>\n",
       "      <th></th>\n",
       "      <th></th>\n",
       "      <th></th>\n",
       "      <th></th>\n",
       "      <th></th>\n",
       "      <th></th>\n",
       "    </tr>\n",
       "  </thead>\n",
       "  <tbody>\n",
       "    <tr>\n",
       "      <th>0</th>\n",
       "      <td>77.0</td>\n",
       "      <td>-0.840947</td>\n",
       "      <td>0.292661</td>\n",
       "      <td>-1.497914</td>\n",
       "      <td>-0.988207</td>\n",
       "      <td>-0.773114</td>\n",
       "      <td>-0.682738</td>\n",
       "      <td>0.093881</td>\n",
       "    </tr>\n",
       "    <tr>\n",
       "      <th>1</th>\n",
       "      <td>58.0</td>\n",
       "      <td>-0.020909</td>\n",
       "      <td>0.134007</td>\n",
       "      <td>-0.321773</td>\n",
       "      <td>-0.047578</td>\n",
       "      <td>0.010194</td>\n",
       "      <td>0.029117</td>\n",
       "      <td>0.263361</td>\n",
       "    </tr>\n",
       "  </tbody>\n",
       "</table>\n",
       "</div>"
      ],
      "text/plain": [
       "      count      mean       std       min       25%       50%       75%  \\\n",
       "Male                                                                      \n",
       "0      77.0 -0.840947  0.292661 -1.497914 -0.988207 -0.773114 -0.682738   \n",
       "1      58.0 -0.020909  0.134007 -0.321773 -0.047578  0.010194  0.029117   \n",
       "\n",
       "           max  \n",
       "Male            \n",
       "0     0.093881  \n",
       "1     0.263361  "
      ]
     },
     "execution_count": 14,
     "metadata": {},
     "output_type": "execute_result"
    }
   ],
   "source": [
    "df.groupby('Male').Effect.describe()"
   ]
  },
  {
   "cell_type": "code",
   "execution_count": null,
   "metadata": {},
   "outputs": [],
   "source": []
  }
 ],
 "metadata": {
  "kernelspec": {
   "display_name": "individual-diff",
   "language": "python",
   "name": "individual-diff"
  },
  "language_info": {
   "codemirror_mode": {
    "name": "ipython",
    "version": 3
   },
   "file_extension": ".py",
   "mimetype": "text/x-python",
   "name": "python",
   "nbconvert_exporter": "python",
   "pygments_lexer": "ipython3",
   "version": "3.6.8"
  },
  "toc": {
   "base_numbering": 1,
   "nav_menu": {},
   "number_sections": true,
   "sideBar": true,
   "skip_h1_title": false,
   "title_cell": "Table of Contents",
   "title_sidebar": "Contents",
   "toc_cell": false,
   "toc_position": {},
   "toc_section_display": true,
   "toc_window_display": false
  },
  "varInspector": {
   "cols": {
    "lenName": 16,
    "lenType": 16,
    "lenVar": 40
   },
   "kernels_config": {
    "python": {
     "delete_cmd_postfix": "",
     "delete_cmd_prefix": "del ",
     "library": "var_list.py",
     "varRefreshCmd": "print(var_dic_list())"
    },
    "r": {
     "delete_cmd_postfix": ") ",
     "delete_cmd_prefix": "rm(",
     "library": "var_list.r",
     "varRefreshCmd": "cat(var_dic_list()) "
    }
   },
   "types_to_exclude": [
    "module",
    "function",
    "builtin_function_or_method",
    "instance",
    "_Feature"
   ],
   "window_display": false
  }
 },
 "nbformat": 4,
 "nbformat_minor": 4
}
