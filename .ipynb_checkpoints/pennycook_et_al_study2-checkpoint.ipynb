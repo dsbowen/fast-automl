{
 "cells": [
  {
   "cell_type": "markdown",
   "metadata": {},
   "source": [
    "1. What's the standard procedure\n",
    "2. Why is this a problem\n",
    "3. Solution\n",
    "\n",
    "Misidentifying important variables:\n",
    "\n",
    "1. Regression coefficients\n",
    "2. No sense of 'global' or overall importance of each variable\n",
    "3. G-SHAP on r2 or accuracy\n",
    "\n",
    "Missing moderators\n",
    "\n",
    "1. Test interaction between moderator and treatment\n",
    "2. Doesn't capture non-linear relationships\n",
    "3. train f(t,m), predict treatment effect as f(1,m)-f(0,m), shap and g-shap values"
   ]
  },
  {
   "cell_type": "code",
   "execution_count": 14,
   "metadata": {
    "ExecuteTime": {
     "end_time": "2020-12-13T14:56:00.051906Z",
     "start_time": "2020-12-13T14:56:00.044093Z"
    }
   },
   "outputs": [],
   "source": [
    "import gshap\n",
    "import pandas as pd\n",
    "import seaborn as sns\n",
    "from sklearn.linear_model import LinearRegression\n",
    "from sklearn.metrics import r2_score\n",
    "from sklearn.preprocessing import StandardScaler\n",
    "from scipy.stats import bernoulli, norm, uniform"
   ]
  },
  {
   "cell_type": "code",
   "execution_count": 5,
   "metadata": {
    "ExecuteTime": {
     "end_time": "2020-12-13T14:54:26.933484Z",
     "start_time": "2020-12-13T14:54:26.919697Z"
    }
   },
   "outputs": [
    {
     "name": "stdout",
     "output_type": "stream",
     "text": [
      "Coef on x1: 1.00\n",
      "Coef on x2: 1.00\n"
     ]
    }
   ],
   "source": [
    "N = 1000\n",
    "x1 = norm(0, 1).rvs(N)\n",
    "x2 = norm(0, 2).rvs(N)\n",
    "X = np.array([x1, x2]).T\n",
    "y = x1 + x2\n",
    "reg = LinearRegression().fit(X, y)\n",
    "print('Coef on x1: {:.2f}'.format(reg.coef_[0]))\n",
    "print('Coef on x2: {:.2f}'.format(reg.coef_[1]))"
   ]
  },
  {
   "cell_type": "code",
   "execution_count": 6,
   "metadata": {
    "ExecuteTime": {
     "end_time": "2020-12-13T14:54:27.657446Z",
     "start_time": "2020-12-13T14:54:27.648827Z"
    }
   },
   "outputs": [
    {
     "name": "stdout",
     "output_type": "stream",
     "text": [
      "Coef on x1: 0.98\n",
      "Coef on x2: 2.01\n"
     ]
    }
   ],
   "source": [
    "X = StandardScaler().fit_transform(X)\n",
    "reg = LinearRegression().fit(X, y)\n",
    "print('Coef on x1: {:.2f}'.format(reg.coef_[0]))\n",
    "print('Coef on x2: {:.2f}'.format(reg.coef_[1]))"
   ]
  },
  {
   "cell_type": "code",
   "execution_count": 7,
   "metadata": {
    "ExecuteTime": {
     "end_time": "2020-12-13T14:54:28.946016Z",
     "start_time": "2020-12-13T14:54:28.611585Z"
    }
   },
   "outputs": [
    {
     "data": {
      "text/plain": [
       "<AxesSubplot:ylabel='Count'>"
      ]
     },
     "execution_count": 7,
     "metadata": {},
     "output_type": "execute_result"
    },
    {
     "data": {
      "image/png": "[encoded data removed]",
      "text/plain": [
       "<Figure size 432x288 with 1 Axes>"
      ]
     },
     "metadata": {
      "needs_background": "light"
     },
     "output_type": "display_data"
    }
   ],
   "source": [
    "manager = bernoulli(.1).rvs(N)\n",
    "social = uniform(2, 30).rvs(N)\n",
    "X = np.array([manager, social, social**2]).T\n",
    "y = 50 * manager + 6 * social - .1 * social**2\n",
    "sns.histplot(y)"
   ]
  },
  {
   "cell_type": "code",
   "execution_count": 8,
   "metadata": {
    "ExecuteTime": {
     "end_time": "2020-12-13T14:54:31.857845Z",
     "start_time": "2020-12-13T14:54:31.849640Z"
    }
   },
   "outputs": [
    {
     "name": "stdout",
     "output_type": "stream",
     "text": [
      "Coef on manager: 50.00\n",
      "Coef on social: 6.00\n",
      "Coef on social-squared: -0.10\n"
     ]
    }
   ],
   "source": [
    "reg = LinearRegression().fit(X, y)\n",
    "print('Coef on manager: {:.2f}'.format(reg.coef_[0]))\n",
    "print('Coef on social: {:.2f}'.format(reg.coef_[1]))\n",
    "print('Coef on social-squared: {:.2f}'.format(reg.coef_[2]))"
   ]
  },
  {
   "cell_type": "code",
   "execution_count": 9,
   "metadata": {
    "ExecuteTime": {
     "end_time": "2020-12-13T14:54:35.674465Z",
     "start_time": "2020-12-13T14:54:35.664547Z"
    }
   },
   "outputs": [
    {
     "name": "stdout",
     "output_type": "stream",
     "text": [
      "Coef on manager: 15.52\n",
      "Coef on social: 51.50\n",
      "Coef on social-squared: -30.11\n"
     ]
    }
   ],
   "source": [
    "X = StandardScaler().fit_transform(X)\n",
    "reg = LinearRegression().fit(X, y)\n",
    "print('Coef on manager: {:.2f}'.format(reg.coef_[0]))\n",
    "print('Coef on social: {:.2f}'.format(reg.coef_[1]))\n",
    "print('Coef on social-squared: {:.2f}'.format(reg.coef_[2]))"
   ]
  },
  {
   "cell_type": "code",
   "execution_count": 10,
   "metadata": {
    "ExecuteTime": {
     "end_time": "2020-12-13T14:55:19.145446Z",
     "start_time": "2020-12-13T14:55:18.829132Z"
    }
   },
   "outputs": [],
   "source": [
    "class Model(LinearRegression):\n",
    "    def fit(self, X, y):\n",
    "        return super().fit(self._transform(X), y)\n",
    "        \n",
    "    def predict(self, X):\n",
    "        return super().predict(self._transform(X))\n",
    "        \n",
    "    def _transform(self, X):\n",
    "        return np.append(X, (X[:,1]**2).reshape(-1, 1), axis=1)\n",
    "    \n",
    "X = np.array([manager, social]).T\n",
    "reg = Model().fit(X, y)\n",
    "g = lambda y_pred: y_pred\n",
    "explainer = gshap.KernelExplainer(reg.predict, X, g)\n",
    "gshap_values = explainer.gshap_values(X, nsamples=100)"
   ]
  },
  {
   "cell_type": "code",
   "execution_count": 11,
   "metadata": {
    "ExecuteTime": {
     "end_time": "2020-12-13T14:55:19.951247Z",
     "start_time": "2020-12-13T14:55:19.739329Z"
    }
   },
   "outputs": [
    {
     "data": {
      "text/plain": [
       "<AxesSubplot:>"
      ]
     },
     "execution_count": 11,
     "metadata": {},
     "output_type": "execute_result"
    },
    {
     "data": {
      "image/png": "[encoded data removed]",
      "text/plain": [
       "<Figure size 432x288 with 1 Axes>"
      ]
     },
     "metadata": {
      "needs_background": "light"
     },
     "output_type": "display_data"
    }
   ],
   "source": [
    "sns.scatterplot(x=manager, y=gshap_values[0])"
   ]
  },
  {
   "cell_type": "code",
   "execution_count": 12,
   "metadata": {
    "ExecuteTime": {
     "end_time": "2020-12-13T14:55:21.045719Z",
     "start_time": "2020-12-13T14:55:20.863635Z"
    }
   },
   "outputs": [
    {
     "data": {
      "text/plain": [
       "<AxesSubplot:>"
      ]
     },
     "execution_count": 12,
     "metadata": {},
     "output_type": "execute_result"
    },
    {
     "data": {
      "image/png": "[encoded data removed]",
      "text/plain": [
       "<Figure size 432x288 with 1 Axes>"
      ]
     },
     "metadata": {
      "needs_background": "light"
     },
     "output_type": "display_data"
    }
   ],
   "source": [
    "sns.scatterplot(x=social, y=gshap_values[1])"
   ]
  },
  {
   "cell_type": "code",
   "execution_count": 13,
   "metadata": {
    "ExecuteTime": {
     "end_time": "2020-12-13T14:55:24.618485Z",
     "start_time": "2020-12-13T14:55:24.228510Z"
    }
   },
   "outputs": [
    {
     "name": "stdout",
     "output_type": "stream",
     "text": [
      "Importance of manager: 0.32\n",
      "Importance of social: 0.68\n"
     ]
    }
   ],
   "source": [
    "g = lambda y_pred: r2_score(y, y_pred)\n",
    "explainer = gshap.KernelExplainer(reg.predict, X, g)\n",
    "gshap_values = explainer.gshap_values(X, nsamples=100)\n",
    "gshap_values /= gshap_values.sum()\n",
    "print('Importance of manager: {:.2f}'.format(gshap_values[0]))\n",
    "print('Importance of social: {:.2f}'.format(gshap_values[1]))"
   ]
  },
  {
   "cell_type": "code",
   "execution_count": null,
   "metadata": {
    "ExecuteTime": {
     "end_time": "2020-12-12T15:28:59.438838Z",
     "start_time": "2020-12-12T15:28:59.274697Z"
    }
   },
   "outputs": [],
   "source": [
    "df = pd.read_csv('pennycook_et_al_study2.csv')\n",
    "df.head()"
   ]
  },
  {
   "cell_type": "code",
   "execution_count": null,
   "metadata": {
    "ExecuteTime": {
     "end_time": "2020-12-12T15:29:01.415766Z",
     "start_time": "2020-12-12T15:29:01.281435Z"
    }
   },
   "outputs": [],
   "source": [
    "def col_startswith(startswith):\n",
    "    return [col for col in df.columns if col.startswith(startswith)]\n",
    "\n",
    "df = df.rename(columns={\n",
    "    'COVID_concern_1': 'COVID_concern',\n",
    "    'DemRep_C': 'Partisan',\n",
    "    'Age.0': 'Age',\n",
    "    'Education_1': 'Education'\n",
    "})\n",
    "df['Treatment'] = df.Condition == 2\n",
    "df['COVID_news'].iloc[df.COVID_news==7] = 5\n",
    "df['CRT1_1'] = df.CRT1_1 == 4\n",
    "df['CRT1_2'] = df.CRT1_2 == 10\n",
    "df['CRT1_3'] = df.CRT1_3 == 39\n",
    "df['CRT3_1'] = df.CRT3_1 == 2\n",
    "df['CRT3_2'] = df.CRT3_2 == 8\n",
    "# CRT3_3 appears miscoded\n",
    "# df['CRT3_3'] = df.CRT3_3.str.lower().strip() == 'emily'\n",
    "df['CRT_chk'] = df.CRT_chk == 1\n",
    "df['Party'] = df.Party.map({\n",
    "    1: 'Democrat',\n",
    "    2: 'Republican',\n",
    "    3: 'Independent',\n",
    "    4: 'Other'\n",
    "})\n",
    "df['Male'] = df['Gender.0'] == 1\n",
    "df = df[\n",
    "    col_startswith('SharingType')\n",
    "    + col_startswith('SocialMedia')\n",
    "    + col_startswith('CRT')\n",
    "    + col_startswith('sci')\n",
    "    + col_startswith('mms')\n",
    "    + col_startswith('Media')\n",
    "    + col_startswith('Ethnicity')\n",
    "    + col_startswith('Fake')\n",
    "    + col_startswith('Real')\n",
    "    + [\n",
    "        'COVID_concern',\n",
    "        'COVID_news',\n",
    "        'AccImp',\n",
    "        'Age',\n",
    "        'Male',\n",
    "        'Education',\n",
    "        'Income',\n",
    "        'English',\n",
    "        'Party',\n",
    "        'Partisan',\n",
    "        'Social_Conserv',\n",
    "        'Economic_Conserv',\n",
    "        'POTUS2016',\n",
    "        'Treatment'\n",
    "    ]\n",
    "]\n",
    "df = df.drop(columns=['CRT3_3'])\n",
    "df = pd.get_dummies(df, columns=['Party'])\n",
    "df.head()"
   ]
  },
  {
   "cell_type": "code",
   "execution_count": null,
   "metadata": {
    "ExecuteTime": {
     "end_time": "2020-12-12T15:29:04.840035Z",
     "start_time": "2020-12-12T15:29:04.826733Z"
    }
   },
   "outputs": [],
   "source": [
    "df = df.drop(columns=(\n",
    "    col_startswith('CRT_ACC')\n",
    "    + col_startswith('Real1_RT')\n",
    "    + col_startswith('Fake1_RT')\n",
    "    + [\n",
    "        'SharingType_7_TEXT',\n",
    "        'SocialMedia_6_TEXT',\n",
    "        'CRT_Inst',\n",
    "        'CRT_Rand',\n",
    "        'CRT_Thomson',\n",
    "        'Ethnicity_6_TEXT',\n",
    "        'Real',\n",
    "        'Fake'\n",
    "    ]\n",
    "))"
   ]
  },
  {
   "cell_type": "code",
   "execution_count": null,
   "metadata": {
    "ExecuteTime": {
     "end_time": "2020-12-12T15:29:07.601823Z",
     "start_time": "2020-12-12T15:29:07.573719Z"
    }
   },
   "outputs": [],
   "source": [
    "df = df.dropna(subset=[\n",
    "    col for col in df.columns \n",
    "    if col.startswith('Real') or col.startswith('Fake')\n",
    "])\n",
    "df['Real'] = df[[col for col in df.columns if col.startswith('Real')]].sum(axis=1)\n",
    "df['Fake'] = df[[col for col in df.columns if col.startswith('Fake')]].sum(axis=1)\n",
    "df = df.drop(columns=[\n",
    "    col for col in df.columns\n",
    "    if col.startswith('Real1') or col.startswith('Fake1')\n",
    "])"
   ]
  },
  {
   "cell_type": "code",
   "execution_count": null,
   "metadata": {
    "ExecuteTime": {
     "end_time": "2020-12-12T15:29:11.135655Z",
     "start_time": "2020-12-12T15:29:11.082058Z"
    }
   },
   "outputs": [],
   "source": [
    "df['Diff'] = (df['Real'] - df['Fake']) / 15\n",
    "df.groupby('Treatment').Diff.describe()"
   ]
  },
  {
   "cell_type": "code",
   "execution_count": null,
   "metadata": {
    "ExecuteTime": {
     "end_time": "2020-12-12T15:29:13.763411Z",
     "start_time": "2020-12-12T15:29:12.053204Z"
    }
   },
   "outputs": [],
   "source": [
    "import seaborn as sns\n",
    "\n",
    "sns.histplot(x='Diff', hue='Treatment', data=df)"
   ]
  },
  {
   "cell_type": "code",
   "execution_count": null,
   "metadata": {
    "ExecuteTime": {
     "end_time": "2020-12-12T15:29:20.447805Z",
     "start_time": "2020-12-12T15:29:17.863000Z"
    }
   },
   "outputs": [],
   "source": [
    "from sklearn.experimental import enable_iterative_imputer\n",
    "from sklearn.impute import IterativeImputer\n",
    "\n",
    "X, y = df.drop(columns=['Real', 'Fake', 'Diff']), df.Diff\n",
    "X = IterativeImputer().fit_transform(X)\n",
    "treat = df.Treatment.astype(int).values.reshape(-1, 1)"
   ]
  },
  {
   "cell_type": "code",
   "execution_count": null,
   "metadata": {
    "ExecuteTime": {
     "end_time": "2020-12-12T15:29:23.348257Z",
     "start_time": "2020-12-12T15:29:23.325866Z"
    }
   },
   "outputs": [],
   "source": [
    "from sklearn.linear_model import LinearRegression\n",
    "from sklearn.model_selection import cross_val_score\n",
    "\n",
    "cross_val_score(LinearRegression(), treat, y).mean()"
   ]
  },
  {
   "cell_type": "code",
   "execution_count": null,
   "metadata": {
    "ExecuteTime": {
     "end_time": "2020-12-12T19:51:19.556353Z",
     "start_time": "2020-12-12T19:51:19.529726Z"
    }
   },
   "outputs": [],
   "source": [
    "const = np.ones((len(df),1))\n",
    "cross_val_score(LinearRegression(), const, y).mean()"
   ]
  },
  {
   "cell_type": "code",
   "execution_count": null,
   "metadata": {
    "ExecuteTime": {
     "end_time": "2020-12-12T15:29:24.258441Z",
     "start_time": "2020-12-12T15:29:24.197007Z"
    }
   },
   "outputs": [],
   "source": [
    "cross_val_score(LinearRegression(), X, y).mean()"
   ]
  },
  {
   "cell_type": "code",
   "execution_count": null,
   "metadata": {
    "ExecuteTime": {
     "end_time": "2020-12-12T15:29:26.823186Z",
     "start_time": "2020-12-12T15:29:25.992397Z"
    }
   },
   "outputs": [],
   "source": [
    "from sklearn.model_selection import RandomizedSearchCV\n",
    "from sklearn.linear_model import ElasticNet\n",
    "from scipy.stats import expon, uniform\n",
    "\n",
    "params = {\n",
    "    'alpha': expon(0, 1),\n",
    "    'l1_ratio': uniform(0, 1)\n",
    "}\n",
    "reg = RandomizedSearchCV(ElasticNet(normalize=True), params, n_iter=2**6).fit(treat, y)\n",
    "reg.best_score_"
   ]
  },
  {
   "cell_type": "code",
   "execution_count": null,
   "metadata": {
    "ExecuteTime": {
     "end_time": "2020-12-12T15:29:29.015564Z",
     "start_time": "2020-12-12T15:29:27.468605Z"
    }
   },
   "outputs": [],
   "source": [
    "reg = RandomizedSearchCV(ElasticNet(normalize=True), params, n_iter=2**6).fit(X, y)\n",
    "reg.best_score_"
   ]
  },
  {
   "cell_type": "code",
   "execution_count": null,
   "metadata": {
    "ExecuteTime": {
     "end_time": "2020-12-12T15:29:34.917718Z",
     "start_time": "2020-12-12T15:29:34.089552Z"
    }
   },
   "outputs": [],
   "source": [
    "from sklearn.linear_model import Lasso\n",
    "\n",
    "params = {'alpha': expon(0, 1)}\n",
    "reg = RandomizedSearchCV(Lasso(normalize=True), params, n_iter=2**6).fit(treat, y)\n",
    "reg.best_score_"
   ]
  },
  {
   "cell_type": "code",
   "execution_count": null,
   "metadata": {
    "ExecuteTime": {
     "end_time": "2020-12-12T15:29:36.587740Z",
     "start_time": "2020-12-12T15:29:35.036865Z"
    }
   },
   "outputs": [],
   "source": [
    "reg = RandomizedSearchCV(Lasso(normalize=True), params, n_iter=2**6).fit(X, y)\n",
    "reg.best_score_"
   ]
  },
  {
   "cell_type": "code",
   "execution_count": null,
   "metadata": {
    "ExecuteTime": {
     "end_time": "2020-12-12T19:57:32.806652Z",
     "start_time": "2020-12-12T19:57:31.818324Z"
    }
   },
   "outputs": [],
   "source": [
    "from sklearn.linear_model import Ridge\n",
    "\n",
    "params = {'alpha': expon(0, 1)}\n",
    "reg = RandomizedSearchCV(Ridge(normalize=True), params, n_iter=2**6).fit(treat, y)\n",
    "print(reg.best_estimator_.coef_)\n",
    "reg.best_score_"
   ]
  },
  {
   "cell_type": "code",
   "execution_count": null,
   "metadata": {
    "ExecuteTime": {
     "end_time": "2020-12-12T15:29:41.165352Z",
     "start_time": "2020-12-12T15:29:39.540570Z"
    }
   },
   "outputs": [],
   "source": [
    "reg = RandomizedSearchCV(Ridge(normalize=True), params, n_iter=2**6).fit(X, y)\n",
    "reg.best_score_"
   ]
  },
  {
   "cell_type": "code",
   "execution_count": null,
   "metadata": {
    "ExecuteTime": {
     "end_time": "2020-12-12T13:53:56.029022Z",
     "start_time": "2020-12-12T13:52:34.024402Z"
    }
   },
   "outputs": [],
   "source": [
    "from sklearn.preprocessing import PolynomialFeatures\n",
    "\n",
    "params = {\n",
    "    'pca__n_components': list(range(2, 50)),\n",
    "    'ridge__alpha': expon(0, 1)\n",
    "}\n",
    "pipeline = make_pipeline(PolynomialFeatures(2), PCA(), Ridge(normalize=True))\n",
    "reg = RandomizedSearchCV(pipeline, params, n_iter=2**6).fit(X, y)\n",
    "reg.best_score_"
   ]
  },
  {
   "cell_type": "code",
   "execution_count": null,
   "metadata": {
    "ExecuteTime": {
     "end_time": "2020-12-12T12:30:23.704247Z",
     "start_time": "2020-12-12T12:30:18.629277Z"
    }
   },
   "outputs": [],
   "source": [
    "from xgboost import XGBRegressor\n",
    "\n",
    "params = {\n",
    "    'pca__n_components': list(range(2, 50))\n",
    "    'xgbregressor__gamma': expon(0, 1),\n",
    "    'xgbregressor__max_depth': list(range(10)),\n",
    "    'xgbregressor__min_child_weight': expon(0, 1),\n",
    "    'xgbregressor__max_delta_step': expon(0, 1),\n",
    "    'xgbregressor__lambda': expon(0, 1),\n",
    "    'xgbregressor__alpha': expon(0, 1),\n",
    "}\n",
    "reg = RandomizedSearchCV(XGBRegressor(), params, n_iter=10).fit(X, y)\n",
    "reg.best_score_"
   ]
  },
  {
   "cell_type": "code",
   "execution_count": null,
   "metadata": {
    "ExecuteTime": {
     "end_time": "2020-12-12T14:37:15.493841Z",
     "start_time": "2020-12-12T14:36:46.751248Z"
    }
   },
   "outputs": [],
   "source": [
    "from sklearn.pipeline import make_pipeline\n",
    "from sklearn.decomposition import PCA\n",
    "from xgboost import XGBRegressor\n",
    "\n",
    "from sklearn.model_selection import cross_val_score\n",
    "\n",
    "params = {\n",
    "    'pca__n_components': list(range(2, 50)),\n",
    "    'xgbregressor__gamma': expon(0, 1),\n",
    "    'xgbregressor__max_depth': list(range(10)),\n",
    "    'xgbregressor__min_child_weight': expon(0, 1),\n",
    "    'xgbregressor__max_delta_step': expon(0, 1),\n",
    "    'xgbregressor__lambda': expon(0, 1),\n",
    "    'xgbregressor__alpha': expon(0, 1),\n",
    "}\n",
    "pipeline = make_pipeline(PolynomialFeatures(2), PCA(), XGBRegressor())\n",
    "reg = RandomizedSearchCV(pipeline, params, n_iter=10).fit(X, y)\n",
    "reg.best_score_"
   ]
  },
  {
   "cell_type": "code",
   "execution_count": null,
   "metadata": {
    "ExecuteTime": {
     "end_time": "2020-12-12T14:47:15.383691Z",
     "start_time": "2020-12-12T14:43:33.132610Z"
    }
   },
   "outputs": [],
   "source": [
    "from sklearn.neighbors import KNeighborsRegressor\n",
    "from sklearn.ensemble import RandomForestRegressor\n",
    "from sklearn.preprocessing import StandardScaler\n",
    "\n",
    "params = {\n",
    "    'pca__n_components': list(range(2, 50)),\n",
    "    'randomforestregressor__n_estimators': list(range(3, 100)),\n",
    "    'randomforestregressor__max_depth': list(range(2, 10))\n",
    "}\n",
    "pipeline = make_pipeline(PolynomialFeatures(2), PCA(), StandardScaler(), RandomForestRegressor())\n",
    "reg = RandomizedSearchCV(pipeline, params, n_iter=2**6).fit(X, y)\n",
    "reg.best_score_"
   ]
  },
  {
   "cell_type": "code",
   "execution_count": null,
   "metadata": {
    "ExecuteTime": {
     "end_time": "2020-12-12T14:53:40.437853Z",
     "start_time": "2020-12-12T14:51:09.093597Z"
    }
   },
   "outputs": [],
   "source": [
    "from sklearn.svm import SVR\n",
    "\n",
    "params = {\n",
    "    'pca__n_components': list(range(2, 50)),\n",
    "    'svr__kernel': ['linear', 'poly', 'rbf', 'sigmoid'],\n",
    "    'svr__degree': list(range(2, 5)),\n",
    "    'svr__gamma': ['scale', 'auto'],\n",
    "    'svr__C': expon(0, 1)\n",
    "}\n",
    "pipeline = make_pipeline(PolynomialFeatures(2), PCA(), StandardScaler(), SVR())\n",
    "reg = RandomizedSearchCV(pipeline, params, n_iter=2**6).fit(X, y)\n",
    "reg.best_score_"
   ]
  },
  {
   "cell_type": "code",
   "execution_count": null,
   "metadata": {
    "ExecuteTime": {
     "end_time": "2020-12-12T15:00:33.640400Z",
     "start_time": "2020-12-12T14:58:28.203892Z"
    }
   },
   "outputs": [],
   "source": [
    "from sklearn.kernel_ridge import KernelRidge\n",
    "\n",
    "params = {\n",
    "    'pca__n_components': list(range(2, 50)),\n",
    "    'kernelridge__alpha': expon(0, 1),\n",
    "    'kernelridge__kernel': ['linear', 'chi2', 'poly', 'rbf', 'sigmoid'],\n",
    "}\n",
    "pipeline = make_pipeline(PolynomialFeatures(2), PCA(), StandardScaler(), KernelRidge())\n",
    "reg = RandomizedSearchCV(pipeline, params, n_iter=2**6).fit(X, y)\n",
    "reg.best_score_"
   ]
  },
  {
   "cell_type": "code",
   "execution_count": null,
   "metadata": {
    "ExecuteTime": {
     "end_time": "2020-12-12T15:02:54.859295Z",
     "start_time": "2020-12-12T15:02:51.500926Z"
    }
   },
   "outputs": [],
   "source": [
    "from sklearn.gaussian_process import GaussianProcessRegressor\n",
    "\n",
    "params = {\n",
    "    'pca__n_components': list(range(2, 50))\n",
    "}\n",
    "pipeline = make_pipeline(PCA(), StandardScaler(), GaussianProcessRegressor())\n",
    "reg = RandomizedSearchCV(pipeline, params, n_iter=10).fit(X, y)\n",
    "reg.best_score_"
   ]
  },
  {
   "cell_type": "code",
   "execution_count": null,
   "metadata": {
    "ExecuteTime": {
     "end_time": "2020-12-12T15:05:25.746713Z",
     "start_time": "2020-12-12T15:05:24.581787Z"
    }
   },
   "outputs": [],
   "source": [
    "from sklearn.tree import DecisionTreeRegressor\n",
    "\n",
    "params = {\n",
    "    'pca__n_components': list(range(2, 50)),\n",
    "    'decisiontreeregressor__max_depth': list(range(2, 10))\n",
    "}\n",
    "pipeline = make_pipeline(PCA(), StandardScaler(), DecisionTreeRegressor())\n",
    "reg = RandomizedSearchCV(pipeline, params, n_iter=10).fit(X, y)\n",
    "reg.best_score_"
   ]
  },
  {
   "cell_type": "code",
   "execution_count": null,
   "metadata": {
    "ExecuteTime": {
     "end_time": "2020-12-12T15:14:59.204336Z",
     "start_time": "2020-12-12T15:13:13.675355Z"
    }
   },
   "outputs": [],
   "source": [
    "from sklearn.ensemble import AdaBoostRegressor\n",
    "\n",
    "params = {\n",
    "    'pca__n_components': list(range(2, 50)),\n",
    "    'adaboostregressor__n_estimators': list(range(2, 100)),\n",
    "    'adaboostregressor__learning_rate': expon(0, 1),\n",
    "}\n",
    "pipeline = make_pipeline(PCA(), StandardScaler(), AdaBoostRegressor())\n",
    "reg = RandomizedSearchCV(pipeline, params, n_iter=2**6).fit(X, y)\n",
    "reg.best_score_"
   ]
  },
  {
   "cell_type": "code",
   "execution_count": null,
   "metadata": {
    "ExecuteTime": {
     "end_time": "2020-12-12T20:10:39.732607Z",
     "start_time": "2020-12-12T20:08:02.583716Z"
    }
   },
   "outputs": [],
   "source": [
    "from sklearn.decomposition import PCA\n",
    "from sklearn.ensemble import AdaBoostRegressor, RandomForestRegressor, VotingRegressor\n",
    "from sklearn.pipeline import make_pipeline\n",
    "from sklearn.preprocessing import PolynomialFeatures, StandardScaler\n",
    "from sklearn.svm import SVR\n",
    "from sklearn.linear_model import Ridge\n",
    "from sklearn.kernel_ridge import KernelRidge\n",
    "from xgboost import XGBRegressor\n",
    "\n",
    "params = {\n",
    "    'polynomialfeatures__degree': [1, 2],\n",
    "    'pca__n_components': list(range(10, 50)),\n",
    "    'votingregressor__ridge__alpha': expon(0, 1),\n",
    "    'votingregressor__svr__C': expon(0, 1),\n",
    "    'votingregressor__svr__degree': list(range(2, 5)),\n",
    "    'votingregressor__svr__epsilon': expon(0, 0.1),\n",
    "    'votingregressor__svr__gamma': ['auto', 'scale'],\n",
    "    'votingregressor__svr__kernel': ['rbf', 'linear', 'poly', 'sigmoid'],\n",
    "    'votingregressor__ada__n_estimators': list(range(2, 100)),\n",
    "    'votingregressor__ada__learning_rate': expon(0, 1),\n",
    "    'votingregressor__kernelridge__alpha': expon(0, 1),\n",
    "    'votingregressor__kernelridge__kernel': ['rbf'],\n",
    "    'votingregressor__randomforestregressor__n_estimators': list(range(3, 100)),\n",
    "    'votingregressor__randomforestregressor__max_depth': list(range(2, 10))\n",
    "}\n",
    "pipeline = make_pipeline(\n",
    "    PolynomialFeatures(),\n",
    "    PCA(),\n",
    "    StandardScaler(),\n",
    "    VotingRegressor(\n",
    "        [\n",
    "            ('ridge', Ridge(normalize=True)),\n",
    "            ('svr', SVR()),\n",
    "            ('ada', AdaBoostRegressor()),\n",
    "            ('kernelridge', KernelRidge()),\n",
    "            ('randomforestregressor', RandomForestRegressor())\n",
    "        ],\n",
    "        weights=[2**-i for i in range(5)]\n",
    "    )\n",
    ")\n",
    "reg = RandomizedSearchCV(pipeline, params, n_iter=2**4).fit(X, y)\n",
    "reg.best_score_"
   ]
  },
  {
   "cell_type": "code",
   "execution_count": null,
   "metadata": {
    "ExecuteTime": {
     "end_time": "2020-12-12T20:10:43.045639Z",
     "start_time": "2020-12-12T20:10:43.039071Z"
    }
   },
   "outputs": [],
   "source": [
    "reg.best_params_"
   ]
  },
  {
   "cell_type": "code",
   "execution_count": null,
   "metadata": {
    "ExecuteTime": {
     "end_time": "2020-12-12T20:10:47.407490Z",
     "start_time": "2020-12-12T20:10:47.398756Z"
    }
   },
   "outputs": [],
   "source": [
    "tmp_df = df.drop(columns=['Real', 'Fake', 'Diff'])\n",
    "treat_idx = list(tmp_df.columns).index('Treatment')\n",
    "X[:,treat_idx].mean()"
   ]
  },
  {
   "cell_type": "code",
   "execution_count": null,
   "metadata": {
    "ExecuteTime": {
     "end_time": "2020-12-12T20:10:51.102277Z",
     "start_time": "2020-12-12T20:10:50.855684Z"
    }
   },
   "outputs": [],
   "source": [
    "X_control, X_treat = X.copy(), X.copy()\n",
    "X_control[:,treat_idx], X_treat[:,treat_idx] = 0, 1\n",
    "(reg.predict(X_treat) - reg.predict(X_control)).mean()"
   ]
  },
  {
   "cell_type": "code",
   "execution_count": null,
   "metadata": {
    "ExecuteTime": {
     "end_time": "2020-12-12T20:11:26.562690Z",
     "start_time": "2020-12-12T20:11:26.349905Z"
    }
   },
   "outputs": [],
   "source": [
    "effect = reg.predict(X_treat) - reg.predict(X_control)\n",
    "effect.mean(), effect.std()"
   ]
  },
  {
   "cell_type": "code",
   "execution_count": null,
   "metadata": {
    "ExecuteTime": {
     "end_time": "2020-12-13T02:39:46.116473Z",
     "start_time": "2020-12-12T20:17:24.146407Z"
    }
   },
   "outputs": [],
   "source": [
    "import gshap\n",
    "from sklearn.metrics import r2_score\n",
    "\n",
    "class EffectComputer():\n",
    "    def __init__(self, reg, treat_idx, control=0, treat=1):\n",
    "        self.reg = reg\n",
    "        self.treat_idx = treat_idx\n",
    "        self.control, self.treat = control, treat\n",
    "        \n",
    "    def __call__(self, X):\n",
    "        X_control, X_treat = X.copy(), X.copy()\n",
    "        X_control[:,self.treat_idx] = self.control\n",
    "        X_treat[:,self.treat_idx] = self.treat\n",
    "        return self.reg.predict(X_treat) - self.reg.predict(X_control)\n",
    "\n",
    "g = lambda effect_pred: r2_score(effect, effect_pred)\n",
    "model = EffectComputer(reg, treat_idx)\n",
    "explainer = gshap.KernelExplainer(model, X, g)\n",
    "gshap_values = explainer.gshap_values(X, nsamples=10)"
   ]
  },
  {
   "cell_type": "code",
   "execution_count": null,
   "metadata": {},
   "outputs": [],
   "source": [
    "gshap_values.sum()"
   ]
  },
  {
   "cell_type": "code",
   "execution_count": null,
   "metadata": {
    "ExecuteTime": {
     "end_time": "2020-12-12T17:28:26.184156Z",
     "start_time": "2020-12-12T17:00:47.027942Z"
    }
   },
   "outputs": [],
   "source": [
    "import gshap\n",
    "from sklearn.metrics import r2_score\n",
    "\n",
    "g = lambda y_pred: r2_score(y, y_pred)\n",
    "explainer = gshap.KernelExplainer(reg.predict, X, g)\n",
    "gshap_values = explainer.gshap_values(X, nsamples=100)"
   ]
  },
  {
   "cell_type": "code",
   "execution_count": null,
   "metadata": {
    "ExecuteTime": {
     "end_time": "2020-12-12T19:14:20.463041Z",
     "start_time": "2020-12-12T19:14:20.459555Z"
    }
   },
   "outputs": [],
   "source": [
    "gshap_values /= gshap_values.sum()"
   ]
  },
  {
   "cell_type": "code",
   "execution_count": null,
   "metadata": {
    "ExecuteTime": {
     "end_time": "2020-12-12T19:14:21.799874Z",
     "start_time": "2020-12-12T19:14:21.792876Z"
    }
   },
   "outputs": [],
   "source": [
    "gshap_values[treat_idx]"
   ]
  },
  {
   "cell_type": "code",
   "execution_count": null,
   "metadata": {
    "ExecuteTime": {
     "end_time": "2020-12-12T19:14:23.278678Z",
     "start_time": "2020-12-12T19:14:23.273048Z"
    }
   },
   "outputs": [],
   "source": [
    "crt_cols = [idx for idx, col in enumerate(tmp_df.columns) if col.startswith('CRT')]\n",
    "gshap_values[crt_cols].sum()"
   ]
  },
  {
   "cell_type": "code",
   "execution_count": null,
   "metadata": {
    "ExecuteTime": {
     "end_time": "2020-12-12T19:14:24.372416Z",
     "start_time": "2020-12-12T19:14:24.365167Z"
    }
   },
   "outputs": [],
   "source": [
    "sci_cols = [idx for idx, col in enumerate(tmp_df.columns) if col.startswith('sci')]\n",
    "gshap_values[sci_cols].sum()"
   ]
  },
  {
   "cell_type": "code",
   "execution_count": null,
   "metadata": {
    "ExecuteTime": {
     "end_time": "2020-12-12T19:14:25.279521Z",
     "start_time": "2020-12-12T19:14:25.273123Z"
    }
   },
   "outputs": [],
   "source": [
    "mms_cols = [idx for idx, col in enumerate(tmp_df.columns) if col.startswith('mms')]\n",
    "gshap_values[mms_cols].sum()"
   ]
  },
  {
   "cell_type": "code",
   "execution_count": null,
   "metadata": {
    "ExecuteTime": {
     "end_time": "2020-12-12T19:14:26.600090Z",
     "start_time": "2020-12-12T19:14:26.592350Z"
    }
   },
   "outputs": [],
   "source": [
    "cols = [idx for idx, col in enumerate(tmp_df.columns) \n",
    "        if col.startswith('SharingType') or col.startswith('SocialMedia')]\n",
    "gshap_values[cols].sum()"
   ]
  },
  {
   "cell_type": "code",
   "execution_count": null,
   "metadata": {
    "ExecuteTime": {
     "end_time": "2020-12-12T19:14:27.424217Z",
     "start_time": "2020-12-12T19:14:27.407565Z"
    }
   },
   "outputs": [],
   "source": [
    "cols = [idx for idx, col in enumerate(tmp_df.columns)\n",
    "       if col.startswith('Media')]\n",
    "gshap_values[cols].sum()"
   ]
  },
  {
   "cell_type": "code",
   "execution_count": null,
   "metadata": {
    "ExecuteTime": {
     "end_time": "2020-12-12T19:14:29.768533Z",
     "start_time": "2020-12-12T19:14:29.760243Z"
    }
   },
   "outputs": [],
   "source": [
    "cols = [idx for idx, col in enumerate(tmp_df.columns)\n",
    "       if col.startswith('Ethnicity')]\n",
    "gshap_values[cols].sum()"
   ]
  },
  {
   "cell_type": "code",
   "execution_count": null,
   "metadata": {
    "ExecuteTime": {
     "end_time": "2020-12-12T19:14:30.631997Z",
     "start_time": "2020-12-12T19:14:30.626765Z"
    }
   },
   "outputs": [],
   "source": [
    "gshap_values[list(tmp_df.columns).index('Age')]"
   ]
  },
  {
   "cell_type": "code",
   "execution_count": null,
   "metadata": {
    "ExecuteTime": {
     "end_time": "2020-12-13T04:12:43.331170Z",
     "start_time": "2020-12-13T04:12:42.310196Z"
    }
   },
   "outputs": [],
   "source": []
  },
  {
   "cell_type": "code",
   "execution_count": null,
   "metadata": {
    "ExecuteTime": {
     "end_time": "2020-12-12T19:14:32.013592Z",
     "start_time": "2020-12-12T19:14:32.008665Z"
    }
   },
   "outputs": [],
   "source": [
    "gshap_values[list(tmp_df.columns).index('Education')]"
   ]
  },
  {
   "cell_type": "code",
   "execution_count": null,
   "metadata": {
    "ExecuteTime": {
     "end_time": "2020-12-12T19:14:33.636710Z",
     "start_time": "2020-12-12T19:14:33.631909Z"
    }
   },
   "outputs": [],
   "source": [
    "gshap_values[list(tmp_df.columns).index('English')]"
   ]
  },
  {
   "cell_type": "code",
   "execution_count": null,
   "metadata": {
    "ExecuteTime": {
     "end_time": "2020-12-12T19:14:36.983614Z",
     "start_time": "2020-12-12T19:14:36.977751Z"
    }
   },
   "outputs": [],
   "source": [
    "gshap_values[list(tmp_df.columns).index('COVID_news')]"
   ]
  },
  {
   "cell_type": "code",
   "execution_count": null,
   "metadata": {
    "ExecuteTime": {
     "end_time": "2020-12-12T19:14:38.752622Z",
     "start_time": "2020-12-12T19:14:38.747031Z"
    }
   },
   "outputs": [],
   "source": [
    "gshap_values[list(tmp_df.columns).index('COVID_concern')]"
   ]
  },
  {
   "cell_type": "code",
   "execution_count": null,
   "metadata": {
    "ExecuteTime": {
     "end_time": "2020-12-12T19:14:40.567532Z",
     "start_time": "2020-12-12T19:14:40.562462Z"
    }
   },
   "outputs": [],
   "source": [
    "gshap_values[list(tmp_df.columns).index('AccImp')]"
   ]
  },
  {
   "cell_type": "code",
   "execution_count": null,
   "metadata": {
    "ExecuteTime": {
     "end_time": "2020-12-12T19:14:42.752261Z",
     "start_time": "2020-12-12T19:14:42.744649Z"
    }
   },
   "outputs": [],
   "source": [
    "cols = [idx for idx, col in enumerate(tmp_df.columns)\n",
    "       if col in ('Partisan', 'Social_Conserv', 'Economic_Conserv', 'POTUS2016')\n",
    "       or col.startswith('Party')]\n",
    "gshap_values[cols].sum()"
   ]
  },
  {
   "cell_type": "code",
   "execution_count": null,
   "metadata": {
    "ExecuteTime": {
     "end_time": "2020-12-12T19:14:46.063667Z",
     "start_time": "2020-12-12T19:14:46.058293Z"
    }
   },
   "outputs": [],
   "source": [
    "gshap_values[list(tmp_df.columns).index('Partisan')]"
   ]
  },
  {
   "cell_type": "code",
   "execution_count": null,
   "metadata": {
    "ExecuteTime": {
     "end_time": "2020-12-12T19:14:47.139689Z",
     "start_time": "2020-12-12T19:14:47.134165Z"
    }
   },
   "outputs": [],
   "source": [
    "gshap_values[list(tmp_df.columns).index('Social_Conserv')]"
   ]
  },
  {
   "cell_type": "code",
   "execution_count": null,
   "metadata": {
    "ExecuteTime": {
     "end_time": "2020-12-12T19:14:48.099910Z",
     "start_time": "2020-12-12T19:14:48.094286Z"
    }
   },
   "outputs": [],
   "source": [
    "gshap_values[list(tmp_df.columns).index('Economic_Conserv')]"
   ]
  },
  {
   "cell_type": "code",
   "execution_count": null,
   "metadata": {
    "ExecuteTime": {
     "end_time": "2020-12-12T19:14:48.821143Z",
     "start_time": "2020-12-12T19:14:48.815914Z"
    }
   },
   "outputs": [],
   "source": [
    "gshap_values[list(tmp_df.columns).index('POTUS2016')]"
   ]
  },
  {
   "cell_type": "code",
   "execution_count": null,
   "metadata": {
    "ExecuteTime": {
     "end_time": "2020-12-12T19:14:49.721500Z",
     "start_time": "2020-12-12T19:14:49.716699Z"
    }
   },
   "outputs": [],
   "source": [
    "cols = [idx for idx, col in enumerate(tmp_df.columns)\n",
    "       if col.startswith('Party')]\n",
    "gshap_values[cols].sum()"
   ]
  },
  {
   "cell_type": "code",
   "execution_count": null,
   "metadata": {
    "ExecuteTime": {
     "end_time": "2020-12-12T19:51:58.570069Z",
     "start_time": "2020-12-12T19:51:58.547404Z"
    }
   },
   "outputs": [],
   "source": [
    "cross_val_score(LinearRegression(), treat, y).mean()"
   ]
  },
  {
   "cell_type": "code",
   "execution_count": null,
   "metadata": {
    "ExecuteTime": {
     "end_time": "2020-12-12T19:40:04.355197Z",
     "start_time": "2020-12-12T19:40:01.229006Z"
    }
   },
   "outputs": [],
   "source": [
    "import statsmodels.api as sm\n",
    "\n",
    "X, y = df.drop(columns=['Real', 'Fake', 'Diff']), df.Diff\n",
    "X = IterativeImputer().fit_transform(X)\n",
    "res = sm.OLS(treat, y).fit()\n",
    "res.summary()"
   ]
  },
  {
   "cell_type": "code",
   "execution_count": null,
   "metadata": {
    "ExecuteTime": {
     "end_time": "2020-12-13T03:42:45.047969Z",
     "start_time": "2020-12-13T03:42:45.031267Z"
    }
   },
   "outputs": [],
   "source": [
    "# TODO standardize y, tough to interpret otherwise\n",
    "\n",
    "# misidentifying important variables\n",
    "    # education example\n",
    "# misinterpreting correlations\n",
    "    # so why is education correlated with sharing COVID-19 misinformation?\n",
    "# missing moderators\n",
    "\n",
    "from scipy.stats import gamma, uniform\n",
    "\n",
    "educ = uniform(10, 16).rvs(1000)\n",
    "age = gamma(2.3, 16, 8).rvs(1000)\n",
    "X = np.array([np.ones(1000), educ, age, age**2]).T\n",
    "y = X @ np.array([10000, 1000, 1000, -1])\n",
    "X = np.array([educ, age]).T\n",
    "\n",
    "class Model(LinearRegression):\n",
    "    def fit(self, X, y):\n",
    "        return super().fit(self._transform(X), y)\n",
    "        \n",
    "    def predict(self, X):\n",
    "        return super().predict(self._transform(X))\n",
    "        \n",
    "    def _transform(self, X):\n",
    "        X = np.append(X, (X[:,1]**2).reshape(-1, 1), axis=1)\n",
    "        return StandardScaler().fit_transform(X)\n",
    "       \n",
    "model = Model().fit(X, y)\n",
    "model.coef_"
   ]
  },
  {
   "cell_type": "code",
   "execution_count": null,
   "metadata": {
    "ExecuteTime": {
     "end_time": "2020-12-13T03:42:59.139460Z",
     "start_time": "2020-12-13T03:42:46.539280Z"
    }
   },
   "outputs": [],
   "source": [
    "g = lambda y_pred: r2_score(y, y_pred)\n",
    "explainer = gshap.KernelExplainer(model.predict, X, g)\n",
    "gshap_values = explainer.gshap_values(X, nsamples=1000)\n",
    "gshap_values /= gshap_values.sum()\n",
    "gshap_values"
   ]
  },
  {
   "cell_type": "code",
   "execution_count": null,
   "metadata": {
    "ExecuteTime": {
     "end_time": "2020-12-13T03:43:00.938104Z",
     "start_time": "2020-12-13T03:43:00.658198Z"
    }
   },
   "outputs": [],
   "source": [
    "import matplotlib.pyplot as plt\n",
    "\n",
    "plt.hist(y)"
   ]
  },
  {
   "cell_type": "code",
   "execution_count": null,
   "metadata": {
    "ExecuteTime": {
     "end_time": "2020-12-13T14:07:17.205555Z",
     "start_time": "2020-12-13T14:06:34.376670Z"
    },
    "scrolled": true
   },
   "outputs": [],
   "source": [
    "# The coefficients in predictive linear models are uninterpretable\n",
    "# if we found another observation which was identical to x except for x^j, its predicted y value would be this much different from the predicted y value of x"
   ]
  },
  {
   "cell_type": "code",
   "execution_count": null,
   "metadata": {},
   "outputs": [],
   "source": []
  }
 ],
 "metadata": {
  "kernelspec": {
   "display_name": "individual-diff",
   "language": "python",
   "name": "individual-diff"
  },
  "language_info": {
   "codemirror_mode": {
    "name": "ipython",
    "version": 3
   },
   "file_extension": ".py",
   "mimetype": "text/x-python",
   "name": "python",
   "nbconvert_exporter": "python",
   "pygments_lexer": "ipython3",
   "version": "3.6.8"
  },
  "toc": {
   "base_numbering": 1,
   "nav_menu": {},
   "number_sections": true,
   "sideBar": true,
   "skip_h1_title": false,
   "title_cell": "Table of Contents",
   "title_sidebar": "Contents",
   "toc_cell": false,
   "toc_position": {},
   "toc_section_display": true,
   "toc_window_display": false
  },
  "varInspector": {
   "cols": {
    "lenName": 16,
    "lenType": 16,
    "lenVar": 40
   },
   "kernels_config": {
    "python": {
     "delete_cmd_postfix": "",
     "delete_cmd_prefix": "del ",
     "library": "var_list.py",
     "varRefreshCmd": "print(var_dic_list())"
    },
    "r": {
     "delete_cmd_postfix": ") ",
     "delete_cmd_prefix": "rm(",
     "library": "var_list.r",
     "varRefreshCmd": "cat(var_dic_list()) "
    }
   },
   "types_to_exclude": [
    "module",
    "function",
    "builtin_function_or_method",
    "instance",
    "_Feature"
   ],
   "window_display": false
  }
 },
 "nbformat": 4,
 "nbformat_minor": 4
}
