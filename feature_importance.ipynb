{
 "cells": [
  {
   "cell_type": "code",
   "execution_count": 1,
   "metadata": {
    "ExecuteTime": {
     "end_time": "2020-12-14T19:49:38.239914Z",
     "start_time": "2020-12-14T19:49:36.945947Z"
    }
   },
   "outputs": [],
   "source": [
    "import gshap\n",
    "import numpy as np\n",
    "import pandas as pd\n",
    "import seaborn as sns\n",
    "from sklearn.linear_model import LinearRegression\n",
    "from sklearn.metrics import r2_score\n",
    "from sklearn.preprocessing import StandardScaler\n",
    "from scipy.stats import bernoulli, norm, uniform"
   ]
  },
  {
   "cell_type": "code",
   "execution_count": 2,
   "metadata": {
    "ExecuteTime": {
     "end_time": "2020-12-14T19:49:38.266137Z",
     "start_time": "2020-12-14T19:49:38.242057Z"
    }
   },
   "outputs": [
    {
     "name": "stdout",
     "output_type": "stream",
     "text": [
      "Coef on x1: 1.00\n",
      "Coef on x2: 1.00\n"
     ]
    }
   ],
   "source": [
    "N = 1000\n",
    "x1 = norm(0, 1).rvs(N)\n",
    "x2 = norm(0, 2).rvs(N)\n",
    "X = np.array([x1, x2]).T\n",
    "y = x1 + x2\n",
    "reg = LinearRegression().fit(X, y)\n",
    "print('Coef on x1: {:.2f}'.format(reg.coef_[0]))\n",
    "print('Coef on x2: {:.2f}'.format(reg.coef_[1]))"
   ]
  },
  {
   "cell_type": "code",
   "execution_count": 3,
   "metadata": {
    "ExecuteTime": {
     "end_time": "2020-12-14T19:49:38.294636Z",
     "start_time": "2020-12-14T19:49:38.279900Z"
    }
   },
   "outputs": [
    {
     "name": "stdout",
     "output_type": "stream",
     "text": [
      "Coef on x1: 1.02\n",
      "Coef on x2: 1.99\n"
     ]
    }
   ],
   "source": [
    "X = StandardScaler().fit_transform(X)\n",
    "reg = LinearRegression().fit(X, y)\n",
    "print('Coef on x1: {:.2f}'.format(reg.coef_[0]))\n",
    "print('Coef on x2: {:.2f}'.format(reg.coef_[1]))"
   ]
  },
  {
   "cell_type": "code",
   "execution_count": 4,
   "metadata": {
    "ExecuteTime": {
     "end_time": "2020-12-14T19:49:38.600778Z",
     "start_time": "2020-12-14T19:49:38.301234Z"
    }
   },
   "outputs": [
    {
     "data": {
      "text/plain": [
       "<AxesSubplot:ylabel='Count'>"
      ]
     },
     "execution_count": 4,
     "metadata": {},
     "output_type": "execute_result"
    },
    {
     "data": {
      "image/png": "[encoded data removed]",
      "text/plain": [
       "<Figure size 432x288 with 1 Axes>"
      ]
     },
     "metadata": {
      "needs_background": "light"
     },
     "output_type": "display_data"
    }
   ],
   "source": [
    "manager = bernoulli(.1).rvs(N)\n",
    "socialize = uniform(2, 30).rvs(N)\n",
    "X = np.array([manager, socialize, socialize**2]).T\n",
    "y = 50 * manager + 6 * socialize - .1 * socialize**2\n",
    "sns.histplot(y)"
   ]
  },
  {
   "cell_type": "code",
   "execution_count": 5,
   "metadata": {
    "ExecuteTime": {
     "end_time": "2020-12-14T19:49:38.609154Z",
     "start_time": "2020-12-14T19:49:38.602974Z"
    }
   },
   "outputs": [
    {
     "name": "stdout",
     "output_type": "stream",
     "text": [
      "Coef on manager: 50.00\n",
      "Coef on social: 6.00\n",
      "Coef on social-squared: -0.10\n"
     ]
    }
   ],
   "source": [
    "reg = LinearRegression().fit(X, y)\n",
    "print('Coef on manager: {:.2f}'.format(reg.coef_[0]))\n",
    "print('Coef on social: {:.2f}'.format(reg.coef_[1]))\n",
    "print('Coef on social-squared: {:.2f}'.format(reg.coef_[2]))"
   ]
  },
  {
   "cell_type": "code",
   "execution_count": 6,
   "metadata": {
    "ExecuteTime": {
     "end_time": "2020-12-14T19:49:38.628295Z",
     "start_time": "2020-12-14T19:49:38.612766Z"
    }
   },
   "outputs": [
    {
     "name": "stdout",
     "output_type": "stream",
     "text": [
      "Coef on manager: 13.64\n",
      "Coef on social: 51.40\n",
      "Coef on social-squared: -29.79\n"
     ]
    }
   ],
   "source": [
    "X = StandardScaler().fit_transform(X)\n",
    "reg = LinearRegression().fit(X, y)\n",
    "print('Coef on manager: {:.2f}'.format(reg.coef_[0]))\n",
    "print('Coef on social: {:.2f}'.format(reg.coef_[1]))\n",
    "print('Coef on social-squared: {:.2f}'.format(reg.coef_[2]))"
   ]
  },
  {
   "cell_type": "code",
   "execution_count": 7,
   "metadata": {
    "ExecuteTime": {
     "end_time": "2020-12-14T19:49:53.725836Z",
     "start_time": "2020-12-14T19:49:38.634329Z"
    }
   },
   "outputs": [],
   "source": [
    "class Model(LinearRegression):\n",
    "    def fit(self, X, y):\n",
    "        return super().fit(self._transform(X), y)\n",
    "        \n",
    "    def predict(self, X):\n",
    "        return super().predict(self._transform(X))\n",
    "        \n",
    "    def _transform(self, X):\n",
    "        return np.append(X, (X[:,1]**2).reshape(-1, 1), axis=1)\n",
    "    \n",
    "X = np.array([manager, socialize]).T\n",
    "reg = Model().fit(X, y)\n",
    "g = lambda y_pred: y_pred\n",
    "explainer = gshap.KernelExplainer(reg.predict, X, g)\n",
    "gshap_values = explainer.gshap_values(X, nsamples=5000)"
   ]
  },
  {
   "cell_type": "code",
   "execution_count": 8,
   "metadata": {
    "ExecuteTime": {
     "end_time": "2020-12-14T19:49:53.804151Z",
     "start_time": "2020-12-14T19:49:53.731891Z"
    }
   },
   "outputs": [
    {
     "name": "stdout",
     "output_type": "stream",
     "text": [
      "Probability of being a manager: 0.08\n",
      "Average hours of socializing: 16.83\n",
      "Average extraversion score: 69.36\n",
      "\n",
      "Manger: False\n",
      "Hours socializing: 7.06\n",
      "Predicted extraversion: 37.37\n",
      "Explained by managerial status: -4.24\n",
      "Explained by socializing: -27.47\n",
      "Total prediction explained: -31.71\n",
      "Total difference from average extraversion score: -31.99\n",
      "\n",
      "Manger: True\n",
      "Hours socializing: 5.19\n",
      "Predicted extraversion: 78.46\n",
      "Explained by managerial status: 45.84\n",
      "Explained by socializing: -37.10\n",
      "Total prediction explained: 8.74\n",
      "Total difference from average extraversion score: 9.10\n",
      "\n",
      "Manger: False\n",
      "Hours socializing: 17.04\n",
      "Predicted extraversion: 73.20\n",
      "Explained by managerial status: -4.19\n",
      "Explained by socializing: 7.60\n",
      "Total prediction explained: 3.41\n",
      "Total difference from average extraversion score: 3.83\n",
      "\n",
      "Manger: False\n",
      "Hours socializing: 13.13\n",
      "Predicted extraversion: 61.55\n",
      "Explained by managerial status: -4.31\n",
      "Explained by socializing: -3.72\n",
      "Total prediction explained: -8.03\n",
      "Total difference from average extraversion score: -7.81\n",
      "\n",
      "Manger: False\n",
      "Hours socializing: 11.33\n",
      "Predicted extraversion: 55.16\n",
      "Explained by managerial status: -3.92\n",
      "Explained by socializing: -10.35\n",
      "Total prediction explained: -14.27\n",
      "Total difference from average extraversion score: -14.20\n",
      "\n",
      "Manger: False\n",
      "Hours socializing: 9.12\n",
      "Predicted extraversion: 46.39\n",
      "Explained by managerial status: -3.82\n",
      "Explained by socializing: -18.45\n",
      "Total prediction explained: -22.27\n",
      "Total difference from average extraversion score: -22.98\n",
      "\n",
      "Manger: True\n",
      "Hours socializing: 28.81\n",
      "Predicted extraversion: 139.86\n",
      "Explained by managerial status: 45.95\n",
      "Explained by socializing: 24.30\n",
      "Total prediction explained: 70.25\n",
      "Total difference from average extraversion score: 70.49\n",
      "\n",
      "Manger: False\n",
      "Hours socializing: 26.12\n",
      "Predicted extraversion: 88.50\n",
      "Explained by managerial status: -3.96\n",
      "Explained by socializing: 23.31\n",
      "Total prediction explained: 19.35\n",
      "Total difference from average extraversion score: 19.13\n",
      "\n",
      "Manger: False\n",
      "Hours socializing: 26.54\n",
      "Predicted extraversion: 88.80\n",
      "Explained by managerial status: -3.92\n",
      "Explained by socializing: 23.68\n",
      "Total prediction explained: 19.76\n",
      "Total difference from average extraversion score: 19.44\n",
      "\n",
      "Manger: False\n",
      "Hours socializing: 21.37\n",
      "Predicted extraversion: 82.56\n",
      "Explained by managerial status: -4.16\n",
      "Explained by socializing: 17.01\n",
      "Total prediction explained: 12.85\n",
      "Total difference from average extraversion score: 13.19\n"
     ]
    }
   ],
   "source": [
    "X_mean = np.mean(X, axis=0)\n",
    "y_mean = y.mean()\n",
    "y_pred = reg.predict(X)\n",
    "print('Probability of being a manager: {:.2f}'.format(X_mean[0]))\n",
    "print('Average hours of socializing: {:.2f}'.format(X_mean[1]))\n",
    "print('Average extraversion score: {:.2f}'.format(y_mean))\n",
    "for idx in range(10):\n",
    "    print()\n",
    "    print('Manger: {}'.format(X[idx][0]==1))\n",
    "    print('Hours socializing: {:.2f}'.format(X[idx][1]))\n",
    "    print('Predicted extraversion: {:.2f}'.format(y_pred[idx]))\n",
    "    print('Explained by managerial status: {:.2f}'.format(gshap_values[0,idx]))\n",
    "    print('Explained by socializing: {:.2f}'.format(gshap_values[1][idx]))\n",
    "    print('Total prediction explained: {:.2f}'.format(gshap_values[:,idx].sum()))\n",
    "    print('Total difference from average extraversion score: {:.2f}'.format(y_pred[idx]-y_mean))"
   ]
  },
  {
   "cell_type": "code",
   "execution_count": 9,
   "metadata": {
    "ExecuteTime": {
     "end_time": "2020-12-14T19:49:54.260738Z",
     "start_time": "2020-12-14T19:49:53.816215Z"
    }
   },
   "outputs": [
    {
     "data": {
      "text/plain": [
       "<AxesSubplot:>"
      ]
     },
     "execution_count": 9,
     "metadata": {},
     "output_type": "execute_result"
    },
    {
     "data": {
      "image/png": "[encoded data removed]",
      "text/plain": [
       "<Figure size 432x288 with 1 Axes>"
      ]
     },
     "metadata": {
      "needs_background": "light"
     },
     "output_type": "display_data"
    }
   ],
   "source": [
    "sns.scatterplot(x=manager, y=gshap_values[0])"
   ]
  },
  {
   "cell_type": "code",
   "execution_count": 10,
   "metadata": {
    "ExecuteTime": {
     "end_time": "2020-12-14T19:49:54.669057Z",
     "start_time": "2020-12-14T19:49:54.264230Z"
    }
   },
   "outputs": [
    {
     "data": {
      "text/plain": [
       "<AxesSubplot:>"
      ]
     },
     "execution_count": 10,
     "metadata": {},
     "output_type": "execute_result"
    },
    {
     "data": {
      "image/png": "[encoded data removed]",
      "text/plain": [
       "<Figure size 432x288 with 1 Axes>"
      ]
     },
     "metadata": {
      "needs_background": "light"
     },
     "output_type": "display_data"
    }
   ],
   "source": [
    "sns.scatterplot(x=socialize, y=gshap_values[1])"
   ]
  },
  {
   "cell_type": "code",
   "execution_count": 11,
   "metadata": {
    "ExecuteTime": {
     "end_time": "2020-12-14T19:49:55.449681Z",
     "start_time": "2020-12-14T19:49:54.671985Z"
    }
   },
   "outputs": [
    {
     "name": "stdout",
     "output_type": "stream",
     "text": [
      "Importance of manager: 0.25\n",
      "Importance of socialize: 0.75\n"
     ]
    },
    {
     "data": {
      "image/png": "[encoded data removed]",
      "text/plain": [
       "<Figure size 432x288 with 1 Axes>"
      ]
     },
     "metadata": {
      "needs_background": "light"
     },
     "output_type": "display_data"
    }
   ],
   "source": [
    "g = lambda y_pred: r2_score(y, y_pred)\n",
    "explainer = gshap.KernelExplainer(reg.predict, X, g)\n",
    "gshap_values = explainer.gshap_values(X, nsamples=100)\n",
    "gshap_values /= gshap_values.sum()\n",
    "df = pd.DataFrame({\n",
    "    'Variable': ['Manager', 'Socialize'], \n",
    "    'Importance': list(gshap_values)\n",
    "})\n",
    "ax = sns.barplot(data=df, x='Importance', y='Variable')\n",
    "ax.set(xlabel=\"Explained variance in predicted extraversion\")\n",
    "ax\n",
    "print('Importance of manager: {:.2f}'.format(gshap_values[0]))\n",
    "print('Importance of socialize: {:.2f}'.format(gshap_values[1]))"
   ]
  },
  {
   "cell_type": "code",
   "execution_count": 12,
   "metadata": {
    "ExecuteTime": {
     "end_time": "2020-12-14T19:49:55.479248Z",
     "start_time": "2020-12-14T19:49:55.452941Z"
    }
   },
   "outputs": [
    {
     "name": "stdout",
     "output_type": "stream",
     "text": [
      "Correlation between extraversion and social media: 0.65\n"
     ]
    }
   ],
   "source": [
    "social_media = 0.5 * socialize + norm(0, 2).rvs(N)\n",
    "y = 50 * manager + 6 * socialize - .1 * socialize**2 - social_media\n",
    "corr = np.corrcoef(y, social_media)[0][1]\n",
    "print('Correlation between extraversion and social media: {:.2f}'.format(corr))"
   ]
  },
  {
   "cell_type": "code",
   "execution_count": 13,
   "metadata": {
    "ExecuteTime": {
     "end_time": "2020-12-14T19:49:55.504914Z",
     "start_time": "2020-12-14T19:49:55.489956Z"
    }
   },
   "outputs": [
    {
     "name": "stdout",
     "output_type": "stream",
     "text": [
      "Coef on social media: -0.10\n"
     ]
    }
   ],
   "source": [
    "X = np.array([manager, socialize, social_media]).T\n",
    "reg = Model().fit(X, y)\n",
    "print('Coef on social media: {:.2f}'.format(reg.coef_[-1]))"
   ]
  },
  {
   "cell_type": "code",
   "execution_count": 14,
   "metadata": {
    "ExecuteTime": {
     "end_time": "2020-12-14T19:49:56.881308Z",
     "start_time": "2020-12-14T19:49:55.526925Z"
    }
   },
   "outputs": [
    {
     "name": "stdout",
     "output_type": "stream",
     "text": [
      "Importance of manager: -0.00\n",
      "Importance of socialize: 0.78\n",
      "Importance of social media: -0.12\n"
     ]
    },
    {
     "data": {
      "image/png": "[encoded data removed]",
      "text/plain": [
       "<Figure size 432x288 with 1 Axes>"
      ]
     },
     "metadata": {
      "needs_background": "light"
     },
     "output_type": "display_data"
    }
   ],
   "source": [
    "g = lambda y_pred: np.corrcoef(y_pred, social_media)[0][1]\n",
    "explainer = gshap.KernelExplainer(reg.predict, X, g)\n",
    "gshap_values = explainer.gshap_values(X, nsamples=100)\n",
    "gshap_values *= corr / gshap_values.sum()\n",
    "df = pd.DataFrame({\n",
    "    'Variable': ['Manager', 'Socialize', 'Social media'], \n",
    "    'Importance': list(gshap_values)\n",
    "})\n",
    "ax = sns.barplot(data=df, x='Importance', y='Variable')\n",
    "ax.set(xlabel='Explained correlation between extraversion and social media')\n",
    "print('Importance of manager: {:.2f}'.format(gshap_values[0]))\n",
    "print('Importance of socialize: {:.2f}'.format(gshap_values[1]))\n",
    "print('Importance of social media: {:.2f}'.format(gshap_values[2]))"
   ]
  },
  {
   "cell_type": "code",
   "execution_count": null,
   "metadata": {},
   "outputs": [],
   "source": []
  }
 ],
 "metadata": {
  "kernelspec": {
   "display_name": "individual-diff",
   "language": "python",
   "name": "individual-diff"
  },
  "language_info": {
   "codemirror_mode": {
    "name": "ipython",
    "version": 3
   },
   "file_extension": ".py",
   "mimetype": "text/x-python",
   "name": "python",
   "nbconvert_exporter": "python",
   "pygments_lexer": "ipython3",
   "version": "3.6.8"
  },
  "toc": {
   "base_numbering": 1,
   "nav_menu": {},
   "number_sections": true,
   "sideBar": true,
   "skip_h1_title": false,
   "title_cell": "Table of Contents",
   "title_sidebar": "Contents",
   "toc_cell": false,
   "toc_position": {},
   "toc_section_display": true,
   "toc_window_display": false
  },
  "varInspector": {
   "cols": {
    "lenName": 16,
    "lenType": 16,
    "lenVar": 40
   },
   "kernels_config": {
    "python": {
     "delete_cmd_postfix": "",
     "delete_cmd_prefix": "del ",
     "library": "var_list.py",
     "varRefreshCmd": "print(var_dic_list())"
    },
    "r": {
     "delete_cmd_postfix": ") ",
     "delete_cmd_prefix": "rm(",
     "library": "var_list.r",
     "varRefreshCmd": "cat(var_dic_list()) "
    }
   },
   "types_to_exclude": [
    "module",
    "function",
    "builtin_function_or_method",
    "instance",
    "_Feature"
   ],
   "window_display": false
  }
 },
 "nbformat": 4,
 "nbformat_minor": 4
}
