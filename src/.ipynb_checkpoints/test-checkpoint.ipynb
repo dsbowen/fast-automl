{
 "cells": [
  {
   "cell_type": "code",
   "execution_count": 1,
   "metadata": {
    "ExecuteTime": {
     "end_time": "2021-01-05T13:54:59.584386Z",
     "start_time": "2021-01-05T13:54:57.920598Z"
    }
   },
   "outputs": [],
   "source": [
    "from ml_inference.tuners import RandomForestRegressorTuner, RidgeTuner\n",
    "from preprocess import Preprocessor\n",
    "\n",
    "import pandas as pd\n",
    "\n",
    "INFILE = '../data/pennycook_et_al_study2_clean.csv'"
   ]
  },
  {
   "cell_type": "code",
   "execution_count": 2,
   "metadata": {
    "ExecuteTime": {
     "end_time": "2021-01-05T13:54:59.773203Z",
     "start_time": "2021-01-05T13:54:59.646927Z"
    }
   },
   "outputs": [
    {
     "data": {
      "text/html": [
       "<div>\n",
       "<style scoped>\n",
       "    .dataframe tbody tr th:only-of-type {\n",
       "        vertical-align: middle;\n",
       "    }\n",
       "\n",
       "    .dataframe tbody tr th {\n",
       "        vertical-align: top;\n",
       "    }\n",
       "\n",
       "    .dataframe thead th {\n",
       "        text-align: right;\n",
       "    }\n",
       "</style>\n",
       "<table border=\"1\" class=\"dataframe\">\n",
       "  <thead>\n",
       "    <tr style=\"text-align: right;\">\n",
       "      <th></th>\n",
       "      <th>SharingType_1</th>\n",
       "      <th>SharingType_2</th>\n",
       "      <th>SharingType_3</th>\n",
       "      <th>SharingType_4</th>\n",
       "      <th>SharingType_6</th>\n",
       "      <th>SharingType_5</th>\n",
       "      <th>SocialMedia_1</th>\n",
       "      <th>SocialMedia_2</th>\n",
       "      <th>SocialMedia_3</th>\n",
       "      <th>SocialMedia_4</th>\n",
       "      <th>...</th>\n",
       "      <th>Male</th>\n",
       "      <th>Education</th>\n",
       "      <th>Income</th>\n",
       "      <th>English</th>\n",
       "      <th>Partisan</th>\n",
       "      <th>Social_Conserv</th>\n",
       "      <th>Economic_Conserv</th>\n",
       "      <th>Diff</th>\n",
       "      <th>Party</th>\n",
       "      <th>POTUS2016</th>\n",
       "    </tr>\n",
       "  </thead>\n",
       "  <tbody>\n",
       "    <tr>\n",
       "      <th>0</th>\n",
       "      <td>1.0</td>\n",
       "      <td>1.0</td>\n",
       "      <td>1.0</td>\n",
       "      <td>1.0</td>\n",
       "      <td>0.0</td>\n",
       "      <td>1.0</td>\n",
       "      <td>1.0</td>\n",
       "      <td>1.0</td>\n",
       "      <td>1.0</td>\n",
       "      <td>1.0</td>\n",
       "      <td>...</td>\n",
       "      <td>1.0</td>\n",
       "      <td>17.0</td>\n",
       "      <td>9.0</td>\n",
       "      <td>1.0</td>\n",
       "      <td>3.0</td>\n",
       "      <td>1.0</td>\n",
       "      <td>2.0</td>\n",
       "      <td>-0.200000</td>\n",
       "      <td>Democrat</td>\n",
       "      <td>Clinton</td>\n",
       "    </tr>\n",
       "    <tr>\n",
       "      <th>5</th>\n",
       "      <td>0.0</td>\n",
       "      <td>0.0</td>\n",
       "      <td>0.0</td>\n",
       "      <td>0.0</td>\n",
       "      <td>0.0</td>\n",
       "      <td>1.0</td>\n",
       "      <td>1.0</td>\n",
       "      <td>1.0</td>\n",
       "      <td>1.0</td>\n",
       "      <td>1.0</td>\n",
       "      <td>...</td>\n",
       "      <td>1.0</td>\n",
       "      <td>10.0</td>\n",
       "      <td>12.0</td>\n",
       "      <td>1.0</td>\n",
       "      <td>1.0</td>\n",
       "      <td>1.0</td>\n",
       "      <td>1.0</td>\n",
       "      <td>-0.200000</td>\n",
       "      <td>Democrat</td>\n",
       "      <td>Clinton</td>\n",
       "    </tr>\n",
       "    <tr>\n",
       "      <th>7</th>\n",
       "      <td>0.0</td>\n",
       "      <td>0.0</td>\n",
       "      <td>0.0</td>\n",
       "      <td>1.0</td>\n",
       "      <td>0.0</td>\n",
       "      <td>0.0</td>\n",
       "      <td>1.0</td>\n",
       "      <td>0.0</td>\n",
       "      <td>0.0</td>\n",
       "      <td>1.0</td>\n",
       "      <td>...</td>\n",
       "      <td>0.0</td>\n",
       "      <td>0.0</td>\n",
       "      <td>7.0</td>\n",
       "      <td>1.0</td>\n",
       "      <td>5.0</td>\n",
       "      <td>3.0</td>\n",
       "      <td>3.0</td>\n",
       "      <td>0.266667</td>\n",
       "      <td>Independent</td>\n",
       "      <td>Unable to vote</td>\n",
       "    </tr>\n",
       "    <tr>\n",
       "      <th>8</th>\n",
       "      <td>0.0</td>\n",
       "      <td>0.0</td>\n",
       "      <td>1.0</td>\n",
       "      <td>0.0</td>\n",
       "      <td>0.0</td>\n",
       "      <td>0.0</td>\n",
       "      <td>1.0</td>\n",
       "      <td>0.0</td>\n",
       "      <td>0.0</td>\n",
       "      <td>0.0</td>\n",
       "      <td>...</td>\n",
       "      <td>0.0</td>\n",
       "      <td>1.0</td>\n",
       "      <td>2.0</td>\n",
       "      <td>1.0</td>\n",
       "      <td>4.0</td>\n",
       "      <td>3.0</td>\n",
       "      <td>3.0</td>\n",
       "      <td>0.000000</td>\n",
       "      <td>Independent</td>\n",
       "      <td>Didn't vote but could have</td>\n",
       "    </tr>\n",
       "    <tr>\n",
       "      <th>13</th>\n",
       "      <td>0.0</td>\n",
       "      <td>0.0</td>\n",
       "      <td>0.0</td>\n",
       "      <td>0.0</td>\n",
       "      <td>1.0</td>\n",
       "      <td>0.0</td>\n",
       "      <td>1.0</td>\n",
       "      <td>0.0</td>\n",
       "      <td>0.0</td>\n",
       "      <td>0.0</td>\n",
       "      <td>...</td>\n",
       "      <td>0.0</td>\n",
       "      <td>12.0</td>\n",
       "      <td>3.0</td>\n",
       "      <td>1.0</td>\n",
       "      <td>3.0</td>\n",
       "      <td>3.0</td>\n",
       "      <td>3.0</td>\n",
       "      <td>-0.266667</td>\n",
       "      <td>Independent</td>\n",
       "      <td>Didn't vote but could have</td>\n",
       "    </tr>\n",
       "  </tbody>\n",
       "</table>\n",
       "<p>5 rows × 74 columns</p>\n",
       "</div>"
      ],
      "text/plain": [
       "    SharingType_1  SharingType_2  SharingType_3  SharingType_4  SharingType_6  \\\n",
       "0             1.0            1.0            1.0            1.0            0.0   \n",
       "5             0.0            0.0            0.0            0.0            0.0   \n",
       "7             0.0            0.0            0.0            1.0            0.0   \n",
       "8             0.0            0.0            1.0            0.0            0.0   \n",
       "13            0.0            0.0            0.0            0.0            1.0   \n",
       "\n",
       "    SharingType_5  SocialMedia_1  SocialMedia_2  SocialMedia_3  SocialMedia_4  \\\n",
       "0             1.0            1.0            1.0            1.0            1.0   \n",
       "5             1.0            1.0            1.0            1.0            1.0   \n",
       "7             0.0            1.0            0.0            0.0            1.0   \n",
       "8             0.0            1.0            0.0            0.0            0.0   \n",
       "13            0.0            1.0            0.0            0.0            0.0   \n",
       "\n",
       "    ...  Male  Education  Income  English  Partisan  Social_Conserv  \\\n",
       "0   ...   1.0       17.0     9.0      1.0       3.0             1.0   \n",
       "5   ...   1.0       10.0    12.0      1.0       1.0             1.0   \n",
       "7   ...   0.0        0.0     7.0      1.0       5.0             3.0   \n",
       "8   ...   0.0        1.0     2.0      1.0       4.0             3.0   \n",
       "13  ...   0.0       12.0     3.0      1.0       3.0             3.0   \n",
       "\n",
       "    Economic_Conserv      Diff        Party                   POTUS2016  \n",
       "0                2.0 -0.200000     Democrat                     Clinton  \n",
       "5                1.0 -0.200000     Democrat                     Clinton  \n",
       "7                3.0  0.266667  Independent              Unable to vote  \n",
       "8                3.0  0.000000  Independent  Didn't vote but could have  \n",
       "13               3.0 -0.266667  Independent  Didn't vote but could have  \n",
       "\n",
       "[5 rows x 74 columns]"
      ]
     },
     "execution_count": 2,
     "metadata": {},
     "output_type": "execute_result"
    }
   ],
   "source": [
    "df = pd.read_csv(INFILE)\n",
    "df = df[df.Treatment == 1].drop(columns='Treatment')\n",
    "X, y = df.drop(columns='Diff').reset_index(drop=True), df.Diff\n",
    "y = (y - y.mean()) / y.std()\n",
    "df.head()"
   ]
  },
  {
   "cell_type": "code",
   "execution_count": 89,
   "metadata": {
    "ExecuteTime": {
     "end_time": "2021-01-05T14:45:47.194476Z",
     "start_time": "2021-01-05T14:45:47.184255Z"
    }
   },
   "outputs": [],
   "source": [
    "from sklearn.ensemble import VotingRegressor\n",
    "\n",
    "class StackingRegressor(VotingRegressor):\n",
    "    def __init__(self, estimators, preprocess=[], weights=None, n_jobs=None, verbose=False):\n",
    "        self.preprocess = preprocess if isinstance(preprocess, list) else [preprocess]\n",
    "        super().__init__(estimators, weights=weights, n_jobs=n_jobs, verbose=verbose)\n",
    "        \n",
    "    def fit(self, X, y, sample_weight=[]):\n",
    "        resid = y.copy()\n",
    "        for _, est in self.estimators[:-1]:\n",
    "            est.fit(X, resid)\n",
    "            resid -= est.predict(X)\n",
    "        for preproc in self.preprocess:\n",
    "            X = preproc.fit(X).transform(X)\n",
    "        self.estimators[-1][1].fit(X, resid)\n",
    "        return self\n",
    "            \n",
    "    def predict(self, X):\n",
    "        predictions = [est.predict(X) for _, est in self.estimators[:-1]]        \n",
    "        for preproc in self.preprocess:\n",
    "            X = preproc.transform(X)\n",
    "        predictions.append(self.estimators[-1][1].predict(X))\n",
    "        return np.array(predictions).sum(axis=0) "
   ]
  },
  {
   "cell_type": "code",
   "execution_count": 90,
   "metadata": {
    "ExecuteTime": {
     "end_time": "2021-01-05T14:45:48.398565Z",
     "start_time": "2021-01-05T14:45:47.656034Z"
    }
   },
   "outputs": [
    {
     "data": {
      "text/plain": [
       "0.8931429839831512"
      ]
     },
     "execution_count": 90,
     "metadata": {},
     "output_type": "execute_result"
    }
   ],
   "source": [
    "from sklearn.ensemble import RandomForestRegressor\n",
    "from sklearn.svm import SVR\n",
    "from sklearn.linear_model import Ridge\n",
    "\n",
    "reg = StackingRegressor(\n",
    "    [\n",
    "        ('svr', make_pipeline(\n",
    "            Preprocessor(X),\n",
    "            SVR()\n",
    "        )),\n",
    "        ('rf', RandomForestRegressor())\n",
    "    ], \n",
    "    preprocess=Preprocessor(X)\n",
    ")\n",
    "reg.fit(X, y)\n",
    "reg.score(X, y)"
   ]
  },
  {
   "cell_type": "code",
   "execution_count": 91,
   "metadata": {
    "ExecuteTime": {
     "end_time": "2021-01-05T14:45:57.297263Z",
     "start_time": "2021-01-05T14:45:48.785594Z"
    }
   },
   "outputs": [
    {
     "name": "stdout",
     "output_type": "stream",
     "text": [
      "0.1095820447885673\n",
      "-0.023232320524020956\n",
      "0.08702720718569781\n",
      "0.11185343139216382\n"
     ]
    }
   ],
   "source": [
    "from sklearn.pipeline import make_pipeline\n",
    "from sklearn.model_selection import cross_val_score\n",
    "\n",
    "rf = make_pipeline(\n",
    "    Preprocessor(X),\n",
    "    RandomForestRegressor()\n",
    ")\n",
    "print(cross_val_score(rf, X, y).mean())\n",
    "svr = make_pipeline(\n",
    "    Preprocessor(X),\n",
    "    SVR()\n",
    ")\n",
    "print(cross_val_score(svr, X, y).mean())\n",
    "vr = make_pipeline(\n",
    "    Preprocessor(X),\n",
    "    VotingRegressor([\n",
    "        ('rf', RandomForestRegressor()),\n",
    "        ('svr', SVR())\n",
    "    ])\n",
    ")\n",
    "print(cross_val_score(vr, X, y).mean())\n",
    "print(cross_val_score(reg, X, y).mean())"
   ]
  },
  {
   "cell_type": "code",
   "execution_count": 92,
   "metadata": {
    "ExecuteTime": {
     "end_time": "2021-01-05T14:45:59.693107Z",
     "start_time": "2021-01-05T14:45:59.680323Z"
    }
   },
   "outputs": [
    {
     "data": {
      "text/plain": [
       "{'estimators': [('svr',\n",
       "   Pipeline(steps=[('preprocessor',\n",
       "                    <preprocess.Preprocessor object at 0x7f8b34c22e48>),\n",
       "                   ('svr', SVR())])),\n",
       "  ('rf', RandomForestRegressor())],\n",
       " 'n_jobs': None,\n",
       " 'preprocess': [<preprocess.Preprocessor at 0x7f8b34c22400>],\n",
       " 'verbose': False,\n",
       " 'weights': None,\n",
       " 'svr': Pipeline(steps=[('preprocessor',\n",
       "                  <preprocess.Preprocessor object at 0x7f8b34c22e48>),\n",
       "                 ('svr', SVR())]),\n",
       " 'rf': RandomForestRegressor(),\n",
       " 'svr__memory': None,\n",
       " 'svr__steps': [('preprocessor', <preprocess.Preprocessor at 0x7f8b34c22e48>),\n",
       "  ('svr', SVR())],\n",
       " 'svr__verbose': False,\n",
       " 'svr__preprocessor': <preprocess.Preprocessor at 0x7f8b34c22e48>,\n",
       " 'svr__svr': SVR(),\n",
       " 'svr__svr__C': 1.0,\n",
       " 'svr__svr__cache_size': 200,\n",
       " 'svr__svr__coef0': 0.0,\n",
       " 'svr__svr__degree': 3,\n",
       " 'svr__svr__epsilon': 0.1,\n",
       " 'svr__svr__gamma': 'scale',\n",
       " 'svr__svr__kernel': 'rbf',\n",
       " 'svr__svr__max_iter': -1,\n",
       " 'svr__svr__shrinking': True,\n",
       " 'svr__svr__tol': 0.001,\n",
       " 'svr__svr__verbose': False,\n",
       " 'rf__bootstrap': True,\n",
       " 'rf__ccp_alpha': 0.0,\n",
       " 'rf__criterion': 'mse',\n",
       " 'rf__max_depth': None,\n",
       " 'rf__max_features': 'auto',\n",
       " 'rf__max_leaf_nodes': None,\n",
       " 'rf__max_samples': None,\n",
       " 'rf__min_impurity_decrease': 0.0,\n",
       " 'rf__min_impurity_split': None,\n",
       " 'rf__min_samples_leaf': 1,\n",
       " 'rf__min_samples_split': 2,\n",
       " 'rf__min_weight_fraction_leaf': 0.0,\n",
       " 'rf__n_estimators': 100,\n",
       " 'rf__n_jobs': None,\n",
       " 'rf__oob_score': False,\n",
       " 'rf__random_state': None,\n",
       " 'rf__verbose': 0,\n",
       " 'rf__warm_start': False}"
      ]
     },
     "execution_count": 92,
     "metadata": {},
     "output_type": "execute_result"
    }
   ],
   "source": [
    "reg.get_params()"
   ]
  },
  {
   "cell_type": "code",
   "execution_count": 103,
   "metadata": {
    "ExecuteTime": {
     "end_time": "2021-01-05T14:50:47.082699Z",
     "start_time": "2021-01-05T14:50:47.065102Z"
    }
   },
   "outputs": [],
   "source": [
    "from sklearn.decomposition import PCA\n",
    "from sklearn.ensemble import AdaBoostRegressor, RandomForestRegressor\n",
    "from sklearn.kernel_ridge import KernelRidge\n",
    "from sklearn.linear_model import LassoLars, Ridge, ElasticNet\n",
    "from sklearn.model_selection import RandomizedSearchCV\n",
    "from sklearn.neighbors import KNeighborsRegressor\n",
    "from sklearn.pipeline import make_pipeline\n",
    "from sklearn.preprocessing import PolynomialFeatures, StandardScaler\n",
    "from sklearn.svm import SVR\n",
    "from scipy.stats import expon, uniform, poisson, randint\n",
    "from xgboost import XGBRegressor\n",
    "\n",
    "from ml_inference.tuners import Tuner\n",
    "\n",
    "class RandomForestStackingRegressorTuner(Tuner):\n",
    "    def __init__(self, name, estimators=[], preprocess=[]):\n",
    "        self.name = name\n",
    "        self.estimators = estimators\n",
    "        self.preprocess = preprocess if isinstance(preprocess, list) else [preprocess]\n",
    "        \n",
    "    def make_estimator(self, **params):\n",
    "        est = make_pipeline(\n",
    "            PolynomialFeatures(),\n",
    "            PCA(),\n",
    "            RandomForestRegressor()\n",
    "        )\n",
    "        stacking_est = StackingRegressor(\n",
    "            self.estimators+[(self.name, est)], \n",
    "            preprocess=self.preprocess\n",
    "        )\n",
    "        return stacking_est.set_params(**params)\n",
    "#         return super().make_estimator(est.set_params(**params))\n",
    "\n",
    "    def make_best_estimator(self, idx=0, return_score=False):\n",
    "        if idx < 1 and idx != 0:\n",
    "            # interpret idx as a quantile\n",
    "            idx = round(idx*(len(self.best_params_)-1))\n",
    "        est = self.make_estimator(**self.best_params_[idx][1])\n",
    "        return (self.best_params_[idx][0], est) if return_score else est\n",
    "        \n",
    "    def get_param_distributions(self, X, y):\n",
    "        return {\n",
    "            'rf__polynomialfeatures__degree': [1, 2],\n",
    "            'rf__pca__n_components': list(range(1, X.shape[1])),\n",
    "            'rf__randomforestregressor__n_estimators': poisson(1, 2**5)\n",
    "        }"
   ]
  },
  {
   "cell_type": "code",
   "execution_count": 104,
   "metadata": {
    "ExecuteTime": {
     "end_time": "2021-01-05T14:51:35.644660Z",
     "start_time": "2021-01-05T14:50:47.639882Z"
    }
   },
   "outputs": [
    {
     "data": {
      "text/plain": [
       "0.09997779176372598"
      ]
     },
     "execution_count": 104,
     "metadata": {},
     "output_type": "execute_result"
    }
   ],
   "source": [
    "from ml_inference.tuners import SVRTuner\n",
    "\n",
    "tuner = SVRTuner(Preprocessor(X)).tune(X, y, n_iter=2**5)\n",
    "svr = tuner.make_best_estimator()\n",
    "cross_val_score(svr, X, y).mean()"
   ]
  },
  {
   "cell_type": "code",
   "execution_count": 105,
   "metadata": {
    "ExecuteTime": {
     "end_time": "2021-01-05T14:55:26.929552Z",
     "start_time": "2021-01-05T14:51:36.249880Z"
    }
   },
   "outputs": [
    {
     "data": {
      "text/plain": [
       "<__main__.RandomForestStackingRegressorTuner at 0x7f8b34cf6278>"
      ]
     },
     "execution_count": 105,
     "metadata": {},
     "output_type": "execute_result"
    }
   ],
   "source": [
    "tuner = RandomForestStackingRegressorTuner('rf', estimators=[('svr', svr)], preprocess=Preprocessor(X))\n",
    "tuner.tune(X, y, n_iter=2**5)"
   ]
  },
  {
   "cell_type": "code",
   "execution_count": 106,
   "metadata": {
    "ExecuteTime": {
     "end_time": "2021-01-05T14:55:27.402533Z",
     "start_time": "2021-01-05T14:55:27.396988Z"
    }
   },
   "outputs": [
    {
     "data": {
      "text/plain": [
       "(0.07676697760578974,\n",
       " {'rf__pca__n_components': 52,\n",
       "  'rf__polynomialfeatures__degree': 1,\n",
       "  'rf__randomforestregressor__n_estimators': 128})"
      ]
     },
     "execution_count": 106,
     "metadata": {},
     "output_type": "execute_result"
    }
   ],
   "source": [
    "tuner.best_params_[0]"
   ]
  },
  {
   "cell_type": "code",
   "execution_count": 107,
   "metadata": {
    "ExecuteTime": {
     "end_time": "2021-01-05T14:55:40.328812Z",
     "start_time": "2021-01-05T14:55:27.873226Z"
    }
   },
   "outputs": [
    {
     "name": "stdout",
     "output_type": "stream",
     "text": [
      "0.0827800929555508\n"
     ]
    },
    {
     "data": {
      "text/plain": [
       "{'estimators': [('svr',\n",
       "   Pipeline(steps=[('preprocessor',\n",
       "                    <preprocess.Preprocessor object at 0x7f8b34cd92b0>),\n",
       "                   ('polynomialfeatures', PolynomialFeatures(degree=1)),\n",
       "                   ('pca', PCA(n_components=31)),\n",
       "                   ('standardscaler', StandardScaler()),\n",
       "                   ('svr', SVR(C=2.6969647565051544, kernel='linear'))])),\n",
       "  ('rf',\n",
       "   Pipeline(steps=[('polynomialfeatures', PolynomialFeatures(degree=1)),\n",
       "                   ('pca', PCA(n_components=52)),\n",
       "                   ('randomforestregressor',\n",
       "                    RandomForestRegressor(n_estimators=128))]))],\n",
       " 'n_jobs': None,\n",
       " 'preprocess': [<preprocess.Preprocessor at 0x7f8b34cf6e80>],\n",
       " 'verbose': False,\n",
       " 'weights': None,\n",
       " 'svr': Pipeline(steps=[('preprocessor',\n",
       "                  <preprocess.Preprocessor object at 0x7f8b34cd92b0>),\n",
       "                 ('polynomialfeatures', PolynomialFeatures(degree=1)),\n",
       "                 ('pca', PCA(n_components=31)),\n",
       "                 ('standardscaler', StandardScaler()),\n",
       "                 ('svr', SVR(C=2.6969647565051544, kernel='linear'))]),\n",
       " 'rf': Pipeline(steps=[('polynomialfeatures', PolynomialFeatures(degree=1)),\n",
       "                 ('pca', PCA(n_components=52)),\n",
       "                 ('randomforestregressor',\n",
       "                  RandomForestRegressor(n_estimators=128))]),\n",
       " 'svr__memory': None,\n",
       " 'svr__steps': [('preprocessor', <preprocess.Preprocessor at 0x7f8b34cd92b0>),\n",
       "  ('polynomialfeatures', PolynomialFeatures(degree=1)),\n",
       "  ('pca', PCA(n_components=31)),\n",
       "  ('standardscaler', StandardScaler()),\n",
       "  ('svr', SVR(C=2.6969647565051544, kernel='linear'))],\n",
       " 'svr__verbose': False,\n",
       " 'svr__preprocessor': <preprocess.Preprocessor at 0x7f8b34cd92b0>,\n",
       " 'svr__polynomialfeatures': PolynomialFeatures(degree=1),\n",
       " 'svr__pca': PCA(n_components=31),\n",
       " 'svr__standardscaler': StandardScaler(),\n",
       " 'svr__svr': SVR(C=2.6969647565051544, kernel='linear'),\n",
       " 'svr__polynomialfeatures__degree': 1,\n",
       " 'svr__polynomialfeatures__include_bias': True,\n",
       " 'svr__polynomialfeatures__interaction_only': False,\n",
       " 'svr__polynomialfeatures__order': 'C',\n",
       " 'svr__pca__copy': True,\n",
       " 'svr__pca__iterated_power': 'auto',\n",
       " 'svr__pca__n_components': 31,\n",
       " 'svr__pca__random_state': None,\n",
       " 'svr__pca__svd_solver': 'auto',\n",
       " 'svr__pca__tol': 0.0,\n",
       " 'svr__pca__whiten': False,\n",
       " 'svr__standardscaler__copy': True,\n",
       " 'svr__standardscaler__with_mean': True,\n",
       " 'svr__standardscaler__with_std': True,\n",
       " 'svr__svr__C': 2.6969647565051544,\n",
       " 'svr__svr__cache_size': 200,\n",
       " 'svr__svr__coef0': 0.0,\n",
       " 'svr__svr__degree': 3,\n",
       " 'svr__svr__epsilon': 0.1,\n",
       " 'svr__svr__gamma': 'scale',\n",
       " 'svr__svr__kernel': 'linear',\n",
       " 'svr__svr__max_iter': -1,\n",
       " 'svr__svr__shrinking': True,\n",
       " 'svr__svr__tol': 0.001,\n",
       " 'svr__svr__verbose': False,\n",
       " 'rf__memory': None,\n",
       " 'rf__steps': [('polynomialfeatures', PolynomialFeatures(degree=1)),\n",
       "  ('pca', PCA(n_components=52)),\n",
       "  ('randomforestregressor', RandomForestRegressor(n_estimators=128))],\n",
       " 'rf__verbose': False,\n",
       " 'rf__polynomialfeatures': PolynomialFeatures(degree=1),\n",
       " 'rf__pca': PCA(n_components=52),\n",
       " 'rf__randomforestregressor': RandomForestRegressor(n_estimators=128),\n",
       " 'rf__polynomialfeatures__degree': 1,\n",
       " 'rf__polynomialfeatures__include_bias': True,\n",
       " 'rf__polynomialfeatures__interaction_only': False,\n",
       " 'rf__polynomialfeatures__order': 'C',\n",
       " 'rf__pca__copy': True,\n",
       " 'rf__pca__iterated_power': 'auto',\n",
       " 'rf__pca__n_components': 52,\n",
       " 'rf__pca__random_state': None,\n",
       " 'rf__pca__svd_solver': 'auto',\n",
       " 'rf__pca__tol': 0.0,\n",
       " 'rf__pca__whiten': False,\n",
       " 'rf__randomforestregressor__bootstrap': True,\n",
       " 'rf__randomforestregressor__ccp_alpha': 0.0,\n",
       " 'rf__randomforestregressor__criterion': 'mse',\n",
       " 'rf__randomforestregressor__max_depth': None,\n",
       " 'rf__randomforestregressor__max_features': 'auto',\n",
       " 'rf__randomforestregressor__max_leaf_nodes': None,\n",
       " 'rf__randomforestregressor__max_samples': None,\n",
       " 'rf__randomforestregressor__min_impurity_decrease': 0.0,\n",
       " 'rf__randomforestregressor__min_impurity_split': None,\n",
       " 'rf__randomforestregressor__min_samples_leaf': 1,\n",
       " 'rf__randomforestregressor__min_samples_split': 2,\n",
       " 'rf__randomforestregressor__min_weight_fraction_leaf': 0.0,\n",
       " 'rf__randomforestregressor__n_estimators': 128,\n",
       " 'rf__randomforestregressor__n_jobs': None,\n",
       " 'rf__randomforestregressor__oob_score': False,\n",
       " 'rf__randomforestregressor__random_state': None,\n",
       " 'rf__randomforestregressor__verbose': 0,\n",
       " 'rf__randomforestregressor__warm_start': False}"
      ]
     },
     "execution_count": 107,
     "metadata": {},
     "output_type": "execute_result"
    }
   ],
   "source": [
    "reg = tuner.make_best_estimator()\n",
    "print(cross_val_score(reg, X, y).mean())\n",
    "reg.get_params()"
   ]
  },
  {
   "cell_type": "code",
   "execution_count": null,
   "metadata": {
    "ExecuteTime": {
     "end_time": "2021-01-05T13:52:32.093043Z",
     "start_time": "2021-01-05T13:52:32.088388Z"
    }
   },
   "outputs": [],
   "source": [
    "from ml_inference.tuners import Tuner\n",
    "\n",
    "\n",
    "class StackingTuner(Tuner):\n",
    "    def __init__(self, estimators=[], preprocess=[]):\n",
    "        self.estimators = estimators\n",
    "        self.preprocess = preprocess if isinstance(preprocess, list) else [preprocess]\n",
    "        \n",
    "    def make_estimator(self, last_estimator):\n",
    "        return StackingRegressor(self.estimators+[last_estimator])"
   ]
  },
  {
   "cell_type": "code",
   "execution_count": null,
   "metadata": {},
   "outputs": [],
   "source": []
  }
 ],
 "metadata": {
  "kernelspec": {
   "display_name": "individual-diff",
   "language": "python",
   "name": "individual-diff"
  },
  "language_info": {
   "codemirror_mode": {
    "name": "ipython",
    "version": 3
   },
   "file_extension": ".py",
   "mimetype": "text/x-python",
   "name": "python",
   "nbconvert_exporter": "python",
   "pygments_lexer": "ipython3",
   "version": "3.6.8"
  },
  "toc": {
   "base_numbering": 1,
   "nav_menu": {},
   "number_sections": true,
   "sideBar": true,
   "skip_h1_title": false,
   "title_cell": "Table of Contents",
   "title_sidebar": "Contents",
   "toc_cell": false,
   "toc_position": {},
   "toc_section_display": true,
   "toc_window_display": false
  },
  "varInspector": {
   "cols": {
    "lenName": 16,
    "lenType": 16,
    "lenVar": 40
   },
   "kernels_config": {
    "python": {
     "delete_cmd_postfix": "",
     "delete_cmd_prefix": "del ",
     "library": "var_list.py",
     "varRefreshCmd": "print(var_dic_list())"
    },
    "r": {
     "delete_cmd_postfix": ") ",
     "delete_cmd_prefix": "rm(",
     "library": "var_list.r",
     "varRefreshCmd": "cat(var_dic_list()) "
    }
   },
   "types_to_exclude": [
    "module",
    "function",
    "builtin_function_or_method",
    "instance",
    "_Feature"
   ],
   "window_display": false
  }
 },
 "nbformat": 4,
 "nbformat_minor": 4
}
