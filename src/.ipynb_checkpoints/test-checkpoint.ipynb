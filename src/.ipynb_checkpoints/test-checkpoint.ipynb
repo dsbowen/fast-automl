{
 "cells": [
  {
   "cell_type": "code",
   "execution_count": 1,
   "metadata": {},
   "outputs": [],
   "source": [
    "from dask.distributed import Client\n",
    "\n",
    "client = Client(n_workers=4)"
   ]
  },
  {
   "cell_type": "code",
   "execution_count": 2,
   "metadata": {},
   "outputs": [],
   "source": [
    "from sklearn.datasets import load_breast_cancer\n",
    "\n",
    "X, y = load_breast_cancer(return_X_y=True)"
   ]
  },
  {
   "cell_type": "code",
   "execution_count": 3,
   "metadata": {},
   "outputs": [],
   "source": [
    "from sklearn.model_selection import cross_val_score"
   ]
  },
  {
   "cell_type": "code",
   "execution_count": 4,
   "metadata": {},
   "outputs": [
    {
     "data": {
      "text/plain": [
       "0.9736376339077782"
      ]
     },
     "execution_count": 4,
     "metadata": {},
     "output_type": "execute_result"
    }
   ],
   "source": [
    "from sklearn.pipeline import make_pipeline\n",
    "from sklearn.preprocessing import StandardScaler\n",
    "from sklearn.svm import SVC\n",
    "\n",
    "svc = make_pipeline(\n",
    "    StandardScaler(),\n",
    "    SVC()\n",
    ")\n",
    "cross_val_score(svc, X, y).mean()"
   ]
  },
  {
   "cell_type": "code",
   "execution_count": 5,
   "metadata": {},
   "outputs": [
    {
     "data": {
      "text/plain": [
       "0.9595870206489675"
      ]
     },
     "execution_count": 5,
     "metadata": {},
     "output_type": "execute_result"
    }
   ],
   "source": [
    "from sklearn.ensemble import RandomForestClassifier\n",
    "\n",
    "rf = RandomForestClassifier()\n",
    "cross_val_score(rf, X, y).mean()"
   ]
  },
  {
   "cell_type": "code",
   "execution_count": 6,
   "metadata": {},
   "outputs": [],
   "source": [
    "estimators = [('svc', svc), ('rf', rf)]"
   ]
  },
  {
   "cell_type": "code",
   "execution_count": 15,
   "metadata": {},
   "outputs": [],
   "source": [
    "import numpy as np\n",
    "import pandas as pd\n",
    "from copy import deepcop\n",
    "from dask import delayed\n",
    "from sklearn.base import clone\n",
    "from sklearn.model_selection import KFold\n",
    "\n",
    "def cv_test(estimators, X, y, scorer, repeat=10, cv=10, parallel=False):\n",
    "    def compute_cv_score(kf, estimators, X, y):\n",
    "        scores = {name: [] for name, _ in estimators}\n",
    "        for train_idx, test_idx in kf.split(X):\n",
    "            if isinstance(X, pd.DataFrame):\n",
    "                X_train, X_test = X.iloc[train_idx], X.iloc[test_idx]\n",
    "            else:\n",
    "                X_train, X_test = X[train_idx], X[test_idx]\n",
    "            y_train, y_test = y[train_idx], y[test_idx]\n",
    "            compute_fold_score(\n",
    "                scores, estimators, X_train, X_test, y_train, y_test\n",
    "            )\n",
    "        return {name: np.array(fold_scores).mean() for name, fold_scores in scores.items()}\n",
    "    \n",
    "    def compute_fold_score(scores, estimators, X_train, X_test, y_train, y_test):\n",
    "        for name, est in estimators:\n",
    "            f = (\n",
    "                delayed(compute_estimator_score) if parallel\n",
    "                else compute_estimator_score\n",
    "            )\n",
    "            scores[name].append(\n",
    "                f(est, X_train, X_test, y_train, y_test)\n",
    "            )\n",
    "    \n",
    "    def compute_estimator_score(estimator, X_train, X_test, y_train, y_test):\n",
    "        if parallel:\n",
    "            estimator = clone(estimator)\n",
    "        estimator.fit(X_train, y_train)\n",
    "        return scorer(y_test, estimator.predict(X_test))\n",
    "        \n",
    "    scores = []\n",
    "    for _ in range(repeat):\n",
    "        kf = KFold(cv, shuffle=True)\n",
    "        scores.append(compute_cv_score(kf, estimators, X, y))\n",
    "    return (\n",
    "        delayed(pd.DataFrame)(scores).compute() if parallel\n",
    "        else pd.DataFrame(scores)\n",
    "    )"
   ]
  },
  {
   "cell_type": "code",
   "execution_count": 8,
   "metadata": {},
   "outputs": [],
   "source": [
    "from scipy.stats import ttest_1samp\n",
    "\n",
    "import itertools\n",
    "\n",
    "def run_pairwise_tests(df):\n",
    "    def run_test(pair):\n",
    "        delta = df[pair[1]] - df[pair[0]]\n",
    "        res = ttest_1samp(delta, 0)\n",
    "        return {\n",
    "            'Model1': pair[0],\n",
    "            'Model2': pair[1],\n",
    "            'MeanDifference': delta.mean(),\n",
    "            't-stat': res.statistic,\n",
    "            'p-value': res.pvalue\n",
    "        }\n",
    "    \n",
    "    return pd.DataFrame([\n",
    "        run_test(pair) \n",
    "        for pair in itertools.combinations(df.columns, 2)\n",
    "    ])"
   ]
  },
  {
   "cell_type": "code",
   "execution_count": 9,
   "metadata": {},
   "outputs": [],
   "source": [
    "import seaborn as sns\n",
    "\n",
    "def gen_score_plot(df):\n",
    "    df = pd.melt(df, var_name='Model', value_name='Score')\n",
    "    ax = sns.boxplot(x='Model', y='Score', data=df)\n",
    "    ax.set(ylabel='Cross validation score')\n",
    "    return ax"
   ]
  },
  {
   "cell_type": "code",
   "execution_count": 16,
   "metadata": {},
   "outputs": [
    {
     "name": "stdout",
     "output_type": "stream",
     "text": [
      "CPU times: user 1.68 s, sys: 91 ms, total: 1.77 s\n",
      "Wall time: 11.8 s\n"
     ]
    },
    {
     "data": {
      "text/html": [
       "<div>\n",
       "<style scoped>\n",
       "    .dataframe tbody tr th:only-of-type {\n",
       "        vertical-align: middle;\n",
       "    }\n",
       "\n",
       "    .dataframe tbody tr th {\n",
       "        vertical-align: top;\n",
       "    }\n",
       "\n",
       "    .dataframe thead th {\n",
       "        text-align: right;\n",
       "    }\n",
       "</style>\n",
       "<table border=\"1\" class=\"dataframe\">\n",
       "  <thead>\n",
       "    <tr style=\"text-align: right;\">\n",
       "      <th></th>\n",
       "      <th>svc</th>\n",
       "      <th>rf</th>\n",
       "    </tr>\n",
       "  </thead>\n",
       "  <tbody>\n",
       "    <tr>\n",
       "      <th>0</th>\n",
       "      <td>0.977099</td>\n",
       "      <td>0.963095</td>\n",
       "    </tr>\n",
       "    <tr>\n",
       "      <th>1</th>\n",
       "      <td>0.973653</td>\n",
       "      <td>0.970113</td>\n",
       "    </tr>\n",
       "    <tr>\n",
       "      <th>2</th>\n",
       "      <td>0.978916</td>\n",
       "      <td>0.959586</td>\n",
       "    </tr>\n",
       "    <tr>\n",
       "      <th>3</th>\n",
       "      <td>0.977130</td>\n",
       "      <td>0.957801</td>\n",
       "    </tr>\n",
       "    <tr>\n",
       "      <th>4</th>\n",
       "      <td>0.973653</td>\n",
       "      <td>0.961341</td>\n",
       "    </tr>\n",
       "    <tr>\n",
       "      <th>5</th>\n",
       "      <td>0.973622</td>\n",
       "      <td>0.968390</td>\n",
       "    </tr>\n",
       "    <tr>\n",
       "      <th>6</th>\n",
       "      <td>0.978916</td>\n",
       "      <td>0.956109</td>\n",
       "    </tr>\n",
       "    <tr>\n",
       "      <th>7</th>\n",
       "      <td>0.975313</td>\n",
       "      <td>0.961310</td>\n",
       "    </tr>\n",
       "    <tr>\n",
       "      <th>8</th>\n",
       "      <td>0.977162</td>\n",
       "      <td>0.956109</td>\n",
       "    </tr>\n",
       "    <tr>\n",
       "      <th>9</th>\n",
       "      <td>0.978885</td>\n",
       "      <td>0.961341</td>\n",
       "    </tr>\n",
       "  </tbody>\n",
       "</table>\n",
       "</div>"
      ],
      "text/plain": [
       "        svc        rf\n",
       "0  0.977099  0.963095\n",
       "1  0.973653  0.970113\n",
       "2  0.978916  0.959586\n",
       "3  0.977130  0.957801\n",
       "4  0.973653  0.961341\n",
       "5  0.973622  0.968390\n",
       "6  0.978916  0.956109\n",
       "7  0.975313  0.961310\n",
       "8  0.977162  0.956109\n",
       "9  0.978885  0.961341"
      ]
     },
     "execution_count": 16,
     "metadata": {},
     "output_type": "execute_result"
    }
   ],
   "source": [
    "%%time\n",
    "\n",
    "from sklearn.metrics import accuracy_score\n",
    "\n",
    "score_df = cv_test(estimators, X, y, accuracy_score, 10, 10, parallel=True)\n",
    "score_df"
   ]
  },
  {
   "cell_type": "code",
   "execution_count": 11,
   "metadata": {},
   "outputs": [
    {
     "data": {
      "text/html": [
       "<div>\n",
       "<style scoped>\n",
       "    .dataframe tbody tr th:only-of-type {\n",
       "        vertical-align: middle;\n",
       "    }\n",
       "\n",
       "    .dataframe tbody tr th {\n",
       "        vertical-align: top;\n",
       "    }\n",
       "\n",
       "    .dataframe thead th {\n",
       "        text-align: right;\n",
       "    }\n",
       "</style>\n",
       "<table border=\"1\" class=\"dataframe\">\n",
       "  <thead>\n",
       "    <tr style=\"text-align: right;\">\n",
       "      <th></th>\n",
       "      <th>Model1</th>\n",
       "      <th>Model2</th>\n",
       "      <th>MeanDifference</th>\n",
       "      <th>t-stat</th>\n",
       "      <th>p-value</th>\n",
       "    </tr>\n",
       "  </thead>\n",
       "  <tbody>\n",
       "    <tr>\n",
       "      <th>0</th>\n",
       "      <td>svc</td>\n",
       "      <td>rf</td>\n",
       "      <td>-0.01302</td>\n",
       "      <td>-10.560324</td>\n",
       "      <td>0.000002</td>\n",
       "    </tr>\n",
       "  </tbody>\n",
       "</table>\n",
       "</div>"
      ],
      "text/plain": [
       "  Model1 Model2  MeanDifference     t-stat   p-value\n",
       "0    svc     rf        -0.01302 -10.560324  0.000002"
      ]
     },
     "execution_count": 11,
     "metadata": {},
     "output_type": "execute_result"
    }
   ],
   "source": [
    "comparison_df = run_pairwise_tests(score_df)\n",
    "comparison_df"
   ]
  },
  {
   "cell_type": "code",
   "execution_count": 12,
   "metadata": {},
   "outputs": [
    {
     "data": {
      "text/plain": [
       "<AxesSubplot:xlabel='Model', ylabel='Cross validation score'>"
      ]
     },
     "execution_count": 12,
     "metadata": {},
     "output_type": "execute_result"
    },
    {
     "data": {
      "image/png": "[encoded data removed]",
      "text/plain": [
       "<Figure size 432x288 with 1 Axes>"
      ]
     },
     "metadata": {
      "needs_background": "light"
     },
     "output_type": "display_data"
    }
   ],
   "source": [
    "ax = gen_score_plot(score_df)\n",
    "ax"
   ]
  },
  {
   "cell_type": "code",
   "execution_count": 13,
   "metadata": {},
   "outputs": [
    {
     "data": {
      "text/plain": [
       "RandomForestClassifier()"
      ]
     },
     "execution_count": 13,
     "metadata": {},
     "output_type": "execute_result"
    }
   ],
   "source": [
    "from sklearn.base import clone\n",
    "\n",
    "clone(rf)"
   ]
  },
  {
   "cell_type": "code",
   "execution_count": null,
   "metadata": {},
   "outputs": [],
   "source": []
  }
 ],
 "metadata": {
  "kernelspec": {
   "display_name": "ml-inference",
   "language": "python",
   "name": "ml-inference"
  },
  "language_info": {
   "codemirror_mode": {
    "name": "ipython",
    "version": 3
   },
   "file_extension": ".py",
   "mimetype": "text/x-python",
   "name": "python",
   "nbconvert_exporter": "python",
   "pygments_lexer": "ipython3",
   "version": "3.8.5"
  },
  "toc": {
   "base_numbering": 1,
   "nav_menu": {},
   "number_sections": true,
   "sideBar": true,
   "skip_h1_title": false,
   "title_cell": "Table of Contents",
   "title_sidebar": "Contents",
   "toc_cell": false,
   "toc_position": {},
   "toc_section_display": true,
   "toc_window_display": false
  },
  "varInspector": {
   "cols": {
    "lenName": 16,
    "lenType": 16,
    "lenVar": 40
   },
   "kernels_config": {
    "python": {
     "delete_cmd_postfix": "",
     "delete_cmd_prefix": "del ",
     "library": "var_list.py",
     "varRefreshCmd": "print(var_dic_list())"
    },
    "r": {
     "delete_cmd_postfix": ") ",
     "delete_cmd_prefix": "rm(",
     "library": "var_list.r",
     "varRefreshCmd": "cat(var_dic_list()) "
    }
   },
   "types_to_exclude": [
    "module",
    "function",
    "builtin_function_or_method",
    "instance",
    "_Feature"
   ],
   "window_display": false
  }
 },
 "nbformat": 4,
 "nbformat_minor": 4
}
