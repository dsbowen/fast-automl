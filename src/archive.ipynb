{
 "cells": [
  {
   "cell_type": "code",
   "execution_count": null,
   "metadata": {},
   "outputs": [],
   "source": [
    "from sklearn.utils import resample\n",
    "\n",
    "def transform_X(X):\n",
    "    if isinstance(X, (pd.DataFrame, pd.Series)):\n",
    "        X = X.values\n",
    "    if len(X.shape) == 1:\n",
    "        X = X.reshape(-1, 1)\n",
    "    return X\n",
    "\n",
    "def treatment_effect(reg, X, treat_var=0, control_val=0, treat_val=1):\n",
    "    X = transform_X(X)\n",
    "    X_control, X_treat = X.copy(), X.copy()\n",
    "    X_control[:,treat_var] = control_val\n",
    "    X_treat[:,treat_var] = treat_val\n",
    "    return reg.predict(X_treat) - reg.predict(X_control)\n",
    "    \n",
    "def ate(reg, X, treat_var=0, control_val=0, treat_val=1):\n",
    "    X = transform_X(X)\n",
    "    X_control, X_treat = X.copy(), X.copy()\n",
    "    X_control[:,treat_var] = control_val\n",
    "    X_treat[:,treat_var] = treat_val\n",
    "    return (reg.predict(X_treat) - reg.predict(X_control)).mean()\n",
    "\n",
    "def bootstrap_ate(reg, X, y, treat_var=0, control_val=0, treat_val=1, bootstrap_samples=1000, stratify=None):\n",
    "    def sample_ate():\n",
    "        X_sample, y_sample = resample(X, y, stratify=stratify)\n",
    "        reg.fit(X_sample, y_sample)\n",
    "        return ate(reg, X_sample, treat_var, control_val, treat_val)\n",
    "\n",
    "    X = transform_X(X)\n",
    "    return np.array([sample_ate() for _ in range(bootstrap_samples)])"
   ]
  },
  {
   "cell_type": "code",
   "execution_count": null,
   "metadata": {},
   "outputs": [],
   "source": [
    "from sklearn.linear_model import LinearRegression\n",
    "\n",
    "ate_samples = bootstrap_ate(LinearRegression(), treat, y)\n",
    "print(cross_val_score(LinearRegression(), treat.values.reshape(-1, 1), y).mean())\n",
    "reg = LinearRegression().fit(treat.values.reshape(-1, 1), y)\n",
    "print(ate(reg, treat))\n",
    "print(ate_samples.mean(), ate_samples.std())\n",
    "print(np.quantile(ate_samples, .025), np.quantile(ate_samples, .975))\n",
    "print([np.quantile(ate_samples, q) for q in (.05, .25, .5, .75, .95)])"
   ]
  }
 ],
 "metadata": {
  "kernelspec": {
   "display_name": "individual-diff",
   "language": "python",
   "name": "individual-diff"
  },
  "language_info": {
   "codemirror_mode": {
    "name": "ipython",
    "version": 3
   },
   "file_extension": ".py",
   "mimetype": "text/x-python",
   "name": "python",
   "nbconvert_exporter": "python",
   "pygments_lexer": "ipython3",
   "version": "3.6.8"
  },
  "toc": {
   "base_numbering": 1,
   "nav_menu": {},
   "number_sections": true,
   "sideBar": true,
   "skip_h1_title": false,
   "title_cell": "Table of Contents",
   "title_sidebar": "Contents",
   "toc_cell": false,
   "toc_position": {},
   "toc_section_display": true,
   "toc_window_display": false
  },
  "varInspector": {
   "cols": {
    "lenName": 16,
    "lenType": 16,
    "lenVar": 40
   },
   "kernels_config": {
    "python": {
     "delete_cmd_postfix": "",
     "delete_cmd_prefix": "del ",
     "library": "var_list.py",
     "varRefreshCmd": "print(var_dic_list())"
    },
    "r": {
     "delete_cmd_postfix": ") ",
     "delete_cmd_prefix": "rm(",
     "library": "var_list.r",
     "varRefreshCmd": "cat(var_dic_list()) "
    }
   },
   "types_to_exclude": [
    "module",
    "function",
    "builtin_function_or_method",
    "instance",
    "_Feature"
   ],
   "window_display": false
  }
 },
 "nbformat": 4,
 "nbformat_minor": 4
}
