{
 "cells": [
  {
   "cell_type": "code",
   "execution_count": 1,
   "metadata": {},
   "outputs": [],
   "source": [
    "from dask.distributed import Client\n",
    "# see https://github.com/dask/distributed/issues/4168\n",
    "import multiprocessing.popen_spawn_win32\n",
    "\n",
    "client = Client(n_workers=4)"
   ]
  },
  {
   "cell_type": "code",
   "execution_count": 2,
   "metadata": {
    "ExecuteTime": {
     "end_time": "2020-12-23T18:44:31.929330Z",
     "start_time": "2020-12-23T18:44:28.944239Z"
    }
   },
   "outputs": [],
   "source": [
    "from preprocess import Preprocessor\n",
    "\n",
    "import ml_inference\n",
    "from ml_inference.automl import AutoRegressor\n",
    "from ml_inference.baseline import BaselineRegressor\n",
    "from ml_inference.test import cv_test, gen_score_plot\n",
    "from ml_inference.inference import explain_performance, explain_predictions, explain_correlations\n",
    "\n",
    "import matplotlib.pyplot as plt\n",
    "import numpy as np\n",
    "import pandas as pd\n",
    "import seaborn as sns\n",
    "from sklearn.linear_model import LinearRegression\n",
    "from sklearn.model_selection import cross_val_predict\n",
    "from sklearn.pipeline import make_pipeline\n",
    "\n",
    "import random\n",
    "\n",
    "np.random.seed(0)\n",
    "random.seed(0)\n",
    "\n",
    "pd.options.mode.chained_assignment = None\n",
    "INFILE = '../data/pennycook_et_al_study2_clean.csv'"
   ]
  },
  {
   "cell_type": "code",
   "execution_count": 3,
   "metadata": {
    "ExecuteTime": {
     "end_time": "2020-12-23T18:44:32.128626Z",
     "start_time": "2020-12-23T18:44:31.932280Z"
    }
   },
   "outputs": [
    {
     "data": {
      "text/html": [
       "<div>\n",
       "<style scoped>\n",
       "    .dataframe tbody tr th:only-of-type {\n",
       "        vertical-align: middle;\n",
       "    }\n",
       "\n",
       "    .dataframe tbody tr th {\n",
       "        vertical-align: top;\n",
       "    }\n",
       "\n",
       "    .dataframe thead th {\n",
       "        text-align: right;\n",
       "    }\n",
       "</style>\n",
       "<table border=\"1\" class=\"dataframe\">\n",
       "  <thead>\n",
       "    <tr style=\"text-align: right;\">\n",
       "      <th></th>\n",
       "      <th>SharingType_1</th>\n",
       "      <th>SharingType_2</th>\n",
       "      <th>SharingType_3</th>\n",
       "      <th>SharingType_4</th>\n",
       "      <th>SharingType_6</th>\n",
       "      <th>SharingType_5</th>\n",
       "      <th>SocialMedia_1</th>\n",
       "      <th>SocialMedia_2</th>\n",
       "      <th>SocialMedia_3</th>\n",
       "      <th>SocialMedia_4</th>\n",
       "      <th>...</th>\n",
       "      <th>Male</th>\n",
       "      <th>Education</th>\n",
       "      <th>Income</th>\n",
       "      <th>English</th>\n",
       "      <th>Partisan</th>\n",
       "      <th>Social_Conserv</th>\n",
       "      <th>Economic_Conserv</th>\n",
       "      <th>Diff</th>\n",
       "      <th>Party</th>\n",
       "      <th>POTUS2016</th>\n",
       "    </tr>\n",
       "  </thead>\n",
       "  <tbody>\n",
       "    <tr>\n",
       "      <th>0</th>\n",
       "      <td>1.0</td>\n",
       "      <td>0.0</td>\n",
       "      <td>1.0</td>\n",
       "      <td>0.0</td>\n",
       "      <td>0.0</td>\n",
       "      <td>0.0</td>\n",
       "      <td>1.0</td>\n",
       "      <td>1.0</td>\n",
       "      <td>0.0</td>\n",
       "      <td>0.0</td>\n",
       "      <td>...</td>\n",
       "      <td>0.0</td>\n",
       "      <td>19.0</td>\n",
       "      <td>3.0</td>\n",
       "      <td>1.0</td>\n",
       "      <td>5.0</td>\n",
       "      <td>4.0</td>\n",
       "      <td>4.0</td>\n",
       "      <td>-0.666667</td>\n",
       "      <td>Republican</td>\n",
       "      <td>Trump</td>\n",
       "    </tr>\n",
       "    <tr>\n",
       "      <th>1</th>\n",
       "      <td>0.0</td>\n",
       "      <td>1.0</td>\n",
       "      <td>0.0</td>\n",
       "      <td>0.0</td>\n",
       "      <td>0.0</td>\n",
       "      <td>0.0</td>\n",
       "      <td>1.0</td>\n",
       "      <td>0.0</td>\n",
       "      <td>0.0</td>\n",
       "      <td>0.0</td>\n",
       "      <td>...</td>\n",
       "      <td>0.0</td>\n",
       "      <td>16.0</td>\n",
       "      <td>7.0</td>\n",
       "      <td>1.0</td>\n",
       "      <td>3.0</td>\n",
       "      <td>2.0</td>\n",
       "      <td>2.0</td>\n",
       "      <td>0.000000</td>\n",
       "      <td>Independent</td>\n",
       "      <td>Clinton</td>\n",
       "    </tr>\n",
       "    <tr>\n",
       "      <th>2</th>\n",
       "      <td>0.0</td>\n",
       "      <td>1.0</td>\n",
       "      <td>0.0</td>\n",
       "      <td>0.0</td>\n",
       "      <td>0.0</td>\n",
       "      <td>0.0</td>\n",
       "      <td>1.0</td>\n",
       "      <td>0.0</td>\n",
       "      <td>0.0</td>\n",
       "      <td>0.0</td>\n",
       "      <td>...</td>\n",
       "      <td>1.0</td>\n",
       "      <td>13.0</td>\n",
       "      <td>4.0</td>\n",
       "      <td>1.0</td>\n",
       "      <td>2.0</td>\n",
       "      <td>4.0</td>\n",
       "      <td>4.0</td>\n",
       "      <td>0.000000</td>\n",
       "      <td>Democrat</td>\n",
       "      <td>Clinton</td>\n",
       "    </tr>\n",
       "    <tr>\n",
       "      <th>3</th>\n",
       "      <td>1.0</td>\n",
       "      <td>1.0</td>\n",
       "      <td>1.0</td>\n",
       "      <td>0.0</td>\n",
       "      <td>0.0</td>\n",
       "      <td>1.0</td>\n",
       "      <td>1.0</td>\n",
       "      <td>1.0</td>\n",
       "      <td>1.0</td>\n",
       "      <td>1.0</td>\n",
       "      <td>...</td>\n",
       "      <td>1.0</td>\n",
       "      <td>14.0</td>\n",
       "      <td>6.0</td>\n",
       "      <td>1.0</td>\n",
       "      <td>1.0</td>\n",
       "      <td>5.0</td>\n",
       "      <td>5.0</td>\n",
       "      <td>0.200000</td>\n",
       "      <td>Democrat</td>\n",
       "      <td>Clinton</td>\n",
       "    </tr>\n",
       "    <tr>\n",
       "      <th>4</th>\n",
       "      <td>0.0</td>\n",
       "      <td>0.0</td>\n",
       "      <td>1.0</td>\n",
       "      <td>0.0</td>\n",
       "      <td>0.0</td>\n",
       "      <td>0.0</td>\n",
       "      <td>1.0</td>\n",
       "      <td>0.0</td>\n",
       "      <td>0.0</td>\n",
       "      <td>0.0</td>\n",
       "      <td>...</td>\n",
       "      <td>0.0</td>\n",
       "      <td>15.0</td>\n",
       "      <td>3.0</td>\n",
       "      <td>1.0</td>\n",
       "      <td>3.0</td>\n",
       "      <td>3.0</td>\n",
       "      <td>3.0</td>\n",
       "      <td>-0.200000</td>\n",
       "      <td>Democrat</td>\n",
       "      <td>Other</td>\n",
       "    </tr>\n",
       "  </tbody>\n",
       "</table>\n",
       "<p>5 rows × 74 columns</p>\n",
       "</div>"
      ],
      "text/plain": [
       "   SharingType_1  SharingType_2  SharingType_3  SharingType_4  SharingType_6  \\\n",
       "0            1.0            0.0            1.0            0.0            0.0   \n",
       "1            0.0            1.0            0.0            0.0            0.0   \n",
       "2            0.0            1.0            0.0            0.0            0.0   \n",
       "3            1.0            1.0            1.0            0.0            0.0   \n",
       "4            0.0            0.0            1.0            0.0            0.0   \n",
       "\n",
       "   SharingType_5  SocialMedia_1  SocialMedia_2  SocialMedia_3  SocialMedia_4  \\\n",
       "0            0.0            1.0            1.0            0.0            0.0   \n",
       "1            0.0            1.0            0.0            0.0            0.0   \n",
       "2            0.0            1.0            0.0            0.0            0.0   \n",
       "3            1.0            1.0            1.0            1.0            1.0   \n",
       "4            0.0            1.0            0.0            0.0            0.0   \n",
       "\n",
       "   ...  Male  Education  Income  English  Partisan  Social_Conserv  \\\n",
       "0  ...   0.0       19.0     3.0      1.0       5.0             4.0   \n",
       "1  ...   0.0       16.0     7.0      1.0       3.0             2.0   \n",
       "2  ...   1.0       13.0     4.0      1.0       2.0             4.0   \n",
       "3  ...   1.0       14.0     6.0      1.0       1.0             5.0   \n",
       "4  ...   0.0       15.0     3.0      1.0       3.0             3.0   \n",
       "\n",
       "   Economic_Conserv      Diff        Party  POTUS2016  \n",
       "0               4.0 -0.666667   Republican      Trump  \n",
       "1               2.0  0.000000  Independent    Clinton  \n",
       "2               4.0  0.000000     Democrat    Clinton  \n",
       "3               5.0  0.200000     Democrat    Clinton  \n",
       "4               3.0 -0.200000     Democrat      Other  \n",
       "\n",
       "[5 rows x 74 columns]"
      ]
     },
     "execution_count": 3,
     "metadata": {},
     "output_type": "execute_result"
    }
   ],
   "source": [
    "df = pd.read_csv(INFILE)\n",
    "df = df[df.Treatment == 0].drop(columns='Treatment').reset_index(drop=True)\n",
    "X, y = df.drop(columns='Diff'), df.Diff\n",
    "y = (y - y.mean()) / y.std()\n",
    "df.head()"
   ]
  },
  {
   "cell_type": "code",
   "execution_count": 4,
   "metadata": {
    "ExecuteTime": {
     "end_time": "2020-12-23T18:58:54.365069Z",
     "start_time": "2020-12-23T18:44:32.132467Z"
    }
   },
   "outputs": [
    {
     "name": "stdout",
     "output_type": "stream",
     "text": [
      "\n",
      "Tuning estimator 1 of 18: RandomForestRegressorCV\n",
      "Best estimator score: 0.1370\n",
      "\n",
      "Tuning estimator 2 of 18: PCARandomForestRegressorCV\n",
      "Best estimator score: 0.0312\n",
      "\n",
      "Tuning estimator 3 of 18: LassoLarsCV\n",
      "Best estimator score: -0.0121\n",
      "\n",
      "Tuning estimator 4 of 18: PCALassoLarsCV\n",
      "Best estimator score: -0.0121\n",
      "\n",
      "Tuning estimator 5 of 18: RidgeCV\n",
      "Best estimator score: 0.1024\n",
      "\n",
      "Tuning estimator 6 of 18: PCARidgeCV\n",
      "Best estimator score: 0.0847\n",
      "\n",
      "Tuning estimator 7 of 18: ElasticNetCV\n",
      "Best estimator score: -0.0121\n",
      "\n",
      "Tuning estimator 8 of 18: PCAElasticNetCV\n",
      "Best estimator score: -0.0121\n",
      "\n",
      "Tuning estimator 9 of 18: KernelRidgeCV\n",
      "Best estimator score: 0.1359\n",
      "\n",
      "Tuning estimator 10 of 18: PCAKernelRidgeCV\n",
      "Best estimator score: 0.1015\n",
      "\n",
      "Tuning estimator 11 of 18: SVRCV\n",
      "Best estimator score: 0.1085\n",
      "\n",
      "Tuning estimator 12 of 18: PCASVRCV\n",
      "Best estimator score: 0.0922\n",
      "\n",
      "Tuning estimator 13 of 18: KNeighborsRegressorCV\n",
      "Best estimator score: 0.0891\n",
      "\n",
      "Tuning estimator 14 of 18: PCAKNeighborsRegressorCV\n",
      "Best estimator score: 0.0474\n",
      "\n",
      "Tuning estimator 15 of 18: AdaBoostRegressorCV\n",
      "Best estimator score: 0.1052\n",
      "\n",
      "Tuning estimator 16 of 18: PCAAdaBoostRegressorCV\n",
      "Best estimator score: 0.0468\n",
      "\n",
      "Tuning estimator 17 of 18: XGBRegressorCV\n",
      "Best estimator score: 0.0933\n",
      "\n",
      "Tuning estimator 18 of 18: PCAXGBRegressorCV\n",
      "Best estimator score: 0.0640\n",
      "\n",
      "Building ensemble 1 of 1\n",
      "Best ensemble score: 0.1133\n",
      "Wall time: 2min 58s\n"
     ]
    }
   ],
   "source": [
    "%%time\n",
    "\n",
    "baseline_reg = BaselineRegressor()\n",
    "\n",
    "linear_reg = make_pipeline(\n",
    "    Preprocessor(),\n",
    "    LinearRegression()\n",
    ")\n",
    "\n",
    "ml_reg = AutoRegressor(preprocessors=Preprocessor(), n_jobs=-1).fit(X, y).best_estimator_\n",
    "\n",
    "estimators = [\n",
    "    ('Baseline', baseline_reg), \n",
    "    ('Linear', linear_reg), \n",
    "    ('Machine learning', ml_reg)\n",
    "]"
   ]
  },
  {
   "cell_type": "code",
   "execution_count": 5,
   "metadata": {},
   "outputs": [
    {
     "name": "stdout",
     "output_type": "stream",
     "text": [
      "Wall time: 43.1 s\n"
     ]
    },
    {
     "data": {
      "text/html": [
       "<div>\n",
       "<style scoped>\n",
       "    .dataframe tbody tr th:only-of-type {\n",
       "        vertical-align: middle;\n",
       "    }\n",
       "\n",
       "    .dataframe tbody tr th {\n",
       "        vertical-align: top;\n",
       "    }\n",
       "\n",
       "    .dataframe thead th {\n",
       "        text-align: right;\n",
       "    }\n",
       "</style>\n",
       "<table border=\"1\" class=\"dataframe\">\n",
       "  <thead>\n",
       "    <tr style=\"text-align: right;\">\n",
       "      <th></th>\n",
       "      <th>Model1</th>\n",
       "      <th>Model2</th>\n",
       "      <th>MeanDifference</th>\n",
       "      <th>t-stat</th>\n",
       "      <th>p-value</th>\n",
       "    </tr>\n",
       "  </thead>\n",
       "  <tbody>\n",
       "    <tr>\n",
       "      <th>0</th>\n",
       "      <td>Baseline</td>\n",
       "      <td>Linear</td>\n",
       "      <td>-0.162393</td>\n",
       "      <td>-11.397176</td>\n",
       "      <td>1.192939e-06</td>\n",
       "    </tr>\n",
       "    <tr>\n",
       "      <th>1</th>\n",
       "      <td>Baseline</td>\n",
       "      <td>Machine learning</td>\n",
       "      <td>0.099821</td>\n",
       "      <td>20.792302</td>\n",
       "      <td>6.443708e-09</td>\n",
       "    </tr>\n",
       "    <tr>\n",
       "      <th>2</th>\n",
       "      <td>Linear</td>\n",
       "      <td>Machine learning</td>\n",
       "      <td>0.262215</td>\n",
       "      <td>17.926266</td>\n",
       "      <td>2.378912e-08</td>\n",
       "    </tr>\n",
       "  </tbody>\n",
       "</table>\n",
       "</div>"
      ],
      "text/plain": [
       "     Model1            Model2  MeanDifference     t-stat       p-value\n",
       "0  Baseline            Linear       -0.162393 -11.397176  1.192939e-06\n",
       "1  Baseline  Machine learning        0.099821  20.792302  6.443708e-09\n",
       "2    Linear  Machine learning        0.262215  17.926266  2.378912e-08"
      ]
     },
     "execution_count": 5,
     "metadata": {},
     "output_type": "execute_result"
    },
    {
     "data": {
      "image/png": "[encoded data removed]",
      "text/plain": [
       "<Figure size 432x288 with 1 Axes>"
      ]
     },
     "metadata": {
      "needs_background": "light"
     },
     "output_type": "display_data"
    }
   ],
   "source": [
    "%%time\n",
    "\n",
    "from sklearn.metrics import r2_score\n",
    "\n",
    "scores, pairwise_tests = cv_test(estimators, X, y, scorer=r2_score, parallel=True)\n",
    "ax = gen_score_plot(scores, showfliers=False)\n",
    "pairwise_tests"
   ]
  },
  {
   "cell_type": "code",
   "execution_count": null,
   "metadata": {
    "ExecuteTime": {
     "end_time": "2020-12-23T19:13:15.622620Z",
     "start_time": "2020-12-23T18:59:05.271421Z"
    }
   },
   "outputs": [],
   "source": [
    "from sklearn.metrics import r2_score\n",
    "    \n",
    "def prefix_group(prefix):\n",
    "    return [col for col in X.columns if col.startswith(prefix)]\n",
    "    \n",
    "perf_groups = [\n",
    "    ('Sharing content', prefix_group('SharingType')),\n",
    "    ('Social media use', prefix_group('SocialMedia')),\n",
    "    ('CRT', prefix_group('CRT')),\n",
    "    ('Scientific knowledge', prefix_group('sci')),\n",
    "    ('Medical maximizing', prefix_group('mms')),\n",
    "    ('News media', prefix_group('Media')),\n",
    "    ('Ethnicity', prefix_group('Ethnicity')),\n",
    "    ('Politics', ['Partisan', 'Social_Conserv', 'Economic_Conserv', 'Party', 'POTUS2016'])\n",
    "]\n",
    "ml_reg.fit(X, y)\n",
    "df, ax = explain_performance(ml_reg.predict, X, y, metric=r2_score, nsamples=2**5, groups=perf_groups)\n",
    "ax.set(xlabel='Amount of explained variance')\n",
    "df"
   ]
  },
  {
   "cell_type": "code",
   "execution_count": null,
   "metadata": {
    "ExecuteTime": {
     "end_time": "2020-12-23T19:27:19.250390Z",
     "start_time": "2020-12-23T19:13:15.627739Z"
    }
   },
   "outputs": [],
   "source": [
    "predict_groups = [\n",
    "    ('Sharing content', prefix_group('SharingType')),\n",
    "    ('Social media use', prefix_group('SocialMedia')),\n",
    "    ('CRT', prefix_group('CRT')),\n",
    "    ('Scientific knowledge', prefix_group('sci')),\n",
    "    ('Medical maximizing', prefix_group('mms')),\n",
    "    ('Ethnicity', prefix_group('Ethnicity')),\n",
    "]\n",
    "df = explain_predictions(ml_reg.predict, X, y, nsamples=2**5, groups=predict_groups)"
   ]
  },
  {
   "cell_type": "code",
   "execution_count": null,
   "metadata": {
    "ExecuteTime": {
     "end_time": "2020-12-23T23:15:36.254508Z",
     "start_time": "2020-12-23T23:15:35.984188Z"
    }
   },
   "outputs": [],
   "source": [
    "mms = X[[col for col in X.columns if col.startswith('mms')]].sum(axis=1)\n",
    "ax = sns.scatterplot(x=mms, y=df['Medical maximizing'])\n",
    "# indicates that some MMS questions are much more diagnostic of sharing discernment than others\n",
    "ax.set(xlabel='Medical maximizing score', ylabel='Effect on prediction')"
   ]
  },
  {
   "cell_type": "code",
   "execution_count": null,
   "metadata": {
    "ExecuteTime": {
     "end_time": "2020-12-23T22:43:00.629702Z",
     "start_time": "2020-12-23T22:42:59.092012Z"
    }
   },
   "outputs": [],
   "source": [
    "media_values = list(range(1, 6))\n",
    "media_vars = [\n",
    "    ('Media3_1', 'national news'),\n",
    "    ('Media3_2', 'local news'),\n",
    "    ('Media3_12', 'fact checkers'),\n",
    "    ('Media3_3', 'friends and family for news'),\n",
    "    ('Media3_11', 'social media for news')\n",
    "]\n",
    "for var, label in media_vars:\n",
    "    mask = X[var].isin(media_values)\n",
    "    ax = sns.boxplot(x=X[var][mask], y=df[var][mask], showfliers=False)\n",
    "    ax.set(xlabel='Trust in '+label, ylabel='Effect on prediction', ylim=(-.15, .15))\n",
    "    plt.show()"
   ]
  },
  {
   "cell_type": "code",
   "execution_count": null,
   "metadata": {
    "ExecuteTime": {
     "end_time": "2020-12-23T23:25:40.052153Z",
     "start_time": "2020-12-23T23:25:39.727459Z"
    }
   },
   "outputs": [],
   "source": [
    "X_preproc = Preprocessor(X).transform(X)\n",
    "cols = [col for col in X_preproc.columns if col.startswith('CRT') and col.endswith('intuit')]\n",
    "crt = X_preproc[cols].sum(axis=1)\n",
    "ax = sns.violinplot(x=crt, y=df.CRT)\n",
    "ax.set(xlabel='CRT intuitive responses', ylabel='Effect of CRT on prediction')"
   ]
  },
  {
   "cell_type": "code",
   "execution_count": null,
   "metadata": {
    "ExecuteTime": {
     "end_time": "2020-12-23T19:27:20.186014Z",
     "start_time": "2020-12-23T19:27:19.895682Z"
    }
   },
   "outputs": [],
   "source": [
    "candidates = ['Trump', 'Other', 'Clinton']\n",
    "mask = X.POTUS2016.isin(candidates)\n",
    "ax = sns.boxplot(x=X.POTUS2016[mask], y=df.POTUS2016[mask], showfliers=False, order=candidates)\n",
    "ax.set(xlabel='Voted for in 2016', ylabel='Effect on prediction')"
   ]
  },
  {
   "cell_type": "code",
   "execution_count": null,
   "metadata": {
    "ExecuteTime": {
     "end_time": "2020-12-23T19:27:20.458869Z",
     "start_time": "2020-12-23T19:27:20.188592Z"
    }
   },
   "outputs": [],
   "source": [
    "mask = X.Party.isin(['Republican', 'Democrat', 'Independent'])\n",
    "ax = sns.boxplot(x=X.Party[mask], y=df.Party[mask], showfliers=False)\n",
    "ax.set(xlabel='Political party', ylabel='Effect on prediction')"
   ]
  },
  {
   "cell_type": "code",
   "execution_count": null,
   "metadata": {
    "ExecuteTime": {
     "end_time": "2020-12-23T19:27:20.723977Z",
     "start_time": "2020-12-23T19:27:20.461911Z"
    }
   },
   "outputs": [],
   "source": [
    "partisan_vals = list(range(1, 7))\n",
    "mask = X.Partisan.isin(partisan_vals)\n",
    "ax = sns.boxplot(x=X.Partisan[mask], y=df.Partisan[mask], showfliers=False)\n",
    "ax.set(xlabel='<= Democrat, Republican =>', ylabel='Effect on prediction')"
   ]
  },
  {
   "cell_type": "code",
   "execution_count": null,
   "metadata": {
    "ExecuteTime": {
     "end_time": "2020-12-23T19:27:19.560990Z",
     "start_time": "2020-12-23T19:27:19.253643Z"
    }
   },
   "outputs": [],
   "source": [
    "sci = X[[col for col in X.columns if col.startswith('sci')]].sum(axis=1)\n",
    "ax = sns.scatterplot(x=sci, y=df['Scientific knowledge'])\n",
    "ax.set(xlabel='Scientific knowledge', ylabel='Effect on prediction')"
   ]
  },
  {
   "cell_type": "code",
   "execution_count": null,
   "metadata": {
    "ExecuteTime": {
     "end_time": "2020-12-23T19:27:22.721947Z",
     "start_time": "2020-12-23T19:27:22.462740Z"
    }
   },
   "outputs": [],
   "source": [
    "ax = sns.scatterplot(x=X.COVID_concern, y=df['COVID_concern'])\n",
    "ax.set(xlabel='Concern about COVID-19', ylabel='Effect on prediction')"
   ]
  },
  {
   "cell_type": "code",
   "execution_count": null,
   "metadata": {
    "ExecuteTime": {
     "end_time": "2020-12-23T19:27:22.216388Z",
     "start_time": "2020-12-23T19:27:21.910577Z"
    }
   },
   "outputs": [],
   "source": [
    "ax = sns.scatterplot(x=X.Age, y=df.Age)\n",
    "ax.set(ylabel='Effect on prediction')"
   ]
  },
  {
   "cell_type": "code",
   "execution_count": null,
   "metadata": {
    "ExecuteTime": {
     "end_time": "2020-12-23T19:27:23.004958Z",
     "start_time": "2020-12-23T19:27:22.724144Z"
    }
   },
   "outputs": [],
   "source": [
    "ax = sns.boxplot(x=X.COVID_news, y=df.COVID_news, showfliers=False)\n",
    "ax.set(xlabel='How often you check COVID-19 news', ylabel='Effect on prediction')"
   ]
  },
  {
   "cell_type": "code",
   "execution_count": null,
   "metadata": {
    "ExecuteTime": {
     "end_time": "2020-12-23T22:50:27.212483Z",
     "start_time": "2020-12-23T22:50:26.656448Z"
    }
   },
   "outputs": [],
   "source": [
    "mask = X.Education.isin(list(range(21)))\n",
    "ax = sns.boxplot(x=X[mask].Education, y=df[mask].Education, showfliers=False)\n",
    "ax.set(xlabel='Years of education', ylabel='Effect on prediction')\n",
    "ax.set_xticks(list(range(0, 21, 4)))"
   ]
  },
  {
   "cell_type": "code",
   "execution_count": null,
   "metadata": {
    "ExecuteTime": {
     "end_time": "2020-12-23T19:41:37.188935Z",
     "start_time": "2020-12-23T19:27:23.284279Z"
    },
    "scrolled": false
   },
   "outputs": [],
   "source": [
    "features = ['COVID_concern', 'COVID_news', 'Education', 'Income']\n",
    "corr_df, plots = explain_correlations(features, ml_reg.predict, X, y, groups=perf_groups, nsamples=2**5)\n",
    "corr_df"
   ]
  },
  {
   "cell_type": "code",
   "execution_count": null,
   "metadata": {
    "ExecuteTime": {
     "end_time": "2020-12-23T23:07:34.589210Z",
     "start_time": "2020-12-23T23:07:34.561124Z"
    }
   },
   "outputs": [],
   "source": [
    "X_preproc['Scientific knowledge'] = sci\n",
    "X_preproc['MMS'] = mms\n",
    "X_preproc['Diff'] = y\n",
    "X_preproc[['Education', 'Scientific knowledge', 'Media3_1', 'Media3_3', 'Media3_11', 'Income', 'Party_Democrat', 'MMS', 'Diff']].corr()"
   ]
  },
  {
   "cell_type": "code",
   "execution_count": null,
   "metadata": {},
   "outputs": [],
   "source": []
  }
 ],
 "metadata": {
  "kernelspec": {
   "display_name": "ml-inference",
   "language": "python",
   "name": "ml-inference"
  },
  "language_info": {
   "codemirror_mode": {
    "name": "ipython",
    "version": 3
   },
   "file_extension": ".py",
   "mimetype": "text/x-python",
   "name": "python",
   "nbconvert_exporter": "python",
   "pygments_lexer": "ipython3",
   "version": "3.9.1"
  },
  "toc": {
   "base_numbering": 1,
   "nav_menu": {},
   "number_sections": true,
   "sideBar": true,
   "skip_h1_title": false,
   "title_cell": "Table of Contents",
   "title_sidebar": "Contents",
   "toc_cell": false,
   "toc_position": {},
   "toc_section_display": true,
   "toc_window_display": false
  },
  "varInspector": {
   "cols": {
    "lenName": 16,
    "lenType": 16,
    "lenVar": 40
   },
   "kernels_config": {
    "python": {
     "delete_cmd_postfix": "",
     "delete_cmd_prefix": "del ",
     "library": "var_list.py",
     "varRefreshCmd": "print(var_dic_list())"
    },
    "r": {
     "delete_cmd_postfix": ") ",
     "delete_cmd_prefix": "rm(",
     "library": "var_list.r",
     "varRefreshCmd": "cat(var_dic_list()) "
    }
   },
   "types_to_exclude": [
    "module",
    "function",
    "builtin_function_or_method",
    "instance",
    "_Feature"
   ],
   "window_display": false
  }
 },
 "nbformat": 4,
 "nbformat_minor": 4
}
