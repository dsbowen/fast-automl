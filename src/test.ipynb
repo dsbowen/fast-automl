{
 "cells": [
  {
   "cell_type": "code",
   "execution_count": 1,
   "metadata": {},
   "outputs": [],
   "source": [
    "from preprocess import Preprocessor\n",
    "\n",
    "from ml_inference.automl import AutoRegressor\n",
    "\n",
    "import pandas as pd\n",
    "\n",
    "INFILE = '../data/pennycook_et_al_study2_clean.csv'\n",
    "df = pd.read_csv(INFILE)\n",
    "# df = df[df.Treatment==0]\n",
    "X, y = df.drop(columns='Diff'), df.Diff"
   ]
  },
  {
   "cell_type": "code",
   "execution_count": null,
   "metadata": {},
   "outputs": [],
   "source": [
    "from sklearn.datasets import load_boston\n",
    "\n",
    "X, y = load_boston(return_X_y=True)"
   ]
  },
  {
   "cell_type": "code",
   "execution_count": 2,
   "metadata": {},
   "outputs": [
    {
     "name": "stdout",
     "output_type": "stream",
     "text": [
      "\n",
      "Tuning estimator 1 of 18: RandomForestRegressorCV\n",
      "Best estimator score 0.10427524086356392\n",
      "\n",
      "Tuning estimator 2 of 18: PCARandomForestRegressorCV\n",
      "Best estimator score 0.07384330402998036\n",
      "\n",
      "Tuning estimator 3 of 18: LassoLarsCV\n",
      "Best estimator score -0.04962489827860379\n",
      "\n",
      "Tuning estimator 4 of 18: PCALassoLarsCV\n",
      "Best estimator score -0.04962489827860379\n",
      "\n",
      "Tuning estimator 5 of 18: RidgeCV\n",
      "Best estimator score 0.1289117992806556\n",
      "\n",
      "Tuning estimator 6 of 18: PCARidgeCV\n",
      "Best estimator score 0.09202551443054896\n",
      "\n",
      "Tuning estimator 7 of 18: ElasticNetCV\n",
      "Best estimator score -0.04962489827860379\n",
      "\n",
      "Tuning estimator 8 of 18: PCAElasticNetCV\n",
      "Best estimator score -0.04962489827860379\n",
      "\n",
      "Tuning estimator 9 of 18: KernelRidgeCV\n",
      "Best estimator score 0.12987761124467317\n",
      "\n",
      "Tuning estimator 10 of 18: PCAKernelRidgeCV\n",
      "Best estimator score 0.08591169166745191\n",
      "\n",
      "Tuning estimator 11 of 18: SVRCV\n",
      "Best estimator score 0.1190568483637291\n",
      "\n",
      "Tuning estimator 12 of 18: PCASVRCV\n",
      "Best estimator score 0.0873157625440631\n",
      "\n",
      "Tuning estimator 13 of 18: KNeighborsRegressorCV\n",
      "Best estimator score 0.08868158566404712\n",
      "\n",
      "Tuning estimator 14 of 18: PCAKNeighborsRegressorCV\n",
      "Best estimator score 0.0519225222596897\n",
      "\n",
      "Tuning estimator 15 of 18: AdaBoostRegressorCV\n",
      "Best estimator score 0.022149540202598694\n",
      "\n",
      "Tuning estimator 16 of 18: PCAAdaBoostRegressorCV\n",
      "Best estimator score 0.061773394365339865\n",
      "\n",
      "Tuning estimator 17 of 18: XGBRegressorCV\n",
      "Best estimator score 0.01946655488969058\n",
      "\n",
      "Tuning estimator 18 of 18: PCAXGBRegressorCV\n",
      "Best estimator score 0.0785843089891238\n",
      "\n",
      "Building ensemble 1 of 1\n",
      "Best ensemble score 0.17636672224336916\n",
      "Wall time: 2min 23s\n"
     ]
    }
   ],
   "source": [
    "%%time\n",
    "\n",
    "reg = AutoRegressor(preprocessors=Preprocessor(), n_jobs=-1, n_iter=2).fit(X, y)\n",
    "reg = reg.best_estimator_"
   ]
  },
  {
   "cell_type": "code",
   "execution_count": 3,
   "metadata": {},
   "outputs": [
    {
     "data": {
      "text/plain": [
       "[('estimator 0',\n",
       "  Pipeline(steps=[('standardscaler', StandardScaler()),\n",
       "                  ('kernelridge',\n",
       "                   KernelRidge(alpha=0.5001082590929797, degree=4,\n",
       "                               kernel='rbf'))])),\n",
       " ('estimator 5',\n",
       "  Pipeline(steps=[('randomforestregressor',\n",
       "                   RandomForestRegressor(n_estimators=133))])),\n",
       " ('estimator 8',\n",
       "  Pipeline(steps=[('polynomialfeatures', PolynomialFeatures(degree=1)),\n",
       "                  ('standardscaler-1', StandardScaler()),\n",
       "                  ('pca', PCA(n_components=67)),\n",
       "                  ('standardscaler-2', StandardScaler()),\n",
       "                  ('svr', SVR(C=0.6670272805927896, degree=10, kernel='linear'))])),\n",
       " ('estimator 14',\n",
       "  Pipeline(steps=[('standardscaler', StandardScaler()),\n",
       "                  ('kneighborsregressor', KNeighborsRegressor(n_neighbors=12))]))]"
      ]
     },
     "execution_count": 3,
     "metadata": {},
     "output_type": "execute_result"
    }
   ],
   "source": [
    "reg.steps[-1][-1].estimators"
   ]
  },
  {
   "cell_type": "code",
   "execution_count": 4,
   "metadata": {},
   "outputs": [
    {
     "data": {
      "text/plain": [
       "array([0.36486547, 0.28486175, 0.15248981, 0.19778297])"
      ]
     },
     "execution_count": 4,
     "metadata": {},
     "output_type": "execute_result"
    }
   ],
   "source": [
    "reg.steps[-1][-1].weights"
   ]
  },
  {
   "cell_type": "code",
   "execution_count": 5,
   "metadata": {},
   "outputs": [
    {
     "name": "stdout",
     "output_type": "stream",
     "text": [
      "0.17263651776382263\n",
      "0.20086737293061718\n",
      "0.17726144652729803\n",
      "0.1825402260105387\n",
      "0.18903829304253159\n",
      "0.17405104909286445\n",
      "0.1842314987773955\n",
      "0.18653033211307243\n",
      "0.1724284064065859\n",
      "0.1746981418389027\n",
      "Wall time: 49.5 s\n"
     ]
    }
   ],
   "source": [
    "%%time\n",
    "\n",
    "from sklearn.model_selection import cross_val_score, KFold\n",
    "\n",
    "for i in range(10):\n",
    "    xval = cross_val_score(reg, X, y, cv=KFold(shuffle=True), n_jobs=-1)\n",
    "    print(xval.mean())"
   ]
  },
  {
   "cell_type": "code",
   "execution_count": null,
   "metadata": {},
   "outputs": [],
   "source": [
    "from dask.distributed import Client\n",
    "# see https://github.com/dask/distributed/issues/4168\n",
    "import multiprocessing.popen_spawn_win32\n",
    "\n",
    "client = Client(n_workers=4)"
   ]
  },
  {
   "cell_type": "code",
   "execution_count": null,
   "metadata": {},
   "outputs": [],
   "source": [
    "import numpy as np\n",
    "from sklearn.datasets import load_diabetes\n",
    "\n",
    "X, y = load_diabetes(return_X_y=True)\n",
    "a = np.c_[X, y.reshape(-1, 1)]\n",
    "np.random.shuffle(a)\n",
    "X, y = a[:,:-1], a[:,-1]"
   ]
  },
  {
   "cell_type": "code",
   "execution_count": null,
   "metadata": {},
   "outputs": [],
   "source": [
    "from sklearn.model_selection import cross_val_score"
   ]
  },
  {
   "cell_type": "code",
   "execution_count": null,
   "metadata": {},
   "outputs": [],
   "source": [
    "from sklearn.pipeline import make_pipeline\n",
    "from sklearn.preprocessing import StandardScaler\n",
    "from sklearn.neighbors import KNeighborsRegressor\n",
    "\n",
    "knn = make_pipeline(\n",
    "    StandardScaler(),\n",
    "    KNeighborsRegressor()\n",
    ")\n",
    "cross_val_score(knn, X, y).mean()"
   ]
  },
  {
   "cell_type": "code",
   "execution_count": null,
   "metadata": {},
   "outputs": [],
   "source": [
    "from sklearn.svm import SVR\n",
    "\n",
    "svr = make_pipeline(\n",
    "    StandardScaler(),\n",
    "    SVR()\n",
    ")\n",
    "cross_val_score(svr, X, y).mean()"
   ]
  },
  {
   "cell_type": "code",
   "execution_count": null,
   "metadata": {},
   "outputs": [],
   "source": [
    "from sklearn.ensemble import RandomForestRegressor\n",
    "\n",
    "rf = RandomForestRegressor()\n",
    "xval_score = cross_val_score(rf, X, y)\n",
    "print(xval_score)\n",
    "print(xval_score.mean())"
   ]
  },
  {
   "cell_type": "code",
   "execution_count": null,
   "metadata": {},
   "outputs": [],
   "source": [
    "from sklearn.linear_model import Ridge as RidgeBase\n",
    "\n",
    "class Ridge(RidgeBase):\n",
    "    def __init__(self, alpha=1., prior_weight=0, normalize_coef=False, fit_intercept=True, normalize=False, copy_X=True, \n",
    "                 max_iter=None, tol=.001, solver='auto', random_state=None):\n",
    "        self.prior_weight = prior_weight\n",
    "        self.normalize_coef = normalize_coef\n",
    "        super().__init__(alpha, fit_intercept=fit_intercept, normalize=normalize, copy_X=copy_X, max_iter=max_iter, tol=tol,\n",
    "                        solver=solver, random_state=random_state)\n",
    "        \n",
    "    def fit(self, X, y, sample_weight=None):\n",
    "        y = y - (self.prior_weight * X).sum(axis=1)\n",
    "        super().fit(X, y, sample_weight)\n",
    "        if self.normalize_coef:\n",
    "            self.coef_ -= self.coef_.mean()\n",
    "        return self\n",
    "    \n",
    "    def predict(self, X):\n",
    "        return super().predict(X) + (self.prior_weight * X).sum(axis=1)"
   ]
  },
  {
   "cell_type": "code",
   "execution_count": null,
   "metadata": {},
   "outputs": [],
   "source": [
    "ridge = Ridge(normalize=True)\n",
    "cross_val_score(ridge, X, y).mean()"
   ]
  },
  {
   "cell_type": "code",
   "execution_count": null,
   "metadata": {},
   "outputs": [],
   "source": [
    "from scipy import sparse\n",
    "from scipy.stats import loguniform\n",
    "from sklearn.linear_model import RidgeCV as RidgeCVBase\n",
    "from sklearn.model_selection import RandomizedSearchCV\n",
    "\n",
    "class RidgeCV(RidgeCVBase):\n",
    "    def __init__(self, alphas=loguniform(1e-3, 1e3), prior_weight=0, normalize_coef=False, n_iter=10, fit_intercept=True, \n",
    "                 normalize=False, scoring=None, cv=None, n_jobs=None):\n",
    "        self.prior_weight = prior_weight\n",
    "        self.normalize_coef = normalize_coef\n",
    "        self.n_iter = n_iter\n",
    "        self.n_jobs = n_jobs\n",
    "        super().__init__(fit_intercept=fit_intercept, normalize=normalize, scoring=scoring, cv=cv)\n",
    "        self.alphas = alphas\n",
    "        \n",
    "    def fit(self, X, y, sample_weight=None):\n",
    "        parameters = {'alpha': self.alphas}\n",
    "        solver = 'sparse_cg' if sparse.issparse(X) else 'auto'\n",
    "        rs = RandomizedSearchCV(\n",
    "            Ridge(\n",
    "                prior_weight=self.prior_weight,\n",
    "                normalize_coef=self.normalize_coef,\n",
    "                fit_intercept=self.fit_intercept, \n",
    "                normalize=self.normalize, \n",
    "                solver=solver\n",
    "            ),\n",
    "            parameters,\n",
    "            n_iter=self.n_iter,\n",
    "            scoring=self.scoring,\n",
    "            cv=self.cv,\n",
    "            n_jobs=self.n_jobs\n",
    "        )\n",
    "        rs.fit(X, y, sample_weight=sample_weight)\n",
    "        estimator = rs.best_estimator_\n",
    "        self.alpha_ = estimator.alpha\n",
    "        self.best_score_ = rs.best_score_\n",
    "        self.coef_ = estimator.coef_\n",
    "        self.intercept_ = estimator.intercept_\n",
    "        self.n_features_in_ = estimator.n_features_in_\n",
    "        return self\n",
    "    \n",
    "    def predict(self, X):\n",
    "        return self.make_best_estimator().predict(X)\n",
    "    \n",
    "    def make_best_estimator(self):\n",
    "        estimator = Ridge(self.alpha_, prior_weight=self.prior_weight, normalize_coef=self.normalize_coef,\n",
    "                          fit_intercept=self.fit_intercept, normalize=self.normalize)\n",
    "        estimator.coef_ = self.coef_\n",
    "        estimator.intercept_ = self.intercept_\n",
    "        estimator.n_features_in_ = self.n_features_in_\n",
    "        return estimator"
   ]
  },
  {
   "cell_type": "code",
   "execution_count": null,
   "metadata": {},
   "outputs": [],
   "source": [
    "ridge = RidgeCV(normalize=True).fit(X, y).make_best_estimator()\n",
    "xval_score = cross_val_score(ridge, X, y)\n",
    "print(xval_score)\n",
    "print(xval_score.mean())"
   ]
  },
  {
   "cell_type": "code",
   "execution_count": null,
   "metadata": {},
   "outputs": [],
   "source": [
    "# upper and lower bounds on alpha\n",
    "# with adding estimators one at a time; see stacking estimator fit method\n",
    "from scipy.stats import expon\n",
    "\n",
    "def compute_alpha_lb(X, y, max_iter=10):\n",
    "    def search(scale):\n",
    "        q, step = .5, .25\n",
    "        dist = expon(0, scale)\n",
    "        for _ in range(max_iter):\n",
    "            ridge.alpha = dist.ppf(q)\n",
    "            ridge.fit(X, y)\n",
    "            weight = ridge.coef_ + ridge.prior_weight\n",
    "            q += step if np.any(weight<0) else -step\n",
    "            step /= 2\n",
    "        return np.all(weight>0)\n",
    "    \n",
    "    ridge = Ridge(normalize_coef=True, fit_intercept=False, prior_weight=1./X.shape[1])\n",
    "    scale = 1\n",
    "    while not search(scale):\n",
    "        scale *= 10\n",
    "    return ridge.alpha"
   ]
  },
  {
   "cell_type": "code",
   "execution_count": null,
   "metadata": {},
   "outputs": [],
   "source": [
    "def compute_alpha_ub(X, y, max_iter=10, tol=.01):\n",
    "    def search(scale):\n",
    "        q, step = .5, .25\n",
    "        dist = expon(0, scale)\n",
    "        for _ in range(max_iter):\n",
    "            ridge.alpha = dist.ppf(q)\n",
    "            ridge.fit(X, y)\n",
    "            q += step if np.any(abs(ridge.coef_)>tol) else -step\n",
    "            step /= 2\n",
    "        return np.all(abs(ridge.coef_)<tol)\n",
    "        \n",
    "    ridge = Ridge(normalize_coef=True, fit_intercept=False, prior_weight=1./X.shape[1])\n",
    "    scale = 1\n",
    "    while not search(scale):\n",
    "        scale *= 10\n",
    "    return ridge.alpha"
   ]
  },
  {
   "cell_type": "code",
   "execution_count": null,
   "metadata": {},
   "outputs": [],
   "source": [
    "from copy import deepcopy\n",
    "\n",
    "import numpy as np\n",
    "from joblib import Parallel\n",
    "from scipy.stats import loguniform\n",
    "from sklearn.base import clone, is_classifier\n",
    "from sklearn.ensemble import StackingRegressor\n",
    "from sklearn.ensemble._base import _fit_single_estimator\n",
    "from sklearn.model_selection import check_cv, cross_val_predict\n",
    "from sklearn.utils.fixes import delayed\n",
    "\n",
    "def _predict_single_estimator(estimator, X):\n",
    "    return estimator.predict(X)\n",
    "\n",
    "\n",
    "class _StackingBase(StackingRegressor):\n",
    "    def __init__(self, estimators, cv=None, n_jobs=None, verbose=0):\n",
    "        super().__init__(estimators, cv=cv, n_jobs=n_jobs, verbose=verbose)\n",
    "        \n",
    "    def transform(self, X):\n",
    "        predictions = Parallel(n_jobs=self.n_jobs)(\n",
    "            delayed(_predict_single_estimator)(est, X)\n",
    "            for est in self.estimators_\n",
    "        )\n",
    "        return self._concatenate_predictions(X, predictions)\n",
    "    \n",
    "    def _fit_estimators(self, all_estimators, sample_weight):\n",
    "        self.estimators_ = Parallel(n_jobs=self.n_jobs)(\n",
    "            delayed(_fit_single_estimator)(clone(est), X, y, sample_weight)\n",
    "            for est in all_estimators\n",
    "        )\n",
    "        \n",
    "    def _check_cv(self):\n",
    "        cv = check_cv(self.cv, y=y, classifier=is_classifier(self))\n",
    "        if hasattr(cv, 'random_state') and cv.random_state is None:\n",
    "            cv.random_state = np.random.RandomState()\n",
    "        return cv\n",
    "    \n",
    "    def _cross_val_predict(self, all_estimators, cv, sample_weight):\n",
    "        fit_params = (\n",
    "            {} if sample_weight is None else {'sample_weight': sample_weight}\n",
    "        )\n",
    "        predictions = Parallel(n_jobs=self.n_jobs)(\n",
    "            delayed(cross_val_predict)(\n",
    "                clone(est), X, y, \n",
    "                cv=deepcopy(cv), \n",
    "                n_jobs=self.n_jobs, \n",
    "                fit_params=fit_params, \n",
    "                verbose=self.verbose\n",
    "            )\n",
    "            for est in all_estimators\n",
    "        )\n",
    "        return self._concatenate_predictions(X, predictions)\n",
    "\n",
    "\n",
    "class StackingRidge(_StackingBase):\n",
    "    def __init__(self, estimators, alpha=1., cv=None, n_jobs=None, verbose=0):\n",
    "        self.alpha = alpha\n",
    "        super().__init__(estimators, cv=cv, n_jobs=n_jobs, verbose=verbose)\n",
    "        \n",
    "    def fit(self, X, y, sample_weight=None):\n",
    "        names, all_estimators = self._validate_estimators()\n",
    "        self._fit_estimators(all_estimators, sample_weight)\n",
    "        cv = self._check_cv()\n",
    "        X_meta = self._cross_val_predict(all_estimators, cv, sample_weight)\n",
    "        \n",
    "        # fit final estimator on CV predictions\n",
    "        self.final_estimator_ = Ridge(\n",
    "            self.alpha,\n",
    "            fit_intercept=False,\n",
    "            prior_weight=1./X_meta.shape[1],\n",
    "            normalize_coef=True\n",
    "        ).fit(X_meta, y)\n",
    "        return self\n",
    "\n",
    "\n",
    "class StackingRidgeCV(_StackingBase):\n",
    "    def __init__(self, estimators, cv=None, n_iter=10, n_jobs=None, verbose=0):\n",
    "        self.n_iter = n_iter\n",
    "        super().__init__(estimators, cv=cv, n_jobs=n_jobs, verbose=verbose)\n",
    "        \n",
    "    def fit(self, X, y, sample_weight=None):\n",
    "        names, all_estimators = self._validate_estimators()\n",
    "        self._fit_estimators(all_estimators, sample_weight)\n",
    "        cv = self._check_cv()\n",
    "        X_meta = self._cross_val_predict(all_estimators, cv, sample_weight)\n",
    "        alpha_prior = loguniform(compute_alpha_lb(X_meta, y), compute_alpha_ub(X_meta, y))\n",
    "        \n",
    "        # fit final estimator on CV predictions\n",
    "        ridge_cv = RidgeCV(\n",
    "            alpha_prior,\n",
    "            fit_intercept=False,\n",
    "            prior_weight=1./X_meta.shape[1],\n",
    "            normalize_coef=True,\n",
    "            cv=cv,\n",
    "            n_jobs=self.n_jobs,\n",
    "            n_iter=self.n_iter\n",
    "        )\n",
    "        self.final_estimator = ridge_cv.fit(X_meta, y)\n",
    "        self.final_estimator_ = self.final_estimator.make_best_estimator()\n",
    "        return self\n",
    "    \n",
    "    def make_best_estimator(self):\n",
    "        stack = StackingRidge(\n",
    "            self.estimators, self.final_estimator_.alpha, \n",
    "            cv=self.cv, n_jobs=self.n_jobs, verbose=self.verbose\n",
    "        )\n",
    "        stack.estimators_ = self.estimators_\n",
    "        stack.final_estimator_ = self.final_estimator_\n",
    "        return stack"
   ]
  },
  {
   "cell_type": "code",
   "execution_count": null,
   "metadata": {},
   "outputs": [],
   "source": [
    "estimators = [('ridge', ridge), ('knn', knn), ('svr', svr), ('rf', rf)]\n",
    "stack = StackingRidgeCV(estimators).fit(X, y).make_best_estimator()"
   ]
  },
  {
   "cell_type": "code",
   "execution_count": null,
   "metadata": {
    "scrolled": true
   },
   "outputs": [],
   "source": [
    "xval_score = cross_val_score(stack, X, y)\n",
    "print(xval_score)\n",
    "print(xval_score.mean())"
   ]
  },
  {
   "cell_type": "code",
   "execution_count": null,
   "metadata": {},
   "outputs": [],
   "source": [
    "stack.fit(X, y)\n",
    "print(stack.final_estimator_.coef_.sum())\n",
    "stack.final_estimator_.coef_ + stack.final_estimator_.prior_weight"
   ]
  },
  {
   "cell_type": "code",
   "execution_count": null,
   "metadata": {},
   "outputs": [],
   "source": [
    "from sklearn.linear_model import LinearRegression\n",
    "\n",
    "\n",
    "class ConstrainedLinearRegression(LinearRegression):\n",
    "    def __init__(self, constraint=0, normalize=False, copy_X=True, n_jobs=None):\n",
    "        self.constraint = constraint\n",
    "        super().__init__(fit_intercept=False, normalize=normalize, copy_X=copy_X, n_jobs=n_jobs)\n",
    "        \n",
    "    def fit(self, X, y, sample_weight=None):\n",
    "        if X.shape[1] == 1:\n",
    "            self.coef_ = np.array([1])\n",
    "            return self\n",
    "        if hasattr(X, 'values'):\n",
    "            X = X.values\n",
    "        X_0, X_rest = X[:,0], X[:,1:]\n",
    "        X_rest = (X_rest.T - X_0).T\n",
    "        y = y - self.constraint * X_0\n",
    "        super().fit(X_rest, y, sample_weight)\n",
    "        self.coef_ = np.insert(self.coef_, 0, self.constraint - self.coef_.sum())\n",
    "        return self\n",
    "    \n",
    "    def predict(self, X):\n",
    "        return X @ self.coef_"
   ]
  },
  {
   "cell_type": "code",
   "execution_count": null,
   "metadata": {},
   "outputs": [],
   "source": [
    "from copy import deepcopy\n",
    "\n",
    "from sklearn.ensemble import VotingRegressor\n",
    "\n",
    "class VotingRegressorRFECV(_StackingBase):    \n",
    "    def fit(self, X, y, sample_weight=None):\n",
    "        def get_rfe_scores(X_meta):\n",
    "            rfe_progress = []\n",
    "            while estimators:\n",
    "                score = cross_val_score(linear_reg, X_meta, y, cv=cv).mean()\n",
    "                linear_reg.fit(X_meta, y)\n",
    "                rfe_progress.append((score, estimators.copy(), linear_reg.coef_))\n",
    "                drop_idx = int(np.argmin(linear_reg.coef_))\n",
    "                estimators.pop(drop_idx)\n",
    "                X_meta = np.delete(X_meta, drop_idx, axis=1)\n",
    "            rfe_progress.sort(key=lambda x: x[0], reverse=True)\n",
    "            return rfe_progress\n",
    "        \n",
    "        names, all_estimators = self._validate_estimators()\n",
    "        cv = self._check_cv()\n",
    "        X_meta = self._cross_val_predict(all_estimators, cv, sample_weight)\n",
    "        linear_reg = ConstrainedLinearRegression(1)\n",
    "        estimators = list(zip(names, all_estimators))\n",
    "        rfe_progress = get_rfe_scores(X_meta)\n",
    "        self.best_score_, estimators, linear_reg.coef_ = rfe_progress[0]\n",
    "        self.names_, estimators = zip(*estimators)\n",
    "        self._fit_estimators(estimators, sample_weight)\n",
    "        self.final_estimator_ = linear_reg\n",
    "        return self\n",
    "    \n",
    "    def make_best_estimator(self):\n",
    "        estimators = list(zip(self.names_, self.estimators_))\n",
    "        return VotingRegressor(\n",
    "            estimators, weights=self.final_estimator_.coef_, \n",
    "            n_jobs=self.n_jobs, verbose=self.verbose\n",
    "        )"
   ]
  },
  {
   "cell_type": "code",
   "execution_count": null,
   "metadata": {},
   "outputs": [],
   "source": [
    "estimators = [('knn', knn), ('svr', svr), ('ridge', ridge), ('rf', rf)]\n",
    "stack = VotingRegressorRFECV(estimators)\n",
    "stack.fit(X, y)"
   ]
  },
  {
   "cell_type": "code",
   "execution_count": null,
   "metadata": {},
   "outputs": [],
   "source": [
    "stack.estimators_"
   ]
  },
  {
   "cell_type": "code",
   "execution_count": null,
   "metadata": {},
   "outputs": [],
   "source": [
    "stack.best_score_"
   ]
  },
  {
   "cell_type": "code",
   "execution_count": null,
   "metadata": {},
   "outputs": [],
   "source": [
    "stack.final_estimator_.coef_"
   ]
  },
  {
   "cell_type": "code",
   "execution_count": null,
   "metadata": {},
   "outputs": [],
   "source": [
    "reg = stack.make_best_estimator()\n",
    "reg"
   ]
  },
  {
   "cell_type": "code",
   "execution_count": null,
   "metadata": {},
   "outputs": [],
   "source": [
    "cross_val_score(reg, X, y).mean()"
   ]
  },
  {
   "cell_type": "code",
   "execution_count": null,
   "metadata": {},
   "outputs": [],
   "source": []
  }
 ],
 "metadata": {
  "kernelspec": {
   "display_name": "ml-inference",
   "language": "python",
   "name": "ml-inference"
  },
  "language_info": {
   "codemirror_mode": {
    "name": "ipython",
    "version": 3
   },
   "file_extension": ".py",
   "mimetype": "text/x-python",
   "name": "python",
   "nbconvert_exporter": "python",
   "pygments_lexer": "ipython3",
   "version": "3.9.1"
  },
  "toc": {
   "base_numbering": 1,
   "nav_menu": {},
   "number_sections": true,
   "sideBar": true,
   "skip_h1_title": false,
   "title_cell": "Table of Contents",
   "title_sidebar": "Contents",
   "toc_cell": false,
   "toc_position": {},
   "toc_section_display": true,
   "toc_window_display": false
  },
  "varInspector": {
   "cols": {
    "lenName": 16,
    "lenType": 16,
    "lenVar": 40
   },
   "kernels_config": {
    "python": {
     "delete_cmd_postfix": "",
     "delete_cmd_prefix": "del ",
     "library": "var_list.py",
     "varRefreshCmd": "print(var_dic_list())"
    },
    "r": {
     "delete_cmd_postfix": ") ",
     "delete_cmd_prefix": "rm(",
     "library": "var_list.r",
     "varRefreshCmd": "cat(var_dic_list()) "
    }
   },
   "types_to_exclude": [
    "module",
    "function",
    "builtin_function_or_method",
    "instance",
    "_Feature"
   ],
   "window_display": false
  }
 },
 "nbformat": 4,
 "nbformat_minor": 4
}
