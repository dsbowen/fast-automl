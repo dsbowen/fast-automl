{
 "cells": [
  {
   "cell_type": "code",
   "execution_count": 1,
   "metadata": {
    "ExecuteTime": {
     "end_time": "2021-01-05T18:26:07.163534Z",
     "start_time": "2021-01-05T18:26:05.195361Z"
    }
   },
   "outputs": [],
   "source": [
    "from ml_inference.tuners import RandomForestRegressorTuner, RidgeTuner\n",
    "from preprocess import Preprocessor\n",
    "\n",
    "import pandas as pd\n",
    "\n",
    "INFILE = '../data/pennycook_et_al_study2_clean.csv'"
   ]
  },
  {
   "cell_type": "code",
   "execution_count": 2,
   "metadata": {
    "ExecuteTime": {
     "end_time": "2021-01-05T18:26:07.295031Z",
     "start_time": "2021-01-05T18:26:07.210031Z"
    }
   },
   "outputs": [
    {
     "data": {
      "text/html": [
       "<div>\n",
       "<style scoped>\n",
       "    .dataframe tbody tr th:only-of-type {\n",
       "        vertical-align: middle;\n",
       "    }\n",
       "\n",
       "    .dataframe tbody tr th {\n",
       "        vertical-align: top;\n",
       "    }\n",
       "\n",
       "    .dataframe thead th {\n",
       "        text-align: right;\n",
       "    }\n",
       "</style>\n",
       "<table border=\"1\" class=\"dataframe\">\n",
       "  <thead>\n",
       "    <tr style=\"text-align: right;\">\n",
       "      <th></th>\n",
       "      <th>SharingType_1</th>\n",
       "      <th>SharingType_2</th>\n",
       "      <th>SharingType_3</th>\n",
       "      <th>SharingType_4</th>\n",
       "      <th>SharingType_6</th>\n",
       "      <th>SharingType_5</th>\n",
       "      <th>SocialMedia_1</th>\n",
       "      <th>SocialMedia_2</th>\n",
       "      <th>SocialMedia_3</th>\n",
       "      <th>SocialMedia_4</th>\n",
       "      <th>...</th>\n",
       "      <th>Male</th>\n",
       "      <th>Education</th>\n",
       "      <th>Income</th>\n",
       "      <th>English</th>\n",
       "      <th>Partisan</th>\n",
       "      <th>Social_Conserv</th>\n",
       "      <th>Economic_Conserv</th>\n",
       "      <th>Diff</th>\n",
       "      <th>Party</th>\n",
       "      <th>POTUS2016</th>\n",
       "    </tr>\n",
       "  </thead>\n",
       "  <tbody>\n",
       "    <tr>\n",
       "      <th>0</th>\n",
       "      <td>1.0</td>\n",
       "      <td>1.0</td>\n",
       "      <td>1.0</td>\n",
       "      <td>1.0</td>\n",
       "      <td>0.0</td>\n",
       "      <td>1.0</td>\n",
       "      <td>1.0</td>\n",
       "      <td>1.0</td>\n",
       "      <td>1.0</td>\n",
       "      <td>1.0</td>\n",
       "      <td>...</td>\n",
       "      <td>1.0</td>\n",
       "      <td>17.0</td>\n",
       "      <td>9.0</td>\n",
       "      <td>1.0</td>\n",
       "      <td>3.0</td>\n",
       "      <td>1.0</td>\n",
       "      <td>2.0</td>\n",
       "      <td>-0.200000</td>\n",
       "      <td>Democrat</td>\n",
       "      <td>Clinton</td>\n",
       "    </tr>\n",
       "    <tr>\n",
       "      <th>5</th>\n",
       "      <td>0.0</td>\n",
       "      <td>0.0</td>\n",
       "      <td>0.0</td>\n",
       "      <td>0.0</td>\n",
       "      <td>0.0</td>\n",
       "      <td>1.0</td>\n",
       "      <td>1.0</td>\n",
       "      <td>1.0</td>\n",
       "      <td>1.0</td>\n",
       "      <td>1.0</td>\n",
       "      <td>...</td>\n",
       "      <td>1.0</td>\n",
       "      <td>10.0</td>\n",
       "      <td>12.0</td>\n",
       "      <td>1.0</td>\n",
       "      <td>1.0</td>\n",
       "      <td>1.0</td>\n",
       "      <td>1.0</td>\n",
       "      <td>-0.200000</td>\n",
       "      <td>Democrat</td>\n",
       "      <td>Clinton</td>\n",
       "    </tr>\n",
       "    <tr>\n",
       "      <th>7</th>\n",
       "      <td>0.0</td>\n",
       "      <td>0.0</td>\n",
       "      <td>0.0</td>\n",
       "      <td>1.0</td>\n",
       "      <td>0.0</td>\n",
       "      <td>0.0</td>\n",
       "      <td>1.0</td>\n",
       "      <td>0.0</td>\n",
       "      <td>0.0</td>\n",
       "      <td>1.0</td>\n",
       "      <td>...</td>\n",
       "      <td>0.0</td>\n",
       "      <td>0.0</td>\n",
       "      <td>7.0</td>\n",
       "      <td>1.0</td>\n",
       "      <td>5.0</td>\n",
       "      <td>3.0</td>\n",
       "      <td>3.0</td>\n",
       "      <td>0.266667</td>\n",
       "      <td>Independent</td>\n",
       "      <td>Unable to vote</td>\n",
       "    </tr>\n",
       "    <tr>\n",
       "      <th>8</th>\n",
       "      <td>0.0</td>\n",
       "      <td>0.0</td>\n",
       "      <td>1.0</td>\n",
       "      <td>0.0</td>\n",
       "      <td>0.0</td>\n",
       "      <td>0.0</td>\n",
       "      <td>1.0</td>\n",
       "      <td>0.0</td>\n",
       "      <td>0.0</td>\n",
       "      <td>0.0</td>\n",
       "      <td>...</td>\n",
       "      <td>0.0</td>\n",
       "      <td>1.0</td>\n",
       "      <td>2.0</td>\n",
       "      <td>1.0</td>\n",
       "      <td>4.0</td>\n",
       "      <td>3.0</td>\n",
       "      <td>3.0</td>\n",
       "      <td>0.000000</td>\n",
       "      <td>Independent</td>\n",
       "      <td>Didn't vote but could have</td>\n",
       "    </tr>\n",
       "    <tr>\n",
       "      <th>13</th>\n",
       "      <td>0.0</td>\n",
       "      <td>0.0</td>\n",
       "      <td>0.0</td>\n",
       "      <td>0.0</td>\n",
       "      <td>1.0</td>\n",
       "      <td>0.0</td>\n",
       "      <td>1.0</td>\n",
       "      <td>0.0</td>\n",
       "      <td>0.0</td>\n",
       "      <td>0.0</td>\n",
       "      <td>...</td>\n",
       "      <td>0.0</td>\n",
       "      <td>12.0</td>\n",
       "      <td>3.0</td>\n",
       "      <td>1.0</td>\n",
       "      <td>3.0</td>\n",
       "      <td>3.0</td>\n",
       "      <td>3.0</td>\n",
       "      <td>-0.266667</td>\n",
       "      <td>Independent</td>\n",
       "      <td>Didn't vote but could have</td>\n",
       "    </tr>\n",
       "  </tbody>\n",
       "</table>\n",
       "<p>5 rows × 74 columns</p>\n",
       "</div>"
      ],
      "text/plain": [
       "    SharingType_1  SharingType_2  SharingType_3  SharingType_4  SharingType_6  \\\n",
       "0             1.0            1.0            1.0            1.0            0.0   \n",
       "5             0.0            0.0            0.0            0.0            0.0   \n",
       "7             0.0            0.0            0.0            1.0            0.0   \n",
       "8             0.0            0.0            1.0            0.0            0.0   \n",
       "13            0.0            0.0            0.0            0.0            1.0   \n",
       "\n",
       "    SharingType_5  SocialMedia_1  SocialMedia_2  SocialMedia_3  SocialMedia_4  \\\n",
       "0             1.0            1.0            1.0            1.0            1.0   \n",
       "5             1.0            1.0            1.0            1.0            1.0   \n",
       "7             0.0            1.0            0.0            0.0            1.0   \n",
       "8             0.0            1.0            0.0            0.0            0.0   \n",
       "13            0.0            1.0            0.0            0.0            0.0   \n",
       "\n",
       "    ...  Male  Education  Income  English  Partisan  Social_Conserv  \\\n",
       "0   ...   1.0       17.0     9.0      1.0       3.0             1.0   \n",
       "5   ...   1.0       10.0    12.0      1.0       1.0             1.0   \n",
       "7   ...   0.0        0.0     7.0      1.0       5.0             3.0   \n",
       "8   ...   0.0        1.0     2.0      1.0       4.0             3.0   \n",
       "13  ...   0.0       12.0     3.0      1.0       3.0             3.0   \n",
       "\n",
       "    Economic_Conserv      Diff        Party                   POTUS2016  \n",
       "0                2.0 -0.200000     Democrat                     Clinton  \n",
       "5                1.0 -0.200000     Democrat                     Clinton  \n",
       "7                3.0  0.266667  Independent              Unable to vote  \n",
       "8                3.0  0.000000  Independent  Didn't vote but could have  \n",
       "13               3.0 -0.266667  Independent  Didn't vote but could have  \n",
       "\n",
       "[5 rows x 74 columns]"
      ]
     },
     "execution_count": 2,
     "metadata": {},
     "output_type": "execute_result"
    }
   ],
   "source": [
    "df = pd.read_csv(INFILE)\n",
    "df = df[df.Treatment == 1].drop(columns='Treatment')\n",
    "X, y = df.drop(columns='Diff').reset_index(drop=True), df.Diff\n",
    "y = (y - y.mean()) / y.std()\n",
    "df.head()"
   ]
  },
  {
   "cell_type": "code",
   "execution_count": 4,
   "metadata": {
    "ExecuteTime": {
     "end_time": "2021-01-05T18:27:10.729114Z",
     "start_time": "2021-01-05T18:27:10.694015Z"
    }
   },
   "outputs": [
    {
     "name": "stderr",
     "output_type": "stream",
     "text": [
      "/home/dsbowen/individual-diff/venv/lib/python3.6/site-packages/sklearn/utils/validation.py:70: FutureWarning: Pass groups=[] as keyword args. From version 0.25 passing these as positional arguments will result in an error\n",
      "  FutureWarning)\n"
     ]
    },
    {
     "ename": "ValueError",
     "evalue": "Found input variables with inconsistent numbers of samples: [420, 420, 0]",
     "output_type": "error",
     "traceback": [
      "\u001b[0;31m---------------------------------------------------------------------------\u001b[0m",
      "\u001b[0;31mValueError\u001b[0m                                Traceback (most recent call last)",
      "\u001b[0;32m<ipython-input-4-4e37899a4e77>\u001b[0m in \u001b[0;36m<module>\u001b[0;34m\u001b[0m\n\u001b[1;32m      1\u001b[0m \u001b[0;32mfrom\u001b[0m \u001b[0mml_inference\u001b[0m\u001b[0;34m.\u001b[0m\u001b[0mtuners\u001b[0m \u001b[0;32mimport\u001b[0m \u001b[0mRandomForestRegressorTuner\u001b[0m\u001b[0;34m\u001b[0m\u001b[0;34m\u001b[0m\u001b[0m\n\u001b[1;32m      2\u001b[0m \u001b[0;34m\u001b[0m\u001b[0m\n\u001b[0;32m----> 3\u001b[0;31m \u001b[0mrf_tuner\u001b[0m \u001b[0;34m=\u001b[0m \u001b[0mRandomForestRegressorTuner\u001b[0m\u001b[0;34m(\u001b[0m\u001b[0mPreprocessor\u001b[0m\u001b[0;34m(\u001b[0m\u001b[0mX\u001b[0m\u001b[0;34m)\u001b[0m\u001b[0;34m)\u001b[0m\u001b[0;34m.\u001b[0m\u001b[0mtune\u001b[0m\u001b[0;34m(\u001b[0m\u001b[0mX\u001b[0m\u001b[0;34m,\u001b[0m \u001b[0my\u001b[0m\u001b[0;34m,\u001b[0m \u001b[0mn_jobs\u001b[0m\u001b[0;34m=\u001b[0m\u001b[0;34m-\u001b[0m\u001b[0;36m1\u001b[0m\u001b[0;34m)\u001b[0m\u001b[0;34m\u001b[0m\u001b[0;34m\u001b[0m\u001b[0m\n\u001b[0m",
      "\u001b[0;32m~/individual-diff/src/ml_inference/tuners.py\u001b[0m in \u001b[0;36mtune\u001b[0;34m(self, X, y, sample_weight, n_iter, n_jobs)\u001b[0m\n\u001b[1;32m     24\u001b[0m             \u001b[0mn_jobs\u001b[0m\u001b[0;34m=\u001b[0m\u001b[0mn_jobs\u001b[0m\u001b[0;34m\u001b[0m\u001b[0;34m\u001b[0m\u001b[0m\n\u001b[1;32m     25\u001b[0m         )\n\u001b[0;32m---> 26\u001b[0;31m         \u001b[0mest\u001b[0m\u001b[0;34m.\u001b[0m\u001b[0mfit\u001b[0m\u001b[0;34m(\u001b[0m\u001b[0mX\u001b[0m\u001b[0;34m,\u001b[0m \u001b[0my\u001b[0m\u001b[0;34m,\u001b[0m \u001b[0msample_weight\u001b[0m\u001b[0;34m)\u001b[0m\u001b[0;34m\u001b[0m\u001b[0;34m\u001b[0m\u001b[0m\n\u001b[0m\u001b[1;32m     27\u001b[0m         \u001b[0mres\u001b[0m \u001b[0;34m=\u001b[0m \u001b[0mlist\u001b[0m\u001b[0;34m(\u001b[0m\u001b[0mzip\u001b[0m\u001b[0;34m(\u001b[0m\u001b[0mest\u001b[0m\u001b[0;34m.\u001b[0m\u001b[0mcv_results_\u001b[0m\u001b[0;34m[\u001b[0m\u001b[0;34m'mean_test_score'\u001b[0m\u001b[0;34m]\u001b[0m\u001b[0;34m,\u001b[0m \u001b[0mest\u001b[0m\u001b[0;34m.\u001b[0m\u001b[0mcv_results_\u001b[0m\u001b[0;34m[\u001b[0m\u001b[0;34m'params'\u001b[0m\u001b[0;34m]\u001b[0m\u001b[0;34m)\u001b[0m\u001b[0;34m)\u001b[0m\u001b[0;34m\u001b[0m\u001b[0;34m\u001b[0m\u001b[0m\n\u001b[1;32m     28\u001b[0m         \u001b[0mself\u001b[0m\u001b[0;34m.\u001b[0m\u001b[0mbest_params_\u001b[0m \u001b[0;34m=\u001b[0m \u001b[0msorted\u001b[0m\u001b[0;34m(\u001b[0m\u001b[0mres\u001b[0m\u001b[0;34m,\u001b[0m \u001b[0mkey\u001b[0m\u001b[0;34m=\u001b[0m\u001b[0;32mlambda\u001b[0m \u001b[0mx\u001b[0m\u001b[0;34m:\u001b[0m \u001b[0;34m-\u001b[0m\u001b[0mx\u001b[0m\u001b[0;34m[\u001b[0m\u001b[0;36m0\u001b[0m\u001b[0;34m]\u001b[0m\u001b[0;34m)\u001b[0m\u001b[0;34m\u001b[0m\u001b[0;34m\u001b[0m\u001b[0m\n",
      "\u001b[0;32m~/individual-diff/venv/lib/python3.6/site-packages/sklearn/utils/validation.py\u001b[0m in \u001b[0;36minner_f\u001b[0;34m(*args, **kwargs)\u001b[0m\n\u001b[1;32m     70\u001b[0m                           FutureWarning)\n\u001b[1;32m     71\u001b[0m         \u001b[0mkwargs\u001b[0m\u001b[0;34m.\u001b[0m\u001b[0mupdate\u001b[0m\u001b[0;34m(\u001b[0m\u001b[0;34m{\u001b[0m\u001b[0mk\u001b[0m\u001b[0;34m:\u001b[0m \u001b[0marg\u001b[0m \u001b[0;32mfor\u001b[0m \u001b[0mk\u001b[0m\u001b[0;34m,\u001b[0m \u001b[0marg\u001b[0m \u001b[0;32min\u001b[0m \u001b[0mzip\u001b[0m\u001b[0;34m(\u001b[0m\u001b[0msig\u001b[0m\u001b[0;34m.\u001b[0m\u001b[0mparameters\u001b[0m\u001b[0;34m,\u001b[0m \u001b[0margs\u001b[0m\u001b[0;34m)\u001b[0m\u001b[0;34m}\u001b[0m\u001b[0;34m)\u001b[0m\u001b[0;34m\u001b[0m\u001b[0;34m\u001b[0m\u001b[0m\n\u001b[0;32m---> 72\u001b[0;31m         \u001b[0;32mreturn\u001b[0m \u001b[0mf\u001b[0m\u001b[0;34m(\u001b[0m\u001b[0;34m**\u001b[0m\u001b[0mkwargs\u001b[0m\u001b[0;34m)\u001b[0m\u001b[0;34m\u001b[0m\u001b[0;34m\u001b[0m\u001b[0m\n\u001b[0m\u001b[1;32m     73\u001b[0m     \u001b[0;32mreturn\u001b[0m \u001b[0minner_f\u001b[0m\u001b[0;34m\u001b[0m\u001b[0;34m\u001b[0m\u001b[0m\n\u001b[1;32m     74\u001b[0m \u001b[0;34m\u001b[0m\u001b[0m\n",
      "\u001b[0;32m~/individual-diff/venv/lib/python3.6/site-packages/sklearn/model_selection/_search.py\u001b[0m in \u001b[0;36mfit\u001b[0;34m(self, X, y, groups, **fit_params)\u001b[0m\n\u001b[1;32m    674\u001b[0m             \u001b[0mrefit_metric\u001b[0m \u001b[0;34m=\u001b[0m \u001b[0;34m'score'\u001b[0m\u001b[0;34m\u001b[0m\u001b[0;34m\u001b[0m\u001b[0m\n\u001b[1;32m    675\u001b[0m \u001b[0;34m\u001b[0m\u001b[0m\n\u001b[0;32m--> 676\u001b[0;31m         \u001b[0mX\u001b[0m\u001b[0;34m,\u001b[0m \u001b[0my\u001b[0m\u001b[0;34m,\u001b[0m \u001b[0mgroups\u001b[0m \u001b[0;34m=\u001b[0m \u001b[0mindexable\u001b[0m\u001b[0;34m(\u001b[0m\u001b[0mX\u001b[0m\u001b[0;34m,\u001b[0m \u001b[0my\u001b[0m\u001b[0;34m,\u001b[0m \u001b[0mgroups\u001b[0m\u001b[0;34m)\u001b[0m\u001b[0;34m\u001b[0m\u001b[0;34m\u001b[0m\u001b[0m\n\u001b[0m\u001b[1;32m    677\u001b[0m         \u001b[0mfit_params\u001b[0m \u001b[0;34m=\u001b[0m \u001b[0m_check_fit_params\u001b[0m\u001b[0;34m(\u001b[0m\u001b[0mX\u001b[0m\u001b[0;34m,\u001b[0m \u001b[0mfit_params\u001b[0m\u001b[0;34m)\u001b[0m\u001b[0;34m\u001b[0m\u001b[0;34m\u001b[0m\u001b[0m\n\u001b[1;32m    678\u001b[0m \u001b[0;34m\u001b[0m\u001b[0m\n",
      "\u001b[0;32m~/individual-diff/venv/lib/python3.6/site-packages/sklearn/utils/validation.py\u001b[0m in \u001b[0;36mindexable\u001b[0;34m(*iterables)\u001b[0m\n\u001b[1;32m    290\u001b[0m     \"\"\"\n\u001b[1;32m    291\u001b[0m     \u001b[0mresult\u001b[0m \u001b[0;34m=\u001b[0m \u001b[0;34m[\u001b[0m\u001b[0m_make_indexable\u001b[0m\u001b[0;34m(\u001b[0m\u001b[0mX\u001b[0m\u001b[0;34m)\u001b[0m \u001b[0;32mfor\u001b[0m \u001b[0mX\u001b[0m \u001b[0;32min\u001b[0m \u001b[0miterables\u001b[0m\u001b[0;34m]\u001b[0m\u001b[0;34m\u001b[0m\u001b[0;34m\u001b[0m\u001b[0m\n\u001b[0;32m--> 292\u001b[0;31m     \u001b[0mcheck_consistent_length\u001b[0m\u001b[0;34m(\u001b[0m\u001b[0;34m*\u001b[0m\u001b[0mresult\u001b[0m\u001b[0;34m)\u001b[0m\u001b[0;34m\u001b[0m\u001b[0;34m\u001b[0m\u001b[0m\n\u001b[0m\u001b[1;32m    293\u001b[0m     \u001b[0;32mreturn\u001b[0m \u001b[0mresult\u001b[0m\u001b[0;34m\u001b[0m\u001b[0;34m\u001b[0m\u001b[0m\n\u001b[1;32m    294\u001b[0m \u001b[0;34m\u001b[0m\u001b[0m\n",
      "\u001b[0;32m~/individual-diff/venv/lib/python3.6/site-packages/sklearn/utils/validation.py\u001b[0m in \u001b[0;36mcheck_consistent_length\u001b[0;34m(*arrays)\u001b[0m\n\u001b[1;32m    254\u001b[0m     \u001b[0;32mif\u001b[0m \u001b[0mlen\u001b[0m\u001b[0;34m(\u001b[0m\u001b[0muniques\u001b[0m\u001b[0;34m)\u001b[0m \u001b[0;34m>\u001b[0m \u001b[0;36m1\u001b[0m\u001b[0;34m:\u001b[0m\u001b[0;34m\u001b[0m\u001b[0;34m\u001b[0m\u001b[0m\n\u001b[1;32m    255\u001b[0m         raise ValueError(\"Found input variables with inconsistent numbers of\"\n\u001b[0;32m--> 256\u001b[0;31m                          \" samples: %r\" % [int(l) for l in lengths])\n\u001b[0m\u001b[1;32m    257\u001b[0m \u001b[0;34m\u001b[0m\u001b[0m\n\u001b[1;32m    258\u001b[0m \u001b[0;34m\u001b[0m\u001b[0m\n",
      "\u001b[0;31mValueError\u001b[0m: Found input variables with inconsistent numbers of samples: [420, 420, 0]"
     ]
    }
   ],
   "source": [
    "from ml_inference.tuners import RandomForestRegressorTuner\n",
    "\n",
    "rf_tuner = RandomForestRegressorTuner(Preprocessor(X)).tune(X, y, n_jobs=-1)"
   ]
  },
  {
   "cell_type": "code",
   "execution_count": null,
   "metadata": {
    "ExecuteTime": {
     "end_time": "2021-01-05T14:45:47.194476Z",
     "start_time": "2021-01-05T14:45:47.184255Z"
    }
   },
   "outputs": [],
   "source": [
    "from sklearn.ensemble import VotingRegressor\n",
    "\n",
    "class StackingRegressor(VotingRegressor):\n",
    "    def __init__(self, estimators, preprocess=[], weights=None, n_jobs=None, verbose=False):\n",
    "        self.preprocess = preprocess if isinstance(preprocess, list) else [preprocess]\n",
    "        super().__init__(estimators, weights=weights, n_jobs=n_jobs, verbose=verbose)\n",
    "        \n",
    "    def fit(self, X, y, sample_weight=[]):\n",
    "        resid = y.copy()\n",
    "        for _, est in self.estimators[:-1]:\n",
    "            est.fit(X, resid)\n",
    "            resid -= est.predict(X)\n",
    "        for preproc in self.preprocess:\n",
    "            X = preproc.fit(X).transform(X)\n",
    "        self.estimators[-1][1].fit(X, resid)\n",
    "        return self\n",
    "            \n",
    "    def predict(self, X):\n",
    "        predictions = [est.predict(X) for _, est in self.estimators[:-1]]        \n",
    "        for preproc in self.preprocess:\n",
    "            X = preproc.transform(X)\n",
    "        predictions.append(self.estimators[-1][1].predict(X))\n",
    "        return np.array(predictions).sum(axis=0) "
   ]
  },
  {
   "cell_type": "code",
   "execution_count": null,
   "metadata": {
    "ExecuteTime": {
     "end_time": "2021-01-05T14:45:48.398565Z",
     "start_time": "2021-01-05T14:45:47.656034Z"
    }
   },
   "outputs": [],
   "source": [
    "from sklearn.ensemble import RandomForestRegressor\n",
    "from sklearn.svm import SVR\n",
    "from sklearn.linear_model import Ridge\n",
    "\n",
    "reg = StackingRegressor(\n",
    "    [\n",
    "        ('svr', make_pipeline(\n",
    "            Preprocessor(X),\n",
    "            SVR()\n",
    "        )),\n",
    "        ('rf', RandomForestRegressor())\n",
    "    ], \n",
    "    preprocess=Preprocessor(X)\n",
    ")\n",
    "reg.fit(X, y)\n",
    "reg.score(X, y)"
   ]
  },
  {
   "cell_type": "code",
   "execution_count": null,
   "metadata": {
    "ExecuteTime": {
     "end_time": "2021-01-05T14:45:57.297263Z",
     "start_time": "2021-01-05T14:45:48.785594Z"
    }
   },
   "outputs": [],
   "source": [
    "from sklearn.pipeline import make_pipeline\n",
    "from sklearn.model_selection import cross_val_score\n",
    "\n",
    "rf = make_pipeline(\n",
    "    Preprocessor(X),\n",
    "    RandomForestRegressor()\n",
    ")\n",
    "print(cross_val_score(rf, X, y).mean())\n",
    "svr = make_pipeline(\n",
    "    Preprocessor(X),\n",
    "    SVR()\n",
    ")\n",
    "print(cross_val_score(svr, X, y).mean())\n",
    "vr = make_pipeline(\n",
    "    Preprocessor(X),\n",
    "    VotingRegressor([\n",
    "        ('rf', RandomForestRegressor()),\n",
    "        ('svr', SVR())\n",
    "    ])\n",
    ")\n",
    "print(cross_val_score(vr, X, y).mean())\n",
    "print(cross_val_score(reg, X, y).mean())"
   ]
  },
  {
   "cell_type": "code",
   "execution_count": null,
   "metadata": {
    "ExecuteTime": {
     "end_time": "2021-01-05T14:45:59.693107Z",
     "start_time": "2021-01-05T14:45:59.680323Z"
    }
   },
   "outputs": [],
   "source": [
    "reg.get_params()"
   ]
  },
  {
   "cell_type": "code",
   "execution_count": null,
   "metadata": {
    "ExecuteTime": {
     "end_time": "2021-01-05T14:50:47.082699Z",
     "start_time": "2021-01-05T14:50:47.065102Z"
    }
   },
   "outputs": [],
   "source": [
    "from sklearn.decomposition import PCA\n",
    "from sklearn.ensemble import AdaBoostRegressor, RandomForestRegressor\n",
    "from sklearn.kernel_ridge import KernelRidge\n",
    "from sklearn.linear_model import LassoLars, Ridge, ElasticNet\n",
    "from sklearn.model_selection import RandomizedSearchCV\n",
    "from sklearn.neighbors import KNeighborsRegressor\n",
    "from sklearn.pipeline import make_pipeline\n",
    "from sklearn.preprocessing import PolynomialFeatures, StandardScaler\n",
    "from sklearn.svm import SVR\n",
    "from scipy.stats import expon, uniform, poisson, randint\n",
    "from xgboost import XGBRegressor\n",
    "\n",
    "from ml_inference.tuners import Tuner\n",
    "\n",
    "class RandomForestStackingRegressorTuner(Tuner):\n",
    "    def __init__(self, name, estimators=[], preprocess=[]):\n",
    "        self.name = name\n",
    "        self.estimators = estimators\n",
    "        self.preprocess = preprocess if isinstance(preprocess, list) else [preprocess]\n",
    "        \n",
    "    def make_estimator(self, **params):\n",
    "        est = make_pipeline(\n",
    "            PolynomialFeatures(),\n",
    "            PCA(),\n",
    "            RandomForestRegressor()\n",
    "        )\n",
    "        stacking_est = StackingRegressor(\n",
    "            self.estimators+[(self.name, est)], \n",
    "            preprocess=self.preprocess\n",
    "        )\n",
    "        return stacking_est.set_params(**params)\n",
    "#         return super().make_estimator(est.set_params(**params))\n",
    "\n",
    "    def make_best_estimator(self, idx=0, return_score=False):\n",
    "        if idx < 1 and idx != 0:\n",
    "            # interpret idx as a quantile\n",
    "            idx = round(idx*(len(self.best_params_)-1))\n",
    "        est = self.make_estimator(**self.best_params_[idx][1])\n",
    "        return (self.best_params_[idx][0], est) if return_score else est\n",
    "        \n",
    "    def get_param_distributions(self, X, y):\n",
    "        return {\n",
    "            'rf__polynomialfeatures__degree': [1, 2],\n",
    "            'rf__pca__n_components': list(range(1, X.shape[1])),\n",
    "            'rf__randomforestregressor__n_estimators': poisson(1, 2**5)\n",
    "        }"
   ]
  },
  {
   "cell_type": "code",
   "execution_count": null,
   "metadata": {
    "ExecuteTime": {
     "end_time": "2021-01-05T14:51:35.644660Z",
     "start_time": "2021-01-05T14:50:47.639882Z"
    }
   },
   "outputs": [],
   "source": [
    "from ml_inference.tuners import SVRTuner\n",
    "\n",
    "tuner = SVRTuner(Preprocessor(X)).tune(X, y, n_iter=2**5)\n",
    "svr = tuner.make_best_estimator()\n",
    "cross_val_score(svr, X, y).mean()"
   ]
  },
  {
   "cell_type": "code",
   "execution_count": null,
   "metadata": {
    "ExecuteTime": {
     "end_time": "2021-01-05T14:55:26.929552Z",
     "start_time": "2021-01-05T14:51:36.249880Z"
    }
   },
   "outputs": [],
   "source": [
    "tuner = RandomForestStackingRegressorTuner('rf', estimators=[('svr', svr)], preprocess=Preprocessor(X))\n",
    "tuner.tune(X, y, n_iter=2**5)"
   ]
  },
  {
   "cell_type": "code",
   "execution_count": null,
   "metadata": {
    "ExecuteTime": {
     "end_time": "2021-01-05T14:55:27.402533Z",
     "start_time": "2021-01-05T14:55:27.396988Z"
    }
   },
   "outputs": [],
   "source": [
    "tuner.best_params_[0]"
   ]
  },
  {
   "cell_type": "code",
   "execution_count": null,
   "metadata": {
    "ExecuteTime": {
     "end_time": "2021-01-05T14:55:40.328812Z",
     "start_time": "2021-01-05T14:55:27.873226Z"
    }
   },
   "outputs": [],
   "source": [
    "reg = tuner.make_best_estimator()\n",
    "print(cross_val_score(reg, X, y).mean())\n",
    "reg.get_params()"
   ]
  },
  {
   "cell_type": "code",
   "execution_count": null,
   "metadata": {
    "ExecuteTime": {
     "end_time": "2021-01-05T13:52:32.093043Z",
     "start_time": "2021-01-05T13:52:32.088388Z"
    }
   },
   "outputs": [],
   "source": [
    "from ml_inference.tuners import Tuner\n",
    "\n",
    "\n",
    "class StackingTuner(Tuner):\n",
    "    def __init__(self, estimators=[], preprocess=[]):\n",
    "        self.estimators = estimators\n",
    "        self.preprocess = preprocess if isinstance(preprocess, list) else [preprocess]\n",
    "        \n",
    "    def make_estimator(self, last_estimator):\n",
    "        return StackingRegressor(self.estimators+[last_estimator])"
   ]
  },
  {
   "cell_type": "code",
   "execution_count": null,
   "metadata": {},
   "outputs": [],
   "source": []
  }
 ],
 "metadata": {
  "kernelspec": {
   "display_name": "individual-diff",
   "language": "python",
   "name": "individual-diff"
  },
  "language_info": {
   "codemirror_mode": {
    "name": "ipython",
    "version": 3
   },
   "file_extension": ".py",
   "mimetype": "text/x-python",
   "name": "python",
   "nbconvert_exporter": "python",
   "pygments_lexer": "ipython3",
   "version": "3.6.8"
  },
  "toc": {
   "base_numbering": 1,
   "nav_menu": {},
   "number_sections": true,
   "sideBar": true,
   "skip_h1_title": false,
   "title_cell": "Table of Contents",
   "title_sidebar": "Contents",
   "toc_cell": false,
   "toc_position": {},
   "toc_section_display": true,
   "toc_window_display": false
  },
  "varInspector": {
   "cols": {
    "lenName": 16,
    "lenType": 16,
    "lenVar": 40
   },
   "kernels_config": {
    "python": {
     "delete_cmd_postfix": "",
     "delete_cmd_prefix": "del ",
     "library": "var_list.py",
     "varRefreshCmd": "print(var_dic_list())"
    },
    "r": {
     "delete_cmd_postfix": ") ",
     "delete_cmd_prefix": "rm(",
     "library": "var_list.r",
     "varRefreshCmd": "cat(var_dic_list()) "
    }
   },
   "types_to_exclude": [
    "module",
    "function",
    "builtin_function_or_method",
    "instance",
    "_Feature"
   ],
   "window_display": false
  }
 },
 "nbformat": 4,
 "nbformat_minor": 4
}
