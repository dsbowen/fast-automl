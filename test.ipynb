{
 "cells": [
  {
   "cell_type": "code",
   "execution_count": null,
   "metadata": {},
   "outputs": [],
   "source": [
    "from fast_automl.baseline import BaselineRegressor\n",
    "\n",
    "from sklearn.datasets import load_boston\n",
    "from sklearn.model_selection import train_test_split\n",
    "\n",
    "X, y = load_boston(return_X_y=True)\n",
    "X_train, X_test, y_train, y_test = train_test_split(X, y)\n",
    "reg = BaselineRegressor().fit(X_train, y_train)\n",
    "reg.score(X_test, y_test)"
   ]
  },
  {
   "cell_type": "code",
   "execution_count": null,
   "metadata": {},
   "outputs": [],
   "source": [
    "from fast_automl.baseline import BaselineClassifier\n",
    "\n",
    "from sklearn.datasets import load_digits\n",
    "from sklearn.model_selection import train_test_split\n",
    "\n",
    "X, y = load_digits(return_X_y=True)\n",
    "X_train, X_test, y_train, y_test = train_test_split(X, y, stratify=y)\n",
    "clf = BaselineClassifier().fit(X_train, y_train)\n",
    "clf.score(X_test, y_test)"
   ]
  },
  {
   "cell_type": "code",
   "execution_count": null,
   "metadata": {},
   "outputs": [],
   "source": [
    "from fast_automl.linear_model import ConstrainedLinearRegression\n",
    "\n",
    "from sklearn.datasets import load_boston\n",
    "from sklearn.model_selection import train_test_split\n",
    "\n",
    "X, y = load_boston(return_X_y=True)\n",
    "X_train, X_test, y_train, y_test = train_test_split(X, y, shuffle=True)\n",
    "reg = ConstrainedLinearRegression(constraint=.8).fit(X_train, y_train)\n",
    "print(reg.score(X_test, y_test))\n",
    "print(reg.coef_.sum())"
   ]
  },
  {
   "cell_type": "code",
   "execution_count": null,
   "metadata": {},
   "outputs": [],
   "source": [
    "from fast_automl.linear_model import Ridge\n",
    "\n",
    "from sklearn.datasets import load_boston\n",
    "from sklearn.model_selection import train_test_split\n",
    "\n",
    "X, y = load_boston(return_X_y=True)\n",
    "X_train, X_test, y_train, y_test = train_test_split(X, y, shuffle=True)\n",
    "reg = Ridge().fit(X_train, y_train)\n",
    "reg.score(X_test, y_test)"
   ]
  },
  {
   "cell_type": "code",
   "execution_count": null,
   "metadata": {},
   "outputs": [],
   "source": [
    "from fast_automl.utils import ColumnSelector\n",
    "\n",
    "import numpy as np\n",
    "import pandas as pd\n",
    "from sklearn.linear_model import LinearRegression\n",
    "from sklearn.pipeline import make_pipeline\n",
    "\n",
    "X = pd.DataFrame({\n",
    "    'x0': [-1, -2, 1, 2],\n",
    "    'x1': [-1, -1, 1, 1]\n",
    "})\n",
    "y = np.array([1, 1, 2, 2])\n",
    "\n",
    "reg = make_pipeline(\n",
    "    ColumnSelector(['x1']),\n",
    "    LinearRegression()\n",
    ").fit(X, y)\n",
    "reg.score(X, y)"
   ]
  },
  {
   "cell_type": "code",
   "execution_count": null,
   "metadata": {},
   "outputs": [],
   "source": [
    "from fast_automl.utils import ColumnRemover\n",
    "\n",
    "import numpy as np\n",
    "import pandas as pd\n",
    "from sklearn.linear_model import LinearRegression\n",
    "from sklearn.pipeline import make_pipeline\n",
    "\n",
    "X = pd.DataFrame({\n",
    "    'x0': [-1, -2, 1, 2],\n",
    "    'x1': [-1, -1, 1, 1]\n",
    "})\n",
    "y = np.array([1, 1, 2, 2])\n",
    "\n",
    "reg = make_pipeline(\n",
    "    ColumnRemover(['x0']),\n",
    "    LinearRegression()\n",
    ").fit(X, y)\n",
    "reg.score(X, y)"
   ]
  },
  {
   "cell_type": "code",
   "execution_count": null,
   "metadata": {},
   "outputs": [],
   "source": [
    "from fast_automl.cv_estimators import RandomForestClassifierCV\n",
    "\n",
    "from sklearn.datasets import load_digits\n",
    "from sklearn.model_selection import cross_val_score, train_test_split\n",
    "\n",
    "X, y = load_digits(return_X_y=True)\n",
    "X_train, X_test, y_train, y_test = train_test_split(X, y, stratify=y, shuffle=True)\n",
    "clf = RandomForestClassifierCV().fit(X_train, y_train, n_jobs=-1)\n",
    "print('Cross val score: {:.4f}'.format(cross_val_score(clf.best_estimator_, X_train, y_train).mean()))\n",
    "print('Test score: {:.4f}'.format(clf.score(X_test, y_test)))"
   ]
  },
  {
   "cell_type": "code",
   "execution_count": null,
   "metadata": {},
   "outputs": [],
   "source": [
    "from fast_automl.ensemble import ClassifierWeighter\n",
    "\n",
    "import numpy as np\n",
    "from sklearn.datasets import load_breast_cancer\n",
    "from sklearn.model_selection import StratifiedKFold, cross_val_predict, train_test_split\n",
    "from sklearn.neighbors import KNeighborsClassifier\n",
    "from sklearn.svm import SVC\n",
    "\n",
    "from copy import deepcopy\n",
    "\n",
    "X, y = load_breast_cancer(return_X_y=True)\n",
    "X_train, X_test, y_train, y_test = train_test_split(X, y, stratify=y, shuffle=True)\n",
    "\n",
    "svc = SVC(probability=True).fit(X_train, y_train)\n",
    "knn = KNeighborsClassifier().fit(X_train, y_train)\n",
    "\n",
    "cv = StratifiedKFold(random_state=np.random.RandomState(), shuffle=True)\n",
    "X_meta = np.array([\n",
    "    cross_val_predict(clf, X_train, y_train, cv=deepcopy(cv), method='predict_proba')\n",
    "    for clf in (svc, knn)\n",
    "]).transpose(1, 2, 0)\n",
    "weighter = ClassifierWeighter().fit(X_meta, y_train)\n",
    "\n",
    "X_meta_test = np.array([\n",
    "    clf.predict_proba(X_test) for clf in (svc, knn)\n",
    "]).transpose(1, 2, 0)\n",
    "print(weighter.coef_)\n",
    "print(svc.score(X_test, y_test))\n",
    "print(knn.score(X_test, y_test))\n",
    "weighter.score(X_meta_test, y_test)"
   ]
  },
  {
   "cell_type": "code",
   "execution_count": null,
   "metadata": {},
   "outputs": [],
   "source": [
    "from fast_automl.ensemble import RFEVotingClassifierCV\n",
    "\n",
    "from sklearn.datasets import load_breast_cancer\n",
    "from sklearn.ensemble import RandomForestClassifier\n",
    "from sklearn.model_selection import cross_val_score, train_test_split\n",
    "from sklearn.neighbors import KNeighborsClassifier\n",
    "from sklearn.svm import SVC\n",
    "\n",
    "X, y = load_breast_cancer(return_X_y=True)\n",
    "X_train, X_test, y_train, y_test = train_test_split(X, y, stratify=y, shuffle=True)\n",
    "\n",
    "clf = RFEVotingClassifierCV([\n",
    "    ('rf', RandomForestClassifier()),\n",
    "    ('knn', KNeighborsClassifier()),\n",
    "    ('svm', SVC(probability=True))\n",
    "]).fit(X_train, y_train)\n",
    "print('CV score: {:.4f}'.format(cross_val_score(clf.best_estimator_, X_train, y_train).mean()))\n",
    "print('Test score: {:.4f}'.format(clf.score(X_test, y_test)))"
   ]
  },
  {
   "cell_type": "code",
   "execution_count": null,
   "metadata": {},
   "outputs": [],
   "source": [
    "from fast_automl.ensemble import RFEVotingRegressorCV\n",
    "\n",
    "from sklearn.datasets import load_boston\n",
    "from sklearn.ensemble import RandomForestRegressor\n",
    "from sklearn.model_selection import cross_val_score, train_test_split\n",
    "from sklearn.neighbors import KNeighborsRegressor\n",
    "from sklearn.svm import SVR\n",
    "\n",
    "X, y = load_boston(return_X_y=True)\n",
    "X_train, X_test, y_train, y_test = train_test_split(X, y, shuffle=True)\n",
    "\n",
    "reg = RFEVotingRegressorCV([\n",
    "    ('rf', RandomForestRegressor()),\n",
    "    ('knn', KNeighborsRegressor()),\n",
    "    ('svm', SVR())\n",
    "]).fit(X_train, y_train)\n",
    "print('CV score: {:.4f}'.format(cross_val_score(reg.best_estimator_, X_train, y_train).mean()))\n",
    "print('Test score: {:.4f}'.format(reg.score(X_test, y_test)))"
   ]
  },
  {
   "cell_type": "code",
   "execution_count": null,
   "metadata": {},
   "outputs": [],
   "source": [
    "from fast_automl.ensemble import StepwiseVotingClassifierCV\n",
    "\n",
    "from sklearn.datasets import load_iris\n",
    "from sklearn.ensemble import RandomForestClassifier\n",
    "from sklearn.model_selection import cross_val_score, train_test_split\n",
    "from sklearn.neighbors import KNeighborsClassifier\n",
    "from sklearn.svm import SVC\n",
    "\n",
    "X, y = load_iris(return_X_y=True)\n",
    "X_train, X_test, y_train, y_test = train_test_split(X, y, stratify=y, shuffle=True)\n",
    "\n",
    "clf = StepwiseVotingClassifierCV([\n",
    "    ('rf', RandomForestClassifier()),\n",
    "    ('knn', KNeighborsClassifier()),\n",
    "    ('svm', SVC(probability=True))\n",
    "]).fit(X_train, y_train)\n",
    "print('CV score: {:.4f}'.format(cross_val_score(clf.best_estimator_, X_train, y_train).mean()))\n",
    "print('Test score: {:.4f}'.format(clf.score(X_test, y_test)))"
   ]
  },
  {
   "cell_type": "code",
   "execution_count": null,
   "metadata": {},
   "outputs": [],
   "source": [
    "from fast_automl.ensemble import StepwiseVotingRegressorCV\n",
    "\n",
    "from sklearn.datasets import load_diabetes\n",
    "from sklearn.ensemble import RandomForestRegressor\n",
    "from sklearn.model_selection import cross_val_score, train_test_split\n",
    "from sklearn.neighbors import KNeighborsRegressor\n",
    "from sklearn.svm import SVR\n",
    "\n",
    "X, y = load_diabetes(return_X_y=True)\n",
    "X_train, X_test, y_train, y_test = train_test_split(X, y, shuffle=True)\n",
    "\n",
    "reg = StepwiseVotingRegressorCV([\n",
    "    ('rf', RandomForestRegressor()),\n",
    "    ('knn', KNeighborsRegressor()),\n",
    "    ('svm', SVR())\n",
    "]).fit(X_train, y_train)\n",
    "print('CV score: {:.4f}'.format(cross_val_score(reg.best_estimator_, X_train, y_train).mean()))\n",
    "print('Test score: {:.4f}'.format(reg.score(X_test, y_test)))"
   ]
  },
  {
   "cell_type": "code",
   "execution_count": null,
   "metadata": {},
   "outputs": [],
   "source": [
    "%%time\n",
    "\n",
    "from fast_automl.automl import AutoClassifier\n",
    "\n",
    "from sklearn.datasets import load_digits\n",
    "from sklearn.model_selection import cross_val_score, train_test_split\n",
    "\n",
    "X, y = load_digits(return_X_y=True)\n",
    "X_train, X_test, y_train, y_test = train_test_split(X, y, shuffle=True, stratify=y)\n",
    "\n",
    "clf = AutoClassifier(ensemble_method='stepwise', n_jobs=-1, verbose=True).fit(X_train, y_train)\n",
    "print('CV score: {:.4f}'.format(cross_val_score(clf.best_estimator_, X_train, y_train).mean()))\n",
    "print('Test score: {:.4f}'.format(clf.score(X_test, y_test)))"
   ]
  },
  {
   "cell_type": "code",
   "execution_count": null,
   "metadata": {},
   "outputs": [],
   "source": [
    "from fast_automl.metrics import roc_auc_score\n",
    "\n",
    "roc_auc_score(y_test, clf.predict_proba(X_test))"
   ]
  },
  {
   "cell_type": "code",
   "execution_count": null,
   "metadata": {},
   "outputs": [],
   "source": [
    "%%time\n",
    "\n",
    "from fast_automl.automl import AutoRegressor\n",
    "\n",
    "from sklearn.datasets import load_diabetes\n",
    "from sklearn.model_selection import cross_val_score, train_test_split\n",
    "\n",
    "X, y = load_diabetes(return_X_y=True)\n",
    "X_train, X_test, y_train, y_test = train_test_split(X, y, shuffle=True)\n",
    "\n",
    "reg = AutoRegressor(n_jobs=-1, verbose=True).fit(X_train, y_train)\n",
    "print('CV score: {:.4f}'.format(cross_val_score(reg.best_estimator_, X_train, y_train).mean()))\n",
    "print('Test score: {:.4f}'.format(reg.score(X_test, y_test)))"
   ]
  },
  {
   "cell_type": "code",
   "execution_count": null,
   "metadata": {},
   "outputs": [],
   "source": [
    "from fast_automl.metrics import check_scoring\n",
    "\n",
    "import numpy as np\n",
    "import pandas as pd\n",
    "from scipy.stats import t as t_distribution\n",
    "from sklearn.base import clone, is_classifier\n",
    "from sklearn.model_selection import check_cv\n",
    "from joblib import Parallel, delayed\n",
    "\n",
    "def _compute_pairwise_diff(estimators, X, y, repetitions, cv, scoring=None, n_jobs=None):\n",
    "    def fold_score(estimator, train_idx, test_idx):\n",
    "        if isinstance(X, pd.DataFrame):\n",
    "            X_train, X_test = X.iloc[train_idx], X.iloc[test_idx]\n",
    "        else:\n",
    "            X_train, X_test = X[train_idx], X[test_idx]\n",
    "        y_train, y_test = y[train_idx], y[test_idx]\n",
    "        estimator.fit(X_train, y_train)\n",
    "        return scoring(estimator, X_test, y_test)\n",
    "    \n",
    "    scoring = check_scoring(scoring, classifier=is_classifier(estimators[0]))\n",
    "    cv = check_cv(cv, y=y, classifier=is_classifier(estimators[0]))\n",
    "    if hasattr(cv, 'shuffle'):\n",
    "        cv.shuffle = True\n",
    "    scores = Parallel(n_jobs=n_jobs)(\n",
    "        delayed(fold_score)(\n",
    "            clone(est), train_idx, test_idx\n",
    "        )\n",
    "        for _ in range(repetitions)\n",
    "        for train_idx, test_idx in cv.split(X)\n",
    "        for name, est in estimators\n",
    "    )\n",
    "    scores = np.array(scores).reshape(-1, len(estimators))\n",
    "    return np.array([\n",
    "        scores[:,i]-scores[:,j]\n",
    "        for i in range(len(estimators)) \n",
    "        for j in range(i+1, len(estimators))\n",
    "    ]).T\n",
    "\n",
    "def _collect_dataframe(estimators, pairwise_diff_mean, pairwise_diff_std, t_stats, p_vals):\n",
    "    df = pd.DataFrame([\n",
    "        {\n",
    "            'Estimator1': estimators[i][0],\n",
    "            'Estimator2': estimators[j][0]\n",
    "        }\n",
    "        for i in range(len(estimators))\n",
    "        for j in range(i+1, len(estimators))\n",
    "    ])\n",
    "    df['PerformanceDifference'] = pairwise_diff_mean\n",
    "    df['Std'] = pairwise_diff_std\n",
    "    df['t-stat'] = t_stats\n",
    "    df['p-value'] = p_vals\n",
    "    return df\n",
    "\n",
    "def corrected_repeated_kfold_cv_test(\n",
    "        estimators, X, y, repetitions=10, cv=10, scoring=None, n_jobs=None\n",
    "    ):\n",
    "    # corrected repeated k-fold cv test\n",
    "    cv = check_cv(cv, y=y, classifier=is_classifier(estimators[0]))\n",
    "    pairwise_diff = _compute_pairwise_diff(estimators, X, y, repetitions, cv, scoring, n_jobs)\n",
    "    # Nadeau and Bengio correction\n",
    "    # https://www.cs.waikato.ac.nz/~eibe/pubs/bouckaert_and_frank.pdf\n",
    "    pairwise_diff_var = pairwise_diff.var(ddof=1, axis=0)\n",
    "    k = cv.get_n_splits(X)\n",
    "    pairwise_diff_var *= 1./(k * repetitions) + 1./(k-1)\n",
    "    # compute statistics\n",
    "    pairwise_diff_mean = pairwise_diff.mean(axis=0)\n",
    "    pairwise_diff_std = np.sqrt(pairwise_diff_var)\n",
    "    t_stats = pairwise_diff_mean / pairwise_diff_std\n",
    "    df = k * repetitions - 1\n",
    "    p_vals = [t_distribution.sf(abs(t_stat), df)*2 for t_stat in t_stats]\n",
    "    return _collect_dataframe(estimators, pairwise_diff_mean, pairwise_diff_std, t_stats, p_vals)"
   ]
  },
  {
   "cell_type": "code",
   "execution_count": null,
   "metadata": {
    "scrolled": true
   },
   "outputs": [],
   "source": [
    "%%time\n",
    "\n",
    "from fast_automl.test import corrected_repeated_kfold_cv_test\n",
    "\n",
    "from sklearn.datasets import load_boston\n",
    "from sklearn.ensemble import RandomForestRegressor\n",
    "from sklearn.linear_model import Ridge\n",
    "from sklearn.svm import SVR\n",
    "\n",
    "X, y = load_boston(return_X_y=True)\n",
    "corrected_repeated_kfold_cv_test(\n",
    "    [\n",
    "        ('rf', RandomForestRegressor()),\n",
    "        ('rf', RandomForestRegressor()),\n",
    "        ('ridge', Ridge()),\n",
    "        ('svm', SVR())\n",
    "    ],\n",
    "    X, y, n_jobs=-1\n",
    ")"
   ]
  },
  {
   "cell_type": "code",
   "execution_count": null,
   "metadata": {},
   "outputs": [],
   "source": [
    "%%time\n",
    "\n",
    "from fast_automl.test import r_by_k_cv_test\n",
    "\n",
    "from sklearn.datasets import load_boston\n",
    "from sklearn.ensemble import RandomForestRegressor\n",
    "from sklearn.linear_model import Ridge\n",
    "from sklearn.svm import SVR\n",
    "\n",
    "X, y = load_boston(return_X_y=True)\n",
    "r_by_k_cv_test(\n",
    "    [\n",
    "        ('rf', RandomForestRegressor()),\n",
    "        ('ridge', Ridge()),\n",
    "        ('svm', SVR())\n",
    "    ],\n",
    "    X, y, n_jobs=-1\n",
    ")"
   ]
  },
  {
   "cell_type": "code",
   "execution_count": 3,
   "metadata": {},
   "outputs": [
    {
     "data": {
      "text/plain": [
       "-123503.49999999988"
      ]
     },
     "execution_count": 3,
     "metadata": {},
     "output_type": "execute_result"
    }
   ],
   "source": [
    "from fast_automl.utils import BoundRegressor\n",
    "\n",
    "import numpy as np\n",
    "from sklearn.linear_model import LinearRegression\n",
    "\n",
    "X_train = np.array([\n",
    "    [1, 2],\n",
    "    [7, 8]\n",
    "])\n",
    "X_test = np.array([\n",
    "    [3, 4],\n",
    "    [5, 1000]\n",
    "])\n",
    "y_train = np.array([1.5, 7.5])\n",
    "y_test = np.array([3.5, 5.5])\n",
    "\n",
    "reg = LinearRegression().fit(X_train, y_train)\n",
    "reg.score(X_test, y_test)"
   ]
  },
  {
   "cell_type": "code",
   "execution_count": 4,
   "metadata": {},
   "outputs": [
    {
     "data": {
      "text/plain": [
       "-1.0"
      ]
     },
     "execution_count": 4,
     "metadata": {},
     "output_type": "execute_result"
    }
   ],
   "source": [
    "reg = BoundRegressor(LinearRegression()).fit(X_train, y_train)\n",
    "reg.score(X_test, y_test)"
   ]
  },
  {
   "cell_type": "code",
   "execution_count": 6,
   "metadata": {},
   "outputs": [
    {
     "data": {
      "text/plain": [
       "array([3.5, 7.5])"
      ]
     },
     "execution_count": 6,
     "metadata": {},
     "output_type": "execute_result"
    }
   ],
   "source": [
    "reg.predict(X_test)"
   ]
  },
  {
   "cell_type": "code",
   "execution_count": null,
   "metadata": {},
   "outputs": [],
   "source": []
  }
 ],
 "metadata": {
  "kernelspec": {
   "display_name": "ml-inference",
   "language": "python",
   "name": "ml-inference"
  },
  "language_info": {
   "codemirror_mode": {
    "name": "ipython",
    "version": 3
   },
   "file_extension": ".py",
   "mimetype": "text/x-python",
   "name": "python",
   "nbconvert_exporter": "python",
   "pygments_lexer": "ipython3",
   "version": "3.9.1"
  },
  "toc": {
   "base_numbering": 1,
   "nav_menu": {},
   "number_sections": true,
   "sideBar": true,
   "skip_h1_title": false,
   "title_cell": "Table of Contents",
   "title_sidebar": "Contents",
   "toc_cell": false,
   "toc_position": {},
   "toc_section_display": true,
   "toc_window_display": false
  },
  "varInspector": {
   "cols": {
    "lenName": 16,
    "lenType": 16,
    "lenVar": 40
   },
   "kernels_config": {
    "python": {
     "delete_cmd_postfix": "",
     "delete_cmd_prefix": "del ",
     "library": "var_list.py",
     "varRefreshCmd": "print(var_dic_list())"
    },
    "r": {
     "delete_cmd_postfix": ") ",
     "delete_cmd_prefix": "rm(",
     "library": "var_list.r",
     "varRefreshCmd": "cat(var_dic_list()) "
    }
   },
   "types_to_exclude": [
    "module",
    "function",
    "builtin_function_or_method",
    "instance",
    "_Feature"
   ],
   "window_display": false
  }
 },
 "nbformat": 4,
 "nbformat_minor": 4
}
